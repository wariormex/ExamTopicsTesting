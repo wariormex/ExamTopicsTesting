{
 "cells": [
  {
   "cell_type": "markdown",
   "metadata": {},
   "source": [
    "Get Dependencies"
   ]
  },
  {
   "cell_type": "code",
   "execution_count": 1,
   "metadata": {},
   "outputs": [
    {
     "name": "stderr",
     "output_type": "stream",
     "text": [
      "C:\\Users\\wario\\AppData\\Local\\Temp\\ipykernel_22012\\737500511.py:2: DeprecationWarning: Importing display from IPython.core.display is deprecated since IPython 7.14, please import from IPython display\n",
      "  from IPython.core.display import display, HTML\n"
     ]
    }
   ],
   "source": [
    "from bs4 import BeautifulSoup as bp\n",
    "from IPython.core.display import display, HTML\n",
    "from IPython.display import IFrame\n",
    "import pandas as pd\n",
    "import re"
   ]
  },
  {
   "cell_type": "markdown",
   "metadata": {},
   "source": [
    "Extract HTML data from local webpage image"
   ]
  },
  {
   "cell_type": "code",
   "execution_count": 2,
   "metadata": {},
   "outputs": [],
   "source": [
    "rPathHTML = 'AZ-104_Exam_ ExamTopics.html'"
   ]
  },
  {
   "cell_type": "code",
   "execution_count": 3,
   "metadata": {},
   "outputs": [],
   "source": [
    "# Opening the html file\n",
    "HTMLFile = open(rPathHTML,  encoding=\"utf8\")\n",
    "  \n",
    "# Reading the file\n",
    "S = bp(HTMLFile, 'html.parser')"
   ]
  },
  {
   "cell_type": "code",
   "execution_count": 4,
   "metadata": {},
   "outputs": [],
   "source": [
    "# print(S)"
   ]
  },
  {
   "cell_type": "code",
   "execution_count": 5,
   "metadata": {},
   "outputs": [],
   "source": [
    "questions = S.find_all('div',{'class':'exam-question-card'})"
   ]
  },
  {
   "cell_type": "code",
   "execution_count": 6,
   "metadata": {},
   "outputs": [],
   "source": [
    "for question in questions:\n",
    "    question.find('p',{'class':'question-answer'}).decompose()"
   ]
  },
  {
   "cell_type": "code",
   "execution_count": 7,
   "metadata": {},
   "outputs": [
    {
     "name": "stdout",
     "output_type": "stream",
     "text": [
      "530\n"
     ]
    }
   ],
   "source": [
    "print(len(questions))"
   ]
  },
  {
   "cell_type": "code",
   "execution_count": 8,
   "metadata": {},
   "outputs": [],
   "source": [
    "# testQHTML = None\n",
    "# for q in questions:\n",
    "#     testQHTML = q\n",
    "#     print(q)\n",
    "#     break"
   ]
  },
  {
   "cell_type": "markdown",
   "metadata": {},
   "source": [
    "Analyze question bank"
   ]
  },
  {
   "cell_type": "code",
   "execution_count": 9,
   "metadata": {},
   "outputs": [
    {
     "data": {
      "text/plain": [
       "['Topic 1',\n",
       " 'Topic 2',\n",
       " 'Topic 3',\n",
       " 'Topic 4',\n",
       " 'Topic 5',\n",
       " 'Topic 6',\n",
       " 'Topic 7',\n",
       " 'Topic 8',\n",
       " 'Topic 9',\n",
       " 'Topic 10',\n",
       " 'Topic 11',\n",
       " 'Topic 12',\n",
       " 'Topic 13',\n",
       " 'Topic 14',\n",
       " 'Topic 15',\n",
       " 'Topic 16']"
      ]
     },
     "execution_count": 9,
     "metadata": {},
     "output_type": "execute_result"
    }
   ],
   "source": [
    "topics = []\n",
    "for question in questions:\n",
    "    topic = question.find('span').get_text().strip()\n",
    "    if topic not in topics:\n",
    "        topics.append(topic)\n",
    "topics"
   ]
  },
  {
   "cell_type": "code",
   "execution_count": 10,
   "metadata": {},
   "outputs": [
    {
     "data": {
      "text/plain": [
       "[40, 93, 80, 97, 145, 53, 2, 2, 2, 3, 3, 1, 2, 2, 3, 2]"
      ]
     },
     "execution_count": 10,
     "metadata": {},
     "output_type": "execute_result"
    }
   ],
   "source": [
    "questionsAmount = [0]*len(topics)\n",
    "for question in questions:\n",
    "    topic = re.findall(r'\\d+',question.find('span').get_text().strip())\n",
    "    questionsAmount[int(topic[0])-1] += 1\n",
    "questionsAmount"
   ]
  },
  {
   "cell_type": "code",
   "execution_count": 11,
   "metadata": {},
   "outputs": [],
   "source": [
    "topicType = []\n",
    "for qAmount in questionsAmount:\n",
    "    if qAmount <= 6:\n",
    "        topicType.append('CASE STUDY')\n",
    "    else:\n",
    "        topicType.append('NORMAL QUESTIONS')\n",
    "        "
   ]
  },
  {
   "cell_type": "code",
   "execution_count": 12,
   "metadata": {},
   "outputs": [],
   "source": [
    "data = {'Topics': topics,\n",
    "        'Questions': questionsAmount,   \n",
    "        'Topic Type': topicType\n",
    "}\n",
    "qEF = pd.DataFrame(data)\n"
   ]
  },
  {
   "cell_type": "markdown",
   "metadata": {},
   "source": [
    "Create question bank structure breakdown"
   ]
  },
  {
   "cell_type": "code",
   "execution_count": 13,
   "metadata": {},
   "outputs": [
    {
     "data": {
      "text/html": [
       "<div>\n",
       "<style scoped>\n",
       "    .dataframe tbody tr th:only-of-type {\n",
       "        vertical-align: middle;\n",
       "    }\n",
       "\n",
       "    .dataframe tbody tr th {\n",
       "        vertical-align: top;\n",
       "    }\n",
       "\n",
       "    .dataframe thead th {\n",
       "        text-align: right;\n",
       "    }\n",
       "</style>\n",
       "<table border=\"1\" class=\"dataframe\">\n",
       "  <thead>\n",
       "    <tr style=\"text-align: right;\">\n",
       "      <th></th>\n",
       "      <th>Topics</th>\n",
       "      <th>Questions</th>\n",
       "      <th>Topic Type</th>\n",
       "    </tr>\n",
       "  </thead>\n",
       "  <tbody>\n",
       "    <tr>\n",
       "      <th>0</th>\n",
       "      <td>Topic 1</td>\n",
       "      <td>40</td>\n",
       "      <td>NORMAL QUESTIONS</td>\n",
       "    </tr>\n",
       "    <tr>\n",
       "      <th>1</th>\n",
       "      <td>Topic 2</td>\n",
       "      <td>93</td>\n",
       "      <td>NORMAL QUESTIONS</td>\n",
       "    </tr>\n",
       "    <tr>\n",
       "      <th>2</th>\n",
       "      <td>Topic 3</td>\n",
       "      <td>80</td>\n",
       "      <td>NORMAL QUESTIONS</td>\n",
       "    </tr>\n",
       "    <tr>\n",
       "      <th>3</th>\n",
       "      <td>Topic 4</td>\n",
       "      <td>97</td>\n",
       "      <td>NORMAL QUESTIONS</td>\n",
       "    </tr>\n",
       "    <tr>\n",
       "      <th>4</th>\n",
       "      <td>Topic 5</td>\n",
       "      <td>145</td>\n",
       "      <td>NORMAL QUESTIONS</td>\n",
       "    </tr>\n",
       "    <tr>\n",
       "      <th>5</th>\n",
       "      <td>Topic 6</td>\n",
       "      <td>53</td>\n",
       "      <td>NORMAL QUESTIONS</td>\n",
       "    </tr>\n",
       "    <tr>\n",
       "      <th>6</th>\n",
       "      <td>Topic 7</td>\n",
       "      <td>2</td>\n",
       "      <td>CASE STUDY</td>\n",
       "    </tr>\n",
       "    <tr>\n",
       "      <th>7</th>\n",
       "      <td>Topic 8</td>\n",
       "      <td>2</td>\n",
       "      <td>CASE STUDY</td>\n",
       "    </tr>\n",
       "    <tr>\n",
       "      <th>8</th>\n",
       "      <td>Topic 9</td>\n",
       "      <td>2</td>\n",
       "      <td>CASE STUDY</td>\n",
       "    </tr>\n",
       "    <tr>\n",
       "      <th>9</th>\n",
       "      <td>Topic 10</td>\n",
       "      <td>3</td>\n",
       "      <td>CASE STUDY</td>\n",
       "    </tr>\n",
       "    <tr>\n",
       "      <th>10</th>\n",
       "      <td>Topic 11</td>\n",
       "      <td>3</td>\n",
       "      <td>CASE STUDY</td>\n",
       "    </tr>\n",
       "    <tr>\n",
       "      <th>11</th>\n",
       "      <td>Topic 12</td>\n",
       "      <td>1</td>\n",
       "      <td>CASE STUDY</td>\n",
       "    </tr>\n",
       "    <tr>\n",
       "      <th>12</th>\n",
       "      <td>Topic 13</td>\n",
       "      <td>2</td>\n",
       "      <td>CASE STUDY</td>\n",
       "    </tr>\n",
       "    <tr>\n",
       "      <th>13</th>\n",
       "      <td>Topic 14</td>\n",
       "      <td>2</td>\n",
       "      <td>CASE STUDY</td>\n",
       "    </tr>\n",
       "    <tr>\n",
       "      <th>14</th>\n",
       "      <td>Topic 15</td>\n",
       "      <td>3</td>\n",
       "      <td>CASE STUDY</td>\n",
       "    </tr>\n",
       "    <tr>\n",
       "      <th>15</th>\n",
       "      <td>Topic 16</td>\n",
       "      <td>2</td>\n",
       "      <td>CASE STUDY</td>\n",
       "    </tr>\n",
       "  </tbody>\n",
       "</table>\n",
       "</div>"
      ],
      "text/plain": [
       "      Topics  Questions        Topic Type\n",
       "0    Topic 1         40  NORMAL QUESTIONS\n",
       "1    Topic 2         93  NORMAL QUESTIONS\n",
       "2    Topic 3         80  NORMAL QUESTIONS\n",
       "3    Topic 4         97  NORMAL QUESTIONS\n",
       "4    Topic 5        145  NORMAL QUESTIONS\n",
       "5    Topic 6         53  NORMAL QUESTIONS\n",
       "6    Topic 7          2        CASE STUDY\n",
       "7    Topic 8          2        CASE STUDY\n",
       "8    Topic 9          2        CASE STUDY\n",
       "9   Topic 10          3        CASE STUDY\n",
       "10  Topic 11          3        CASE STUDY\n",
       "11  Topic 12          1        CASE STUDY\n",
       "12  Topic 13          2        CASE STUDY\n",
       "13  Topic 14          2        CASE STUDY\n",
       "14  Topic 15          3        CASE STUDY\n",
       "15  Topic 16          2        CASE STUDY"
      ]
     },
     "execution_count": 13,
     "metadata": {},
     "output_type": "execute_result"
    }
   ],
   "source": [
    "qEF"
   ]
  },
  {
   "cell_type": "markdown",
   "metadata": {},
   "source": [
    "Create question bank for random picking"
   ]
  },
  {
   "cell_type": "code",
   "execution_count": 14,
   "metadata": {},
   "outputs": [],
   "source": [
    "refNum = []\n",
    "questionNum = []\n",
    "questionTopic = []\n",
    "questionType = []\n",
    "location = 0\n",
    "qNum = 0\n",
    "for num in questionsAmount:\n",
    "    for q in range(num):\n",
    "        qNum += 1\n",
    "        refNum.append(qNum)\n",
    "        questionNum.append(q+1)\n",
    "        questionTopic.append(topics[location])\n",
    "        questionType.append(topicType[location])\n",
    "    location += 1\n",
    "        \n"
   ]
  },
  {
   "cell_type": "code",
   "execution_count": 15,
   "metadata": {},
   "outputs": [],
   "source": [
    "data = {'Ref#': refNum,\n",
    "        'Question':questionNum,\n",
    "        'Topic': questionTopic,   \n",
    "        'Topic Type': questionType\n",
    "}\n",
    "qF = pd.DataFrame(data)"
   ]
  },
  {
   "cell_type": "code",
   "execution_count": 16,
   "metadata": {},
   "outputs": [
    {
     "data": {
      "text/html": [
       "<div>\n",
       "<style scoped>\n",
       "    .dataframe tbody tr th:only-of-type {\n",
       "        vertical-align: middle;\n",
       "    }\n",
       "\n",
       "    .dataframe tbody tr th {\n",
       "        vertical-align: top;\n",
       "    }\n",
       "\n",
       "    .dataframe thead th {\n",
       "        text-align: right;\n",
       "    }\n",
       "</style>\n",
       "<table border=\"1\" class=\"dataframe\">\n",
       "  <thead>\n",
       "    <tr style=\"text-align: right;\">\n",
       "      <th></th>\n",
       "      <th>Ref#</th>\n",
       "      <th>Question</th>\n",
       "      <th>Topic</th>\n",
       "      <th>Topic Type</th>\n",
       "    </tr>\n",
       "  </thead>\n",
       "  <tbody>\n",
       "    <tr>\n",
       "      <th>0</th>\n",
       "      <td>1</td>\n",
       "      <td>1</td>\n",
       "      <td>Topic 1</td>\n",
       "      <td>NORMAL QUESTIONS</td>\n",
       "    </tr>\n",
       "    <tr>\n",
       "      <th>1</th>\n",
       "      <td>2</td>\n",
       "      <td>2</td>\n",
       "      <td>Topic 1</td>\n",
       "      <td>NORMAL QUESTIONS</td>\n",
       "    </tr>\n",
       "    <tr>\n",
       "      <th>2</th>\n",
       "      <td>3</td>\n",
       "      <td>3</td>\n",
       "      <td>Topic 1</td>\n",
       "      <td>NORMAL QUESTIONS</td>\n",
       "    </tr>\n",
       "    <tr>\n",
       "      <th>3</th>\n",
       "      <td>4</td>\n",
       "      <td>4</td>\n",
       "      <td>Topic 1</td>\n",
       "      <td>NORMAL QUESTIONS</td>\n",
       "    </tr>\n",
       "    <tr>\n",
       "      <th>4</th>\n",
       "      <td>5</td>\n",
       "      <td>5</td>\n",
       "      <td>Topic 1</td>\n",
       "      <td>NORMAL QUESTIONS</td>\n",
       "    </tr>\n",
       "    <tr>\n",
       "      <th>...</th>\n",
       "      <td>...</td>\n",
       "      <td>...</td>\n",
       "      <td>...</td>\n",
       "      <td>...</td>\n",
       "    </tr>\n",
       "    <tr>\n",
       "      <th>525</th>\n",
       "      <td>526</td>\n",
       "      <td>1</td>\n",
       "      <td>Topic 15</td>\n",
       "      <td>CASE STUDY</td>\n",
       "    </tr>\n",
       "    <tr>\n",
       "      <th>526</th>\n",
       "      <td>527</td>\n",
       "      <td>2</td>\n",
       "      <td>Topic 15</td>\n",
       "      <td>CASE STUDY</td>\n",
       "    </tr>\n",
       "    <tr>\n",
       "      <th>527</th>\n",
       "      <td>528</td>\n",
       "      <td>3</td>\n",
       "      <td>Topic 15</td>\n",
       "      <td>CASE STUDY</td>\n",
       "    </tr>\n",
       "    <tr>\n",
       "      <th>528</th>\n",
       "      <td>529</td>\n",
       "      <td>1</td>\n",
       "      <td>Topic 16</td>\n",
       "      <td>CASE STUDY</td>\n",
       "    </tr>\n",
       "    <tr>\n",
       "      <th>529</th>\n",
       "      <td>530</td>\n",
       "      <td>2</td>\n",
       "      <td>Topic 16</td>\n",
       "      <td>CASE STUDY</td>\n",
       "    </tr>\n",
       "  </tbody>\n",
       "</table>\n",
       "<p>530 rows × 4 columns</p>\n",
       "</div>"
      ],
      "text/plain": [
       "     Ref#  Question     Topic        Topic Type\n",
       "0       1         1   Topic 1  NORMAL QUESTIONS\n",
       "1       2         2   Topic 1  NORMAL QUESTIONS\n",
       "2       3         3   Topic 1  NORMAL QUESTIONS\n",
       "3       4         4   Topic 1  NORMAL QUESTIONS\n",
       "4       5         5   Topic 1  NORMAL QUESTIONS\n",
       "..    ...       ...       ...               ...\n",
       "525   526         1  Topic 15        CASE STUDY\n",
       "526   527         2  Topic 15        CASE STUDY\n",
       "527   528         3  Topic 15        CASE STUDY\n",
       "528   529         1  Topic 16        CASE STUDY\n",
       "529   530         2  Topic 16        CASE STUDY\n",
       "\n",
       "[530 rows x 4 columns]"
      ]
     },
     "execution_count": 16,
     "metadata": {},
     "output_type": "execute_result"
    }
   ],
   "source": [
    "qF"
   ]
  },
  {
   "cell_type": "markdown",
   "metadata": {},
   "source": [
    "Generate random exam"
   ]
  },
  {
   "cell_type": "code",
   "execution_count": 17,
   "metadata": {},
   "outputs": [
    {
     "data": {
      "text/html": [
       "<div>\n",
       "<style scoped>\n",
       "    .dataframe tbody tr th:only-of-type {\n",
       "        vertical-align: middle;\n",
       "    }\n",
       "\n",
       "    .dataframe tbody tr th {\n",
       "        vertical-align: top;\n",
       "    }\n",
       "\n",
       "    .dataframe thead th {\n",
       "        text-align: right;\n",
       "    }\n",
       "</style>\n",
       "<table border=\"1\" class=\"dataframe\">\n",
       "  <thead>\n",
       "    <tr style=\"text-align: right;\">\n",
       "      <th></th>\n",
       "      <th>Ref#</th>\n",
       "      <th>Question</th>\n",
       "      <th>Topic</th>\n",
       "      <th>Topic Type</th>\n",
       "    </tr>\n",
       "  </thead>\n",
       "  <tbody>\n",
       "    <tr>\n",
       "      <th>0</th>\n",
       "      <td>250</td>\n",
       "      <td>37</td>\n",
       "      <td>Topic 4</td>\n",
       "      <td>NORMAL QUESTIONS</td>\n",
       "    </tr>\n",
       "    <tr>\n",
       "      <th>1</th>\n",
       "      <td>472</td>\n",
       "      <td>17</td>\n",
       "      <td>Topic 6</td>\n",
       "      <td>NORMAL QUESTIONS</td>\n",
       "    </tr>\n",
       "    <tr>\n",
       "      <th>2</th>\n",
       "      <td>286</td>\n",
       "      <td>73</td>\n",
       "      <td>Topic 4</td>\n",
       "      <td>NORMAL QUESTIONS</td>\n",
       "    </tr>\n",
       "    <tr>\n",
       "      <th>3</th>\n",
       "      <td>313</td>\n",
       "      <td>3</td>\n",
       "      <td>Topic 5</td>\n",
       "      <td>NORMAL QUESTIONS</td>\n",
       "    </tr>\n",
       "    <tr>\n",
       "      <th>4</th>\n",
       "      <td>254</td>\n",
       "      <td>41</td>\n",
       "      <td>Topic 4</td>\n",
       "      <td>NORMAL QUESTIONS</td>\n",
       "    </tr>\n",
       "    <tr>\n",
       "      <th>5</th>\n",
       "      <td>329</td>\n",
       "      <td>19</td>\n",
       "      <td>Topic 5</td>\n",
       "      <td>NORMAL QUESTIONS</td>\n",
       "    </tr>\n",
       "    <tr>\n",
       "      <th>6</th>\n",
       "      <td>303</td>\n",
       "      <td>90</td>\n",
       "      <td>Topic 4</td>\n",
       "      <td>NORMAL QUESTIONS</td>\n",
       "    </tr>\n",
       "    <tr>\n",
       "      <th>7</th>\n",
       "      <td>124</td>\n",
       "      <td>84</td>\n",
       "      <td>Topic 2</td>\n",
       "      <td>NORMAL QUESTIONS</td>\n",
       "    </tr>\n",
       "    <tr>\n",
       "      <th>8</th>\n",
       "      <td>490</td>\n",
       "      <td>35</td>\n",
       "      <td>Topic 6</td>\n",
       "      <td>NORMAL QUESTIONS</td>\n",
       "    </tr>\n",
       "    <tr>\n",
       "      <th>9</th>\n",
       "      <td>272</td>\n",
       "      <td>59</td>\n",
       "      <td>Topic 4</td>\n",
       "      <td>NORMAL QUESTIONS</td>\n",
       "    </tr>\n",
       "    <tr>\n",
       "      <th>10</th>\n",
       "      <td>488</td>\n",
       "      <td>33</td>\n",
       "      <td>Topic 6</td>\n",
       "      <td>NORMAL QUESTIONS</td>\n",
       "    </tr>\n",
       "    <tr>\n",
       "      <th>11</th>\n",
       "      <td>181</td>\n",
       "      <td>48</td>\n",
       "      <td>Topic 3</td>\n",
       "      <td>NORMAL QUESTIONS</td>\n",
       "    </tr>\n",
       "    <tr>\n",
       "      <th>12</th>\n",
       "      <td>398</td>\n",
       "      <td>88</td>\n",
       "      <td>Topic 5</td>\n",
       "      <td>NORMAL QUESTIONS</td>\n",
       "    </tr>\n",
       "    <tr>\n",
       "      <th>13</th>\n",
       "      <td>67</td>\n",
       "      <td>27</td>\n",
       "      <td>Topic 2</td>\n",
       "      <td>NORMAL QUESTIONS</td>\n",
       "    </tr>\n",
       "    <tr>\n",
       "      <th>14</th>\n",
       "      <td>103</td>\n",
       "      <td>63</td>\n",
       "      <td>Topic 2</td>\n",
       "      <td>NORMAL QUESTIONS</td>\n",
       "    </tr>\n",
       "    <tr>\n",
       "      <th>15</th>\n",
       "      <td>400</td>\n",
       "      <td>90</td>\n",
       "      <td>Topic 5</td>\n",
       "      <td>NORMAL QUESTIONS</td>\n",
       "    </tr>\n",
       "    <tr>\n",
       "      <th>16</th>\n",
       "      <td>487</td>\n",
       "      <td>32</td>\n",
       "      <td>Topic 6</td>\n",
       "      <td>NORMAL QUESTIONS</td>\n",
       "    </tr>\n",
       "    <tr>\n",
       "      <th>17</th>\n",
       "      <td>21</td>\n",
       "      <td>21</td>\n",
       "      <td>Topic 1</td>\n",
       "      <td>NORMAL QUESTIONS</td>\n",
       "    </tr>\n",
       "    <tr>\n",
       "      <th>18</th>\n",
       "      <td>98</td>\n",
       "      <td>58</td>\n",
       "      <td>Topic 2</td>\n",
       "      <td>NORMAL QUESTIONS</td>\n",
       "    </tr>\n",
       "    <tr>\n",
       "      <th>19</th>\n",
       "      <td>55</td>\n",
       "      <td>15</td>\n",
       "      <td>Topic 2</td>\n",
       "      <td>NORMAL QUESTIONS</td>\n",
       "    </tr>\n",
       "    <tr>\n",
       "      <th>20</th>\n",
       "      <td>350</td>\n",
       "      <td>40</td>\n",
       "      <td>Topic 5</td>\n",
       "      <td>NORMAL QUESTIONS</td>\n",
       "    </tr>\n",
       "    <tr>\n",
       "      <th>21</th>\n",
       "      <td>522</td>\n",
       "      <td>1</td>\n",
       "      <td>Topic 13</td>\n",
       "      <td>CASE STUDY</td>\n",
       "    </tr>\n",
       "    <tr>\n",
       "      <th>22</th>\n",
       "      <td>64</td>\n",
       "      <td>24</td>\n",
       "      <td>Topic 2</td>\n",
       "      <td>NORMAL QUESTIONS</td>\n",
       "    </tr>\n",
       "    <tr>\n",
       "      <th>23</th>\n",
       "      <td>340</td>\n",
       "      <td>30</td>\n",
       "      <td>Topic 5</td>\n",
       "      <td>NORMAL QUESTIONS</td>\n",
       "    </tr>\n",
       "    <tr>\n",
       "      <th>24</th>\n",
       "      <td>27</td>\n",
       "      <td>27</td>\n",
       "      <td>Topic 1</td>\n",
       "      <td>NORMAL QUESTIONS</td>\n",
       "    </tr>\n",
       "    <tr>\n",
       "      <th>25</th>\n",
       "      <td>172</td>\n",
       "      <td>39</td>\n",
       "      <td>Topic 3</td>\n",
       "      <td>NORMAL QUESTIONS</td>\n",
       "    </tr>\n",
       "    <tr>\n",
       "      <th>26</th>\n",
       "      <td>177</td>\n",
       "      <td>44</td>\n",
       "      <td>Topic 3</td>\n",
       "      <td>NORMAL QUESTIONS</td>\n",
       "    </tr>\n",
       "    <tr>\n",
       "      <th>27</th>\n",
       "      <td>141</td>\n",
       "      <td>8</td>\n",
       "      <td>Topic 3</td>\n",
       "      <td>NORMAL QUESTIONS</td>\n",
       "    </tr>\n",
       "    <tr>\n",
       "      <th>28</th>\n",
       "      <td>121</td>\n",
       "      <td>81</td>\n",
       "      <td>Topic 2</td>\n",
       "      <td>NORMAL QUESTIONS</td>\n",
       "    </tr>\n",
       "    <tr>\n",
       "      <th>29</th>\n",
       "      <td>215</td>\n",
       "      <td>2</td>\n",
       "      <td>Topic 4</td>\n",
       "      <td>NORMAL QUESTIONS</td>\n",
       "    </tr>\n",
       "    <tr>\n",
       "      <th>30</th>\n",
       "      <td>394</td>\n",
       "      <td>84</td>\n",
       "      <td>Topic 5</td>\n",
       "      <td>NORMAL QUESTIONS</td>\n",
       "    </tr>\n",
       "    <tr>\n",
       "      <th>31</th>\n",
       "      <td>207</td>\n",
       "      <td>74</td>\n",
       "      <td>Topic 3</td>\n",
       "      <td>NORMAL QUESTIONS</td>\n",
       "    </tr>\n",
       "    <tr>\n",
       "      <th>32</th>\n",
       "      <td>387</td>\n",
       "      <td>77</td>\n",
       "      <td>Topic 5</td>\n",
       "      <td>NORMAL QUESTIONS</td>\n",
       "    </tr>\n",
       "    <tr>\n",
       "      <th>33</th>\n",
       "      <td>458</td>\n",
       "      <td>3</td>\n",
       "      <td>Topic 6</td>\n",
       "      <td>NORMAL QUESTIONS</td>\n",
       "    </tr>\n",
       "    <tr>\n",
       "      <th>34</th>\n",
       "      <td>388</td>\n",
       "      <td>78</td>\n",
       "      <td>Topic 5</td>\n",
       "      <td>NORMAL QUESTIONS</td>\n",
       "    </tr>\n",
       "    <tr>\n",
       "      <th>35</th>\n",
       "      <td>2</td>\n",
       "      <td>2</td>\n",
       "      <td>Topic 1</td>\n",
       "      <td>NORMAL QUESTIONS</td>\n",
       "    </tr>\n",
       "    <tr>\n",
       "      <th>36</th>\n",
       "      <td>261</td>\n",
       "      <td>48</td>\n",
       "      <td>Topic 4</td>\n",
       "      <td>NORMAL QUESTIONS</td>\n",
       "    </tr>\n",
       "    <tr>\n",
       "      <th>37</th>\n",
       "      <td>111</td>\n",
       "      <td>71</td>\n",
       "      <td>Topic 2</td>\n",
       "      <td>NORMAL QUESTIONS</td>\n",
       "    </tr>\n",
       "    <tr>\n",
       "      <th>38</th>\n",
       "      <td>198</td>\n",
       "      <td>65</td>\n",
       "      <td>Topic 3</td>\n",
       "      <td>NORMAL QUESTIONS</td>\n",
       "    </tr>\n",
       "    <tr>\n",
       "      <th>39</th>\n",
       "      <td>144</td>\n",
       "      <td>11</td>\n",
       "      <td>Topic 3</td>\n",
       "      <td>NORMAL QUESTIONS</td>\n",
       "    </tr>\n",
       "    <tr>\n",
       "      <th>40</th>\n",
       "      <td>454</td>\n",
       "      <td>144</td>\n",
       "      <td>Topic 5</td>\n",
       "      <td>NORMAL QUESTIONS</td>\n",
       "    </tr>\n",
       "    <tr>\n",
       "      <th>41</th>\n",
       "      <td>371</td>\n",
       "      <td>61</td>\n",
       "      <td>Topic 5</td>\n",
       "      <td>NORMAL QUESTIONS</td>\n",
       "    </tr>\n",
       "    <tr>\n",
       "      <th>42</th>\n",
       "      <td>197</td>\n",
       "      <td>64</td>\n",
       "      <td>Topic 3</td>\n",
       "      <td>NORMAL QUESTIONS</td>\n",
       "    </tr>\n",
       "    <tr>\n",
       "      <th>43</th>\n",
       "      <td>335</td>\n",
       "      <td>25</td>\n",
       "      <td>Topic 5</td>\n",
       "      <td>NORMAL QUESTIONS</td>\n",
       "    </tr>\n",
       "    <tr>\n",
       "      <th>44</th>\n",
       "      <td>364</td>\n",
       "      <td>54</td>\n",
       "      <td>Topic 5</td>\n",
       "      <td>NORMAL QUESTIONS</td>\n",
       "    </tr>\n",
       "    <tr>\n",
       "      <th>45</th>\n",
       "      <td>341</td>\n",
       "      <td>31</td>\n",
       "      <td>Topic 5</td>\n",
       "      <td>NORMAL QUESTIONS</td>\n",
       "    </tr>\n",
       "    <tr>\n",
       "      <th>46</th>\n",
       "      <td>110</td>\n",
       "      <td>70</td>\n",
       "      <td>Topic 2</td>\n",
       "      <td>NORMAL QUESTIONS</td>\n",
       "    </tr>\n",
       "    <tr>\n",
       "      <th>47</th>\n",
       "      <td>291</td>\n",
       "      <td>78</td>\n",
       "      <td>Topic 4</td>\n",
       "      <td>NORMAL QUESTIONS</td>\n",
       "    </tr>\n",
       "    <tr>\n",
       "      <th>48</th>\n",
       "      <td>76</td>\n",
       "      <td>36</td>\n",
       "      <td>Topic 2</td>\n",
       "      <td>NORMAL QUESTIONS</td>\n",
       "    </tr>\n",
       "    <tr>\n",
       "      <th>49</th>\n",
       "      <td>63</td>\n",
       "      <td>23</td>\n",
       "      <td>Topic 2</td>\n",
       "      <td>NORMAL QUESTIONS</td>\n",
       "    </tr>\n",
       "  </tbody>\n",
       "</table>\n",
       "</div>"
      ],
      "text/plain": [
       "    Ref#  Question     Topic        Topic Type\n",
       "0    250        37   Topic 4  NORMAL QUESTIONS\n",
       "1    472        17   Topic 6  NORMAL QUESTIONS\n",
       "2    286        73   Topic 4  NORMAL QUESTIONS\n",
       "3    313         3   Topic 5  NORMAL QUESTIONS\n",
       "4    254        41   Topic 4  NORMAL QUESTIONS\n",
       "5    329        19   Topic 5  NORMAL QUESTIONS\n",
       "6    303        90   Topic 4  NORMAL QUESTIONS\n",
       "7    124        84   Topic 2  NORMAL QUESTIONS\n",
       "8    490        35   Topic 6  NORMAL QUESTIONS\n",
       "9    272        59   Topic 4  NORMAL QUESTIONS\n",
       "10   488        33   Topic 6  NORMAL QUESTIONS\n",
       "11   181        48   Topic 3  NORMAL QUESTIONS\n",
       "12   398        88   Topic 5  NORMAL QUESTIONS\n",
       "13    67        27   Topic 2  NORMAL QUESTIONS\n",
       "14   103        63   Topic 2  NORMAL QUESTIONS\n",
       "15   400        90   Topic 5  NORMAL QUESTIONS\n",
       "16   487        32   Topic 6  NORMAL QUESTIONS\n",
       "17    21        21   Topic 1  NORMAL QUESTIONS\n",
       "18    98        58   Topic 2  NORMAL QUESTIONS\n",
       "19    55        15   Topic 2  NORMAL QUESTIONS\n",
       "20   350        40   Topic 5  NORMAL QUESTIONS\n",
       "21   522         1  Topic 13        CASE STUDY\n",
       "22    64        24   Topic 2  NORMAL QUESTIONS\n",
       "23   340        30   Topic 5  NORMAL QUESTIONS\n",
       "24    27        27   Topic 1  NORMAL QUESTIONS\n",
       "25   172        39   Topic 3  NORMAL QUESTIONS\n",
       "26   177        44   Topic 3  NORMAL QUESTIONS\n",
       "27   141         8   Topic 3  NORMAL QUESTIONS\n",
       "28   121        81   Topic 2  NORMAL QUESTIONS\n",
       "29   215         2   Topic 4  NORMAL QUESTIONS\n",
       "30   394        84   Topic 5  NORMAL QUESTIONS\n",
       "31   207        74   Topic 3  NORMAL QUESTIONS\n",
       "32   387        77   Topic 5  NORMAL QUESTIONS\n",
       "33   458         3   Topic 6  NORMAL QUESTIONS\n",
       "34   388        78   Topic 5  NORMAL QUESTIONS\n",
       "35     2         2   Topic 1  NORMAL QUESTIONS\n",
       "36   261        48   Topic 4  NORMAL QUESTIONS\n",
       "37   111        71   Topic 2  NORMAL QUESTIONS\n",
       "38   198        65   Topic 3  NORMAL QUESTIONS\n",
       "39   144        11   Topic 3  NORMAL QUESTIONS\n",
       "40   454       144   Topic 5  NORMAL QUESTIONS\n",
       "41   371        61   Topic 5  NORMAL QUESTIONS\n",
       "42   197        64   Topic 3  NORMAL QUESTIONS\n",
       "43   335        25   Topic 5  NORMAL QUESTIONS\n",
       "44   364        54   Topic 5  NORMAL QUESTIONS\n",
       "45   341        31   Topic 5  NORMAL QUESTIONS\n",
       "46   110        70   Topic 2  NORMAL QUESTIONS\n",
       "47   291        78   Topic 4  NORMAL QUESTIONS\n",
       "48    76        36   Topic 2  NORMAL QUESTIONS\n",
       "49    63        23   Topic 2  NORMAL QUESTIONS"
      ]
     },
     "execution_count": 17,
     "metadata": {},
     "output_type": "execute_result"
    }
   ],
   "source": [
    "eF = qF.sample(n=50)\n",
    "eF =eF.reset_index(drop=True)\n",
    "eF"
   ]
  },
  {
   "cell_type": "code",
   "execution_count": 18,
   "metadata": {},
   "outputs": [],
   "source": [
    "# HTMLFile = open('HTML\\AI_102_Question.html',  encoding=\"utf8\")\n",
    "# Q = bp(HTMLFile, 'html.parser')"
   ]
  },
  {
   "cell_type": "code",
   "execution_count": 19,
   "metadata": {},
   "outputs": [],
   "source": [
    "htmlQRef =eF['Ref#'].values.tolist()"
   ]
  },
  {
   "cell_type": "markdown",
   "metadata": {},
   "source": [
    "Generate Exam HTML"
   ]
  },
  {
   "cell_type": "markdown",
   "metadata": {},
   "source": [
    "Question 1"
   ]
  },
  {
   "cell_type": "code",
   "execution_count": 20,
   "metadata": {},
   "outputs": [
    {
     "data": {
      "text/html": [
       "<body><html><div class=\"card exam-question-card\">\n",
       "<div class=\"card-header text-white bg-primary\">\n",
       "                                    Question #38\n",
       "                                    <span class=\"question-title-topic pull-right\">\n",
       "                                        Topic 4\n",
       "                                    </span>\n",
       "</div>\n",
       "<div class=\"card-body question-body\" data-id=\"804440\">\n",
       "<p class=\"card-text\">\n",
       "                                        \n",
       "                                        \n",
       "                                            HOTSPOT -<br/>You have an Azure subscription named Subscription1 that contains the following resource group:<br/>✑ Name: RG1<br/>✑ Region: West US<br/>✑ Tag: `tag1`: `value1`<br/>You assign an Azure policy named Policy1 to Subscription1 by using the following configurations:<br/>✑ Exclusions: None<br/>✑ Policy definition: Append a tag and its value to resources<br/>✑ Assignment name: Policy1<br/>✑ Parameters:<br/>✑ Tag name: tag2<br/><br/>Tag value: value2 -<br/><img class=\"in-exam-image\" src=\"./AZ-104_Exam_ ExamTopics_files/0027800009.png\"/><br/>After Policy1 is assigned, you create a storage account that has the following configuration:<br/>✑ Name: storage1<br/>✑ Location: West US<br/>✑ Resource group: RG1<br/>✑ Tags: `tag3`: `value3`<br/>You need to identify which tags are assigned to each resource.<br/>What should you identify? To answer, select the appropriate options in the answer area.<br/>NOTE: Each correct selection is worth one point.<br/>Hot Area:<br/><img class=\"in-exam-image\" src=\"./AZ-104_Exam_ ExamTopics_files/0027900005.jpg\"/><br/>\n",
       "</p>\n",
       "<!-- exam-view49 -->\n",
       "<!-- exam-view410 -->\n",
       "<a class=\"btn btn-primary reveal-solution d-print-none\" href=\"https://www.examtopics.com/exams/microsoft/az-104/view/#\">Reveal Solution</a>\n",
       "<a class=\"btn btn-primary hide-solution d-none d-print-none\" href=\"https://www.examtopics.com/exams/microsoft/az-104/view/#\">Hide Solution</a>\n",
       "<a class=\"btn btn-secondary question-discussion-button d-print-none\" href=\"https://www.examtopics.com/exams/microsoft/az-104/view/#\">\n",
       "<i class=\"fa fa-comment\"></i>\n",
       "                                              Discussion  \n",
       "                                            \n",
       "                                                <span class=\"badge badge-pill badge-light\">20</span>\n",
       "</a>\n",
       "<!-- exam-view411 -->\n",
       "\n",
       "<!-- exam-view412 -->\n",
       "</div>\n",
       "</div></body></html>"
      ],
      "text/plain": [
       "<IPython.core.display.HTML object>"
      ]
     },
     "execution_count": 20,
     "metadata": {},
     "output_type": "execute_result"
    }
   ],
   "source": [
    "\n",
    "HTML('<body><html>'+str(questions[htmlQRef[0]])+'</body></html>')"
   ]
  },
  {
   "cell_type": "markdown",
   "metadata": {},
   "source": [
    "Question 2"
   ]
  },
  {
   "cell_type": "code",
   "execution_count": 21,
   "metadata": {},
   "outputs": [
    {
     "data": {
      "text/html": [
       "<body><html><div class=\"card exam-question-card\">\n",
       "<div class=\"card-header text-white bg-primary\">\n",
       "                                    Question #18\n",
       "                                    <span class=\"question-title-topic pull-right\">\n",
       "                                        Topic 6\n",
       "                                    </span>\n",
       "</div>\n",
       "<div class=\"card-body question-body\" data-id=\"804602\">\n",
       "<p class=\"card-text\">\n",
       "                                        \n",
       "                                        \n",
       "                                            You have an Azure virtual machine named VM1.<br/>Azure collects events from VM1.<br/>You are creating an alert rule in Azure Monitor to notify an administrator when an error is logged in the System event log of VM1.<br/>Which target resource should you monitor in the alert rule?<br/>\n",
       "</p>\n",
       "<!-- exam-view49 -->\n",
       "<div class=\"question-choices-container\">\n",
       "<div class=\"voted-answers-tally d-none\">\n",
       "<script id=\"804602\" type=\"application/json\">[{\"voted_answers\": \"D\", \"vote_count\": 9, \"is_most_voted\": true}, {\"voted_answers\": \"B\", \"vote_count\": 1, \"is_most_voted\": false}]</script>\n",
       "</div>\n",
       "<ul>\n",
       "<li class=\"multi-choice-item\">\n",
       "<span class=\"multi-choice-letter\" data-choice-letter=\"A\">\n",
       "                                                                A.\n",
       "                                                            </span>\n",
       "                                                        \n",
       "                                                        virtual machine extension\n",
       "                                                    </li>\n",
       "<li class=\"multi-choice-item\">\n",
       "<span class=\"multi-choice-letter\" data-choice-letter=\"B\">\n",
       "                                                                B.\n",
       "                                                            </span>\n",
       "                                                        \n",
       "                                                        virtual machine\n",
       "                                                    </li>\n",
       "<li class=\"multi-choice-item\">\n",
       "<span class=\"multi-choice-letter\" data-choice-letter=\"C\">\n",
       "                                                                C.\n",
       "                                                            </span>\n",
       "                                                        \n",
       "                                                        metric alert\n",
       "                                                    </li>\n",
       "<li class=\"multi-choice-item correct-hidden\">\n",
       "<span class=\"multi-choice-letter\" data-choice-letter=\"D\">\n",
       "                                                                D.\n",
       "                                                            </span>\n",
       "                                                        \n",
       "                                                        Azure Log Analytics workspace\n",
       "                                                    <span class=\"badge badge-success most-voted-answer-badge\" data-original-title=\"This answer is currently the most voted for in the discussion\" style=\"display: none;\" title=\"\">\n",
       "                Most Voted\n",
       "            </span></li>\n",
       "</ul>\n",
       "</div>\n",
       "<!-- exam-view410 -->\n",
       "<a class=\"btn btn-primary reveal-solution d-print-none\" href=\"https://www.examtopics.com/exams/microsoft/az-104/view/#\">Reveal Solution</a>\n",
       "<a class=\"btn btn-primary hide-solution d-none d-print-none\" href=\"https://www.examtopics.com/exams/microsoft/az-104/view/#\">Hide Solution</a>\n",
       "<a class=\"btn btn-secondary question-discussion-button d-print-none\" href=\"https://www.examtopics.com/exams/microsoft/az-104/view/#\">\n",
       "<i class=\"fa fa-comment\"></i>\n",
       "                                              Discussion  \n",
       "                                            \n",
       "                                                <span class=\"badge badge-pill badge-light\">40</span>\n",
       "</a>\n",
       "<!-- exam-view411 -->\n",
       "\n",
       "<!-- exam-view412 -->\n",
       "</div>\n",
       "</div></body></html>"
      ],
      "text/plain": [
       "<IPython.core.display.HTML object>"
      ]
     },
     "execution_count": 21,
     "metadata": {},
     "output_type": "execute_result"
    }
   ],
   "source": [
    "\n",
    "HTML('<body><html>'+str(questions[htmlQRef[1]])+'</body></html>')"
   ]
  },
  {
   "cell_type": "markdown",
   "metadata": {},
   "source": [
    "Question 3"
   ]
  },
  {
   "cell_type": "code",
   "execution_count": 22,
   "metadata": {},
   "outputs": [
    {
     "data": {
      "text/html": [
       "<body><html><div class=\"card exam-question-card\">\n",
       "<div class=\"card-header text-white bg-primary\">\n",
       "                                    Question #74\n",
       "                                    <span class=\"question-title-topic pull-right\">\n",
       "                                        Topic 4\n",
       "                                    </span>\n",
       "</div>\n",
       "<div class=\"card-body question-body\" data-id=\"804476\">\n",
       "<p class=\"card-text\">\n",
       "                                        \n",
       "                                        \n",
       "                                            Note: This question is part of a series of questions that present the same scenario. Each question in the series contains a unique solution that might meet the stated goals. Some question sets might have more than one correct solution, while others might not have a correct solution.<br/>After you answer a question in this section, you will NOT be able to return to it. As a result, these questions will not appear in the review screen.<br/>You have an Azure subscription named Subscription1 that contains the resources shown in the following table.<br/><img class=\"in-exam-image\" src=\"./AZ-104_Exam_ ExamTopics_files/0033000001.png\"/><br/>Subscription1 also includes a virtual network named VNET2. VM1 connects to a virtual network named VNET2 by using a network interface named NIC1.<br/>You need to create a new network interface named NIC2 for VM1.<br/>Solution: You create NIC2 in RG1 and West US.<br/>Does this meet the goal?<br/>\n",
       "</p>\n",
       "<!-- exam-view49 -->\n",
       "<div class=\"question-choices-container\">\n",
       "<div class=\"voted-answers-tally d-none\">\n",
       "<script id=\"804476\" type=\"application/json\">[{\"voted_answers\": \"A\", \"vote_count\": 5, \"is_most_voted\": true}, {\"voted_answers\": \"B\", \"vote_count\": 1, \"is_most_voted\": false}]</script>\n",
       "</div>\n",
       "<ul>\n",
       "<li class=\"multi-choice-item correct-hidden\">\n",
       "<span class=\"multi-choice-letter\" data-choice-letter=\"A\">\n",
       "                                                                A.\n",
       "                                                            </span>\n",
       "                                                        \n",
       "                                                        Yes\n",
       "                                                    <span class=\"badge badge-success most-voted-answer-badge\" data-original-title=\"This answer is currently the most voted for in the discussion\" style=\"display: none;\" title=\"\">\n",
       "                Most Voted\n",
       "            </span></li>\n",
       "<li class=\"multi-choice-item\">\n",
       "<span class=\"multi-choice-letter\" data-choice-letter=\"B\">\n",
       "                                                                B.\n",
       "                                                            </span>\n",
       "                                                        \n",
       "                                                        No\n",
       "                                                    </li>\n",
       "</ul>\n",
       "</div>\n",
       "<!-- exam-view410 -->\n",
       "<a class=\"btn btn-primary reveal-solution d-print-none\" href=\"https://www.examtopics.com/exams/microsoft/az-104/view/#\">Reveal Solution</a>\n",
       "<a class=\"btn btn-primary hide-solution d-none d-print-none\" href=\"https://www.examtopics.com/exams/microsoft/az-104/view/#\">Hide Solution</a>\n",
       "<a class=\"btn btn-secondary question-discussion-button d-print-none\" href=\"https://www.examtopics.com/exams/microsoft/az-104/view/#\">\n",
       "<i class=\"fa fa-comment\"></i>\n",
       "                                              Discussion  \n",
       "                                            \n",
       "                                                <span class=\"badge badge-pill badge-light\">22</span>\n",
       "</a>\n",
       "<!-- exam-view411 -->\n",
       "\n",
       "<!-- exam-view412 -->\n",
       "</div>\n",
       "</div></body></html>"
      ],
      "text/plain": [
       "<IPython.core.display.HTML object>"
      ]
     },
     "execution_count": 22,
     "metadata": {},
     "output_type": "execute_result"
    }
   ],
   "source": [
    "\n",
    "HTML('<body><html>'+str(questions[htmlQRef[2]])+'</body></html>')"
   ]
  },
  {
   "cell_type": "markdown",
   "metadata": {},
   "source": [
    "Question 4"
   ]
  },
  {
   "cell_type": "code",
   "execution_count": 23,
   "metadata": {},
   "outputs": [
    {
     "data": {
      "text/html": [
       "<body><html><div class=\"card exam-question-card\">\n",
       "<div class=\"card-header text-white bg-primary\">\n",
       "                                    Question #4\n",
       "                                    <span class=\"question-title-topic pull-right\">\n",
       "                                        Topic 5\n",
       "                                    </span>\n",
       "</div>\n",
       "<div class=\"card-body question-body\" data-id=\"804487\">\n",
       "<p class=\"card-text\">\n",
       "                                        \n",
       "                                        \n",
       "                                            You have an Azure subscription that contains the resources shown in the following table.<br/><img class=\"in-exam-image\" src=\"./AZ-104_Exam_ ExamTopics_files/0035200001.png\"/><br/>LB1 is configured as shown in the following table.<br/><img class=\"in-exam-image\" src=\"./AZ-104_Exam_ ExamTopics_files/0035200002.png\"/><br/>You plan to create new inbound NAT rules that meet the following requirements:<br/>✑ Provide Remote Desktop access to VM1 from the internet by using port 3389.<br/>✑ Provide Remote Desktop access to VM2 from the internet by using port 3389.<br/>What should you create on LB1 before you can create the new inbound NAT rules?<br/>\n",
       "</p>\n",
       "<!-- exam-view49 -->\n",
       "<div class=\"question-choices-container\">\n",
       "<div class=\"voted-answers-tally d-none\">\n",
       "<script id=\"804487\" type=\"application/json\">[{\"voted_answers\": \"A\", \"vote_count\": 62, \"is_most_voted\": true}, {\"voted_answers\": \"B\", \"vote_count\": 25, \"is_most_voted\": true}]</script>\n",
       "</div>\n",
       "<ul>\n",
       "<li class=\"multi-choice-item correct-hidden\">\n",
       "<span class=\"multi-choice-letter\" data-choice-letter=\"A\">\n",
       "                                                                A.\n",
       "                                                            </span>\n",
       "                                                        \n",
       "                                                        a frontend IP address\n",
       "                                                    <span class=\"badge badge-success most-voted-answer-badge\" data-original-title=\"This answer is currently the most voted for in the discussion\" style=\"display: none;\" title=\"\">\n",
       "                Most Voted\n",
       "            </span></li>\n",
       "<li class=\"multi-choice-item\">\n",
       "<span class=\"multi-choice-letter\" data-choice-letter=\"B\">\n",
       "                                                                B.\n",
       "                                                            </span>\n",
       "                                                        \n",
       "                                                        a load balancing rule\n",
       "                                                    <span class=\"badge badge-success most-voted-answer-badge\" data-original-title=\"This answer is currently the most voted for in the discussion\" style=\"display: none;\" title=\"\">\n",
       "                Most Voted\n",
       "            </span></li>\n",
       "<li class=\"multi-choice-item\">\n",
       "<span class=\"multi-choice-letter\" data-choice-letter=\"C\">\n",
       "                                                                C.\n",
       "                                                            </span>\n",
       "                                                        \n",
       "                                                        a health probe\n",
       "                                                    </li>\n",
       "<li class=\"multi-choice-item\">\n",
       "<span class=\"multi-choice-letter\" data-choice-letter=\"D\">\n",
       "                                                                D.\n",
       "                                                            </span>\n",
       "                                                        \n",
       "                                                        a backend pool\n",
       "                                                    </li>\n",
       "</ul>\n",
       "</div>\n",
       "<!-- exam-view410 -->\n",
       "<a class=\"btn btn-primary reveal-solution d-print-none\" href=\"https://www.examtopics.com/exams/microsoft/az-104/view/#\">Reveal Solution</a>\n",
       "<a class=\"btn btn-primary hide-solution d-none d-print-none\" href=\"https://www.examtopics.com/exams/microsoft/az-104/view/#\">Hide Solution</a>\n",
       "<a class=\"btn btn-secondary question-discussion-button d-print-none\" href=\"https://www.examtopics.com/exams/microsoft/az-104/view/#\">\n",
       "<i class=\"fa fa-comment\"></i>\n",
       "                                              Discussion  \n",
       "                                            \n",
       "                                                <span class=\"badge badge-pill badge-light\">121</span>\n",
       "</a>\n",
       "<!-- exam-view411 -->\n",
       "\n",
       "<!-- exam-view412 -->\n",
       "</div>\n",
       "</div></body></html>"
      ],
      "text/plain": [
       "<IPython.core.display.HTML object>"
      ]
     },
     "execution_count": 23,
     "metadata": {},
     "output_type": "execute_result"
    }
   ],
   "source": [
    "\n",
    "HTML('<body><html>'+str(questions[htmlQRef[3]])+'</body></html>')"
   ]
  },
  {
   "cell_type": "markdown",
   "metadata": {},
   "source": [
    "Question 5"
   ]
  },
  {
   "cell_type": "code",
   "execution_count": 24,
   "metadata": {},
   "outputs": [
    {
     "data": {
      "text/html": [
       "<body><html><div class=\"card exam-question-card\">\n",
       "<div class=\"card-header text-white bg-primary\">\n",
       "                                    Question #42\n",
       "                                    <span class=\"question-title-topic pull-right\">\n",
       "                                        Topic 4\n",
       "                                    </span>\n",
       "</div>\n",
       "<div class=\"card-body question-body\" data-id=\"804444\">\n",
       "<p class=\"card-text\">\n",
       "                                        \n",
       "                                        \n",
       "                                            You create the following resources in an Azure subscription:<br/>✑ An Azure Container Registry instance named Registry1<br/>✑ An Azure Kubernetes Service (AKS) cluster named Cluster1<br/>You create a container image named App1 on your administrative workstation.<br/>You need to deploy App1 to Cluster1.<br/>What should you do first?<br/>\n",
       "</p>\n",
       "<!-- exam-view49 -->\n",
       "<div class=\"question-choices-container\">\n",
       "<div class=\"voted-answers-tally d-none\">\n",
       "<script id=\"804444\" type=\"application/json\">[{\"voted_answers\": \"A\", \"vote_count\": 70, \"is_most_voted\": true}, {\"voted_answers\": \"C\", \"vote_count\": 21, \"is_most_voted\": false}]</script>\n",
       "</div>\n",
       "<ul>\n",
       "<li class=\"multi-choice-item\">\n",
       "<span class=\"multi-choice-letter\" data-choice-letter=\"A\">\n",
       "                                                                A.\n",
       "                                                            </span>\n",
       "                                                        \n",
       "                                                        Run the docker push command.\n",
       "                                                    <span class=\"badge badge-success most-voted-answer-badge\" data-original-title=\"This answer is currently the most voted for in the discussion\" style=\"display: none;\" title=\"\">\n",
       "                Most Voted\n",
       "            </span></li>\n",
       "<li class=\"multi-choice-item\">\n",
       "<span class=\"multi-choice-letter\" data-choice-letter=\"B\">\n",
       "                                                                B.\n",
       "                                                            </span>\n",
       "                                                        \n",
       "                                                        Create an App Service plan.\n",
       "                                                    </li>\n",
       "<li class=\"multi-choice-item correct-hidden\">\n",
       "<span class=\"multi-choice-letter\" data-choice-letter=\"C\">\n",
       "                                                                C.\n",
       "                                                            </span>\n",
       "                                                        \n",
       "                                                        Run the az acr build command.\n",
       "                                                    </li>\n",
       "<li class=\"multi-choice-item\">\n",
       "<span class=\"multi-choice-letter\" data-choice-letter=\"D\">\n",
       "                                                                D.\n",
       "                                                            </span>\n",
       "                                                        \n",
       "                                                        Run the az aks create command.\n",
       "                                                    </li>\n",
       "</ul>\n",
       "</div>\n",
       "<!-- exam-view410 -->\n",
       "<a class=\"btn btn-primary reveal-solution d-print-none\" href=\"https://www.examtopics.com/exams/microsoft/az-104/view/#\">Reveal Solution</a>\n",
       "<a class=\"btn btn-primary hide-solution d-none d-print-none\" href=\"https://www.examtopics.com/exams/microsoft/az-104/view/#\">Hide Solution</a>\n",
       "<a class=\"btn btn-secondary question-discussion-button d-print-none\" href=\"https://www.examtopics.com/exams/microsoft/az-104/view/#\">\n",
       "<i class=\"fa fa-comment\"></i>\n",
       "                                              Discussion  \n",
       "                                            \n",
       "                                                <span class=\"badge badge-pill badge-light\">74</span>\n",
       "</a>\n",
       "<!-- exam-view411 -->\n",
       "\n",
       "<!-- exam-view412 -->\n",
       "</div>\n",
       "</div></body></html>"
      ],
      "text/plain": [
       "<IPython.core.display.HTML object>"
      ]
     },
     "execution_count": 24,
     "metadata": {},
     "output_type": "execute_result"
    }
   ],
   "source": [
    "\n",
    "HTML('<body><html>'+str(questions[htmlQRef[4]])+'</body></html>')"
   ]
  },
  {
   "cell_type": "markdown",
   "metadata": {},
   "source": [
    "Question 6"
   ]
  },
  {
   "cell_type": "code",
   "execution_count": 25,
   "metadata": {},
   "outputs": [
    {
     "data": {
      "text/html": [
       "<body><html><div class=\"card exam-question-card\">\n",
       "<div class=\"card-header text-white bg-primary\">\n",
       "                                    Question #20\n",
       "                                    <span class=\"question-title-topic pull-right\">\n",
       "                                        Topic 5\n",
       "                                    </span>\n",
       "</div>\n",
       "<div class=\"card-body question-body\" data-id=\"804503\">\n",
       "<p class=\"card-text\">\n",
       "                                        \n",
       "                                        \n",
       "                                            HOTSPOT -<br/>You have a virtual network named VNet1 that has the configuration shown in the following exhibit.<br/><img class=\"in-exam-image\" src=\"./AZ-104_Exam_ ExamTopics_files/0037500001.jpg\"/><br/>Use the drop-down menus to select the answer choice that completes each statement based on the information presented in the graphic.<br/>NOTE: Each correct selection is worth one point.<br/>Hot Area:<br/><img class=\"in-exam-image\" src=\"./AZ-104_Exam_ ExamTopics_files/0037600001.png\"/><br/>\n",
       "</p>\n",
       "<!-- exam-view49 -->\n",
       "<!-- exam-view410 -->\n",
       "<a class=\"btn btn-primary reveal-solution d-print-none\" href=\"https://www.examtopics.com/exams/microsoft/az-104/view/#\">Reveal Solution</a>\n",
       "<a class=\"btn btn-primary hide-solution d-none d-print-none\" href=\"https://www.examtopics.com/exams/microsoft/az-104/view/#\">Hide Solution</a>\n",
       "<a class=\"btn btn-secondary question-discussion-button d-print-none\" href=\"https://www.examtopics.com/exams/microsoft/az-104/view/#\">\n",
       "<i class=\"fa fa-comment\"></i>\n",
       "                                              Discussion  \n",
       "                                            \n",
       "                                                <span class=\"badge badge-pill badge-light\">94</span>\n",
       "</a>\n",
       "<!-- exam-view411 -->\n",
       "\n",
       "<!-- exam-view412 -->\n",
       "</div>\n",
       "</div></body></html>"
      ],
      "text/plain": [
       "<IPython.core.display.HTML object>"
      ]
     },
     "execution_count": 25,
     "metadata": {},
     "output_type": "execute_result"
    }
   ],
   "source": [
    "\n",
    "HTML('<body><html>'+str(questions[htmlQRef[5]])+'</body></html>')"
   ]
  },
  {
   "cell_type": "markdown",
   "metadata": {},
   "source": [
    "Question 7"
   ]
  },
  {
   "cell_type": "code",
   "execution_count": 26,
   "metadata": {},
   "outputs": [
    {
     "data": {
      "text/html": [
       "<body><html><div class=\"card exam-question-card\">\n",
       "<div class=\"card-header text-white bg-primary\">\n",
       "                                    Question #92\n",
       "                                    <span class=\"question-title-topic pull-right\">\n",
       "                                        Topic 4\n",
       "                                    </span>\n",
       "</div>\n",
       "<div class=\"card-body question-body\" data-id=\"889322\">\n",
       "<p class=\"card-text\">\n",
       "                                        \n",
       "                                        \n",
       "                                            HOTSPOT<br/> -<br/><br/>You need to configure a new Azure App Service app named WebApp1. The solution must meet the following requirements:<br/><br/>•\tWebApp1 must be able to verify a custom domain name of app.contoso.com.<br/>•\tWebApp1 must be able to automatically scale up to eight instances.<br/>•\tCosts and administrative effort must be minimized.<br/><br/>Which pricing plan should you choose, and which type of record should you use to verify the domain? To answer, select the appropriate options in the answer area.<br/><br/>NOTE: Each correct answer is worth one point.<br/><br/><img src=\"./AZ-104_Exam_ ExamTopics_files/image686.png\"/>\n",
       "</p>\n",
       "<!-- exam-view49 -->\n",
       "<!-- exam-view410 -->\n",
       "<a class=\"btn btn-primary reveal-solution d-print-none\" href=\"https://www.examtopics.com/exams/microsoft/az-104/view/#\">Reveal Solution</a>\n",
       "<a class=\"btn btn-primary hide-solution d-none d-print-none\" href=\"https://www.examtopics.com/exams/microsoft/az-104/view/#\">Hide Solution</a>\n",
       "<a class=\"btn btn-secondary question-discussion-button d-print-none\" href=\"https://www.examtopics.com/exams/microsoft/az-104/view/#\">\n",
       "<i class=\"fa fa-comment\"></i>\n",
       "                                              Discussion  \n",
       "                                            \n",
       "                                                <span class=\"badge badge-pill badge-light\">7</span>\n",
       "</a>\n",
       "<!-- exam-view411 -->\n",
       "\n",
       "<!-- exam-view412 -->\n",
       "</div>\n",
       "</div></body></html>"
      ],
      "text/plain": [
       "<IPython.core.display.HTML object>"
      ]
     },
     "execution_count": 26,
     "metadata": {},
     "output_type": "execute_result"
    }
   ],
   "source": [
    "\n",
    "HTML('<body><html>'+str(questions[htmlQRef[6]])+'</body></html>')"
   ]
  },
  {
   "cell_type": "markdown",
   "metadata": {},
   "source": [
    "Question 8"
   ]
  },
  {
   "cell_type": "code",
   "execution_count": 27,
   "metadata": {},
   "outputs": [
    {
     "data": {
      "text/html": [
       "<body><html><div class=\"card exam-question-card\">\n",
       "<div class=\"card-header text-white bg-primary\">\n",
       "                                    Question #85\n",
       "                                    <span class=\"question-title-topic pull-right\">\n",
       "                                        Topic 2\n",
       "                                    </span>\n",
       "</div>\n",
       "<div class=\"card-body question-body\" data-id=\"894968\">\n",
       "<p class=\"card-text\">\n",
       "                                        \n",
       "                                        \n",
       "                                            You have an Azure subscription named Subscription1 that contains virtual network named VNet1. VNet1 is in a resource group named RG1.<br/><br/>User named User1 has the following roles for Subscription1:<br/><br/>•\tReader<br/>•\tSecurity Admin<br/>•\tSecurity Reader<br/><br/>You need to ensure that User1 can assign the Reader role for VNet1 to other users.<br/>What should you do?\n",
       "                                        \n",
       "                                    </p>\n",
       "<!-- exam-view49 -->\n",
       "<div class=\"question-choices-container\">\n",
       "<div class=\"voted-answers-tally d-none\">\n",
       "<script id=\"894968\" type=\"application/json\">[{\"voted_answers\": \"D\", \"vote_count\": 2, \"is_most_voted\": false}]</script>\n",
       "</div>\n",
       "<ul>\n",
       "<li class=\"multi-choice-item\">\n",
       "<span class=\"multi-choice-letter\" data-choice-letter=\"A\">\n",
       "                                                                A.\n",
       "                                                            </span>\n",
       "                                                        \n",
       "                                                        Remove User1 from the Security Reader and Reader roles for Subscription1. Assign User1 the Contributor role for Subscription1.\n",
       "                                                    </li>\n",
       "<li class=\"multi-choice-item\">\n",
       "<span class=\"multi-choice-letter\" data-choice-letter=\"B\">\n",
       "                                                                B.\n",
       "                                                            </span>\n",
       "                                                        \n",
       "                                                        Remove User1 from the Security Reader role for Subscription1. Assign User1 the Contributor role for RG1.\n",
       "                                                    </li>\n",
       "<li class=\"multi-choice-item\">\n",
       "<span class=\"multi-choice-letter\" data-choice-letter=\"C\">\n",
       "                                                                C.\n",
       "                                                            </span>\n",
       "                                                        \n",
       "                                                        Assign User1 the Network Contributor role for VNet1.\n",
       "                                                    </li>\n",
       "<li class=\"multi-choice-item correct-hidden\">\n",
       "<span class=\"multi-choice-letter\" data-choice-letter=\"D\">\n",
       "                                                                D.\n",
       "                                                            </span>\n",
       "                                                        \n",
       "                                                        Assign User1 the User Access Administrator role for VNet1.\n",
       "                                                    </li>\n",
       "</ul>\n",
       "</div>\n",
       "<!-- exam-view410 -->\n",
       "<a class=\"btn btn-primary reveal-solution d-print-none\" href=\"https://www.examtopics.com/exams/microsoft/az-104/view/#\">Reveal Solution</a>\n",
       "<a class=\"btn btn-primary hide-solution d-none d-print-none\" href=\"https://www.examtopics.com/exams/microsoft/az-104/view/#\">Hide Solution</a>\n",
       "<a class=\"btn btn-secondary question-discussion-button d-print-none\" href=\"https://www.examtopics.com/exams/microsoft/az-104/view/#\">\n",
       "<i class=\"fa fa-comment\"></i>\n",
       "                                              Discussion  \n",
       "                                            \n",
       "                                                <span class=\"badge badge-pill badge-light\">2</span>\n",
       "</a>\n",
       "<!-- exam-view411 -->\n",
       "\n",
       "<!-- exam-view412 -->\n",
       "</div>\n",
       "</div></body></html>"
      ],
      "text/plain": [
       "<IPython.core.display.HTML object>"
      ]
     },
     "execution_count": 27,
     "metadata": {},
     "output_type": "execute_result"
    }
   ],
   "source": [
    "\n",
    "HTML('<body><html>'+str(questions[htmlQRef[7]])+'</body></html>')"
   ]
  },
  {
   "cell_type": "markdown",
   "metadata": {},
   "source": [
    "Question 9"
   ]
  },
  {
   "cell_type": "code",
   "execution_count": 28,
   "metadata": {},
   "outputs": [
    {
     "data": {
      "text/html": [
       "<body><html><div class=\"card exam-question-card\">\n",
       "<div class=\"card-header text-white bg-primary\">\n",
       "                                    Question #36\n",
       "                                    <span class=\"question-title-topic pull-right\">\n",
       "                                        Topic 6\n",
       "                                    </span>\n",
       "</div>\n",
       "<div class=\"card-body question-body\" data-id=\"860468\">\n",
       "<p class=\"card-text\">\n",
       "                                        \n",
       "                                        \n",
       "                                            HOTSPOT<br/> -<br/><br/>You have an Azure subscription that is linked to an Azure AD tenant. The tenant contains two users named User1 and User2.<br/><br/>The subscription contains the resources shown in the following table.<br/><br/><img src=\"./AZ-104_Exam_ ExamTopics_files/image619.png\"/><br/><br/>The subscription contains the alert rules shown in the following table.<br/><br/><img src=\"./AZ-104_Exam_ ExamTopics_files/image620.png\"/><br/><br/>The users perform the following action:<br/><br/>•\tUser1 creates a new virtual disk and attaches the disk to VM1<br/>•\tUser2 creates a new resource tag and assigns the tag to RG1 and VM1<br/><br/>Which alert rules are triggered by each user? To answer, select the appropriate options in the answer area.<br/><br/>NOTE: Each correct selection is worth one point.<br/><br/><img src=\"./AZ-104_Exam_ ExamTopics_files/image621.png\"/>\n",
       "</p>\n",
       "<!-- exam-view49 -->\n",
       "<!-- exam-view410 -->\n",
       "<a class=\"btn btn-primary reveal-solution d-print-none\" href=\"https://www.examtopics.com/exams/microsoft/az-104/view/#\">Reveal Solution</a>\n",
       "<a class=\"btn btn-primary hide-solution d-none d-print-none\" href=\"https://www.examtopics.com/exams/microsoft/az-104/view/#\">Hide Solution</a>\n",
       "<a class=\"btn btn-secondary question-discussion-button d-print-none\" href=\"https://www.examtopics.com/exams/microsoft/az-104/view/#\">\n",
       "<i class=\"fa fa-comment\"></i>\n",
       "                                              Discussion  \n",
       "                                            \n",
       "                                                <span class=\"badge badge-pill badge-light\">21</span>\n",
       "</a>\n",
       "<!-- exam-view411 -->\n",
       "\n",
       "<!-- exam-view412 -->\n",
       "</div>\n",
       "</div></body></html>"
      ],
      "text/plain": [
       "<IPython.core.display.HTML object>"
      ]
     },
     "execution_count": 28,
     "metadata": {},
     "output_type": "execute_result"
    }
   ],
   "source": [
    "\n",
    "HTML('<body><html>'+str(questions[htmlQRef[8]])+'</body></html>')"
   ]
  },
  {
   "cell_type": "markdown",
   "metadata": {},
   "source": [
    "Question 10"
   ]
  },
  {
   "cell_type": "code",
   "execution_count": 29,
   "metadata": {},
   "outputs": [
    {
     "data": {
      "text/html": [
       "<body><html><div class=\"card exam-question-card\">\n",
       "<div class=\"card-header text-white bg-primary\">\n",
       "                                    Question #60\n",
       "                                    <span class=\"question-title-topic pull-right\">\n",
       "                                        Topic 4\n",
       "                                    </span>\n",
       "</div>\n",
       "<div class=\"card-body question-body\" data-id=\"804462\">\n",
       "<p class=\"card-text\">\n",
       "                                        \n",
       "                                        \n",
       "                                            HOTSPOT -<br/>You have an Azure subscription named Subscription1. Subscription1 contains two Azure virtual machines VM1 and VM2. VM1 and VM2 run Windows Server<br/>2016.<br/>VM1 is backed up daily by Azure Backup without using the Azure Backup agent.<br/>VM1 is affected by ransomware that encrypts data.<br/>You need to restore the latest backup of VM1.<br/>To which location can you restore the backup? To answer, select the appropriate options in the answer area.<br/>NOTE: Each correct selection is worth one point.<br/>Hot Area:<br/><img class=\"in-exam-image\" src=\"./AZ-104_Exam_ ExamTopics_files/0031100001.jpg\"/><br/>\n",
       "</p>\n",
       "<!-- exam-view49 -->\n",
       "<!-- exam-view410 -->\n",
       "<a class=\"btn btn-primary reveal-solution d-print-none\" href=\"https://www.examtopics.com/exams/microsoft/az-104/view/#\">Reveal Solution</a>\n",
       "<a class=\"btn btn-primary hide-solution d-none d-print-none\" href=\"https://www.examtopics.com/exams/microsoft/az-104/view/#\">Hide Solution</a>\n",
       "<a class=\"btn btn-secondary question-discussion-button d-print-none\" href=\"https://www.examtopics.com/exams/microsoft/az-104/view/#\">\n",
       "<i class=\"fa fa-comment\"></i>\n",
       "                                              Discussion  \n",
       "                                            \n",
       "                                                <span class=\"badge badge-pill badge-light\">103</span>\n",
       "</a>\n",
       "<!-- exam-view411 -->\n",
       "\n",
       "<!-- exam-view412 -->\n",
       "</div>\n",
       "</div></body></html>"
      ],
      "text/plain": [
       "<IPython.core.display.HTML object>"
      ]
     },
     "execution_count": 29,
     "metadata": {},
     "output_type": "execute_result"
    }
   ],
   "source": [
    "\n",
    "HTML('<body><html>'+str(questions[htmlQRef[9]])+'</body></html>')"
   ]
  },
  {
   "cell_type": "markdown",
   "metadata": {},
   "source": [
    "Question 11"
   ]
  },
  {
   "cell_type": "code",
   "execution_count": 30,
   "metadata": {},
   "outputs": [
    {
     "data": {
      "text/html": [
       "<body><html><div class=\"card exam-question-card\">\n",
       "<div class=\"card-header text-white bg-primary\">\n",
       "                                    Question #34\n",
       "                                    <span class=\"question-title-topic pull-right\">\n",
       "                                        Topic 6\n",
       "                                    </span>\n",
       "</div>\n",
       "<div class=\"card-body question-body\" data-id=\"804618\">\n",
       "<p class=\"card-text\">\n",
       "                                        \n",
       "                                        \n",
       "                                            You have an Azure App Service web app named App1.<br/>You need to collect performance traces for App1.<br/>What should you use?<br/>\n",
       "</p>\n",
       "<!-- exam-view49 -->\n",
       "<div class=\"question-choices-container\">\n",
       "<div class=\"voted-answers-tally d-none\">\n",
       "<script id=\"804618\" type=\"application/json\">[{\"voted_answers\": \"A\", \"vote_count\": 49, \"is_most_voted\": true}]</script>\n",
       "</div>\n",
       "<ul>\n",
       "<li class=\"multi-choice-item\">\n",
       "<span class=\"multi-choice-letter\" data-choice-letter=\"A\">\n",
       "                                                                A.\n",
       "                                                            </span>\n",
       "                                                        \n",
       "                                                        Azure Application Insights Profiler\n",
       "                                                    <span class=\"badge badge-success most-voted-answer-badge\" data-original-title=\"This answer is currently the most voted for in the discussion\" style=\"display: none;\" title=\"\">\n",
       "                Most Voted\n",
       "            </span></li>\n",
       "<li class=\"multi-choice-item correct-hidden\">\n",
       "<span class=\"multi-choice-letter\" data-choice-letter=\"B\">\n",
       "                                                                B.\n",
       "                                                            </span>\n",
       "                                                        \n",
       "                                                        the Activity log\n",
       "                                                    </li>\n",
       "<li class=\"multi-choice-item\">\n",
       "<span class=\"multi-choice-letter\" data-choice-letter=\"C\">\n",
       "                                                                C.\n",
       "                                                            </span>\n",
       "                                                        \n",
       "                                                        the Deployment center\n",
       "                                                    </li>\n",
       "<li class=\"multi-choice-item\">\n",
       "<span class=\"multi-choice-letter\" data-choice-letter=\"D\">\n",
       "                                                                D.\n",
       "                                                            </span>\n",
       "                                                        \n",
       "                                                        the Diagnose and solve problems settings\n",
       "                                                    </li>\n",
       "</ul>\n",
       "</div>\n",
       "<!-- exam-view410 -->\n",
       "<a class=\"btn btn-primary reveal-solution d-print-none\" href=\"https://www.examtopics.com/exams/microsoft/az-104/view/#\">Reveal Solution</a>\n",
       "<a class=\"btn btn-primary hide-solution d-none d-print-none\" href=\"https://www.examtopics.com/exams/microsoft/az-104/view/#\">Hide Solution</a>\n",
       "<a class=\"btn btn-secondary question-discussion-button d-print-none\" href=\"https://www.examtopics.com/exams/microsoft/az-104/view/#\">\n",
       "<i class=\"fa fa-comment\"></i>\n",
       "                                              Discussion  \n",
       "                                            \n",
       "                                                <span class=\"badge badge-pill badge-light\">16</span>\n",
       "</a>\n",
       "<!-- exam-view411 -->\n",
       "\n",
       "<!-- exam-view412 -->\n",
       "</div>\n",
       "</div></body></html>"
      ],
      "text/plain": [
       "<IPython.core.display.HTML object>"
      ]
     },
     "execution_count": 30,
     "metadata": {},
     "output_type": "execute_result"
    }
   ],
   "source": [
    "\n",
    "HTML('<body><html>'+str(questions[htmlQRef[10]])+'</body></html>')"
   ]
  },
  {
   "cell_type": "markdown",
   "metadata": {},
   "source": [
    "Question 12"
   ]
  },
  {
   "cell_type": "code",
   "execution_count": 31,
   "metadata": {},
   "outputs": [
    {
     "data": {
      "text/html": [
       "<body><html><div class=\"card exam-question-card\">\n",
       "<div class=\"card-header text-white bg-primary\">\n",
       "                                    Question #49\n",
       "                                    <span class=\"question-title-topic pull-right\">\n",
       "                                        Topic 3\n",
       "                                    </span>\n",
       "</div>\n",
       "<div class=\"card-body question-body\" data-id=\"860439\">\n",
       "<p class=\"card-text\">\n",
       "                                        \n",
       "                                        \n",
       "                                            HOTSPOT<br/> -<br/><br/>You have an Azure subscription. The subscription contains a storage account named storage1 that has the lifecycle management rules shown in the following table.<br/><br/><img src=\"./AZ-104_Exam_ ExamTopics_files/image578.png\"/><br/><br/>On June 1, you store two blobs in storage1 as shown in the following table.<br/><br/><img src=\"./AZ-104_Exam_ ExamTopics_files/image579.png\"/><br/><br/>For each of the following statements, select Yes if the statement is true. Otherwise, select No.<br/><br/>NOTE: Each correct selection is worth one point.<br/><br/><img src=\"./AZ-104_Exam_ ExamTopics_files/image580.png\"/>\n",
       "</p>\n",
       "<!-- exam-view49 -->\n",
       "<!-- exam-view410 -->\n",
       "<a class=\"btn btn-primary reveal-solution d-print-none\" href=\"https://www.examtopics.com/exams/microsoft/az-104/view/#\">Reveal Solution</a>\n",
       "<a class=\"btn btn-primary hide-solution d-none d-print-none\" href=\"https://www.examtopics.com/exams/microsoft/az-104/view/#\">Hide Solution</a>\n",
       "<a class=\"btn btn-secondary question-discussion-button d-print-none\" href=\"https://www.examtopics.com/exams/microsoft/az-104/view/#\">\n",
       "<i class=\"fa fa-comment\"></i>\n",
       "                                              Discussion  \n",
       "                                            \n",
       "                                                <span class=\"badge badge-pill badge-light\">26</span>\n",
       "</a>\n",
       "<!-- exam-view411 -->\n",
       "\n",
       "<!-- exam-view412 -->\n",
       "</div>\n",
       "</div></body></html>"
      ],
      "text/plain": [
       "<IPython.core.display.HTML object>"
      ]
     },
     "execution_count": 31,
     "metadata": {},
     "output_type": "execute_result"
    }
   ],
   "source": [
    "\n",
    "HTML('<body><html>'+str(questions[htmlQRef[11]])+'</body></html>')"
   ]
  },
  {
   "cell_type": "markdown",
   "metadata": {},
   "source": [
    "Question 13"
   ]
  },
  {
   "cell_type": "code",
   "execution_count": 32,
   "metadata": {},
   "outputs": [
    {
     "data": {
      "text/html": [
       "<body><html><div class=\"card exam-question-card\">\n",
       "<div class=\"card-header text-white bg-primary\">\n",
       "                                    Question #89\n",
       "                                    <span class=\"question-title-topic pull-right\">\n",
       "                                        Topic 5\n",
       "                                    </span>\n",
       "</div>\n",
       "<div class=\"card-body question-body\" data-id=\"804572\">\n",
       "<p class=\"card-text\">\n",
       "                                        \n",
       "                                        \n",
       "                                            You have five Azure virtual machines that run Windows Server 2016. The virtual machines are configured as web servers.<br/>You have an Azure load balancer named LB1 that provides load balancing services for the virtual machines.<br/>You need to ensure that visitors are serviced by the same web server for each request.<br/>What should you configure?<br/>\n",
       "</p>\n",
       "<!-- exam-view49 -->\n",
       "<div class=\"question-choices-container\">\n",
       "<div class=\"voted-answers-tally d-none\">\n",
       "<script id=\"804572\" type=\"application/json\">[{\"voted_answers\": \"D\", \"vote_count\": 13, \"is_most_voted\": true}]</script>\n",
       "</div>\n",
       "<ul>\n",
       "<li class=\"multi-choice-item\">\n",
       "<span class=\"multi-choice-letter\" data-choice-letter=\"A\">\n",
       "                                                                A.\n",
       "                                                            </span>\n",
       "                                                        \n",
       "                                                        Floating IP (direct server return) to Enabled\n",
       "                                                    </li>\n",
       "<li class=\"multi-choice-item\">\n",
       "<span class=\"multi-choice-letter\" data-choice-letter=\"B\">\n",
       "                                                                B.\n",
       "                                                            </span>\n",
       "                                                        \n",
       "                                                        Floating IP (direct server return) to Disabled\n",
       "                                                    </li>\n",
       "<li class=\"multi-choice-item\">\n",
       "<span class=\"multi-choice-letter\" data-choice-letter=\"C\">\n",
       "                                                                C.\n",
       "                                                            </span>\n",
       "                                                        \n",
       "                                                        a health probe\n",
       "                                                    </li>\n",
       "<li class=\"multi-choice-item correct-hidden\">\n",
       "<span class=\"multi-choice-letter\" data-choice-letter=\"D\">\n",
       "                                                                D.\n",
       "                                                            </span>\n",
       "                                                        \n",
       "                                                        Session persistence to Client IP and Protocol\n",
       "                                                    <span class=\"badge badge-success most-voted-answer-badge\" data-original-title=\"This answer is currently the most voted for in the discussion\" style=\"display: none;\" title=\"\">\n",
       "                Most Voted\n",
       "            </span></li>\n",
       "</ul>\n",
       "</div>\n",
       "<!-- exam-view410 -->\n",
       "<a class=\"btn btn-primary reveal-solution d-print-none\" href=\"https://www.examtopics.com/exams/microsoft/az-104/view/#\">Reveal Solution</a>\n",
       "<a class=\"btn btn-primary hide-solution d-none d-print-none\" href=\"https://www.examtopics.com/exams/microsoft/az-104/view/#\">Hide Solution</a>\n",
       "<a class=\"btn btn-secondary question-discussion-button d-print-none\" href=\"https://www.examtopics.com/exams/microsoft/az-104/view/#\">\n",
       "<i class=\"fa fa-comment\"></i>\n",
       "                                              Discussion  \n",
       "                                            \n",
       "                                                <span class=\"badge badge-pill badge-light\">24</span>\n",
       "</a>\n",
       "<!-- exam-view411 -->\n",
       "\n",
       "<!-- exam-view412 -->\n",
       "</div>\n",
       "</div></body></html>"
      ],
      "text/plain": [
       "<IPython.core.display.HTML object>"
      ]
     },
     "execution_count": 32,
     "metadata": {},
     "output_type": "execute_result"
    }
   ],
   "source": [
    "\n",
    "HTML('<body><html>'+str(questions[htmlQRef[12]])+'</body></html>')"
   ]
  },
  {
   "cell_type": "markdown",
   "metadata": {},
   "source": [
    "Question 14"
   ]
  },
  {
   "cell_type": "code",
   "execution_count": 33,
   "metadata": {},
   "outputs": [
    {
     "data": {
      "text/html": [
       "<body><html><div class=\"card exam-question-card\">\n",
       "<div class=\"card-header text-white bg-primary\">\n",
       "                                    Question #28\n",
       "                                    <span class=\"question-title-topic pull-right\">\n",
       "                                        Topic 2\n",
       "                                    </span>\n",
       "</div>\n",
       "<div class=\"card-body question-body\" data-id=\"804320\">\n",
       "<p class=\"card-text\">\n",
       "                                        \n",
       "                                        \n",
       "                                            HOTSPOT -<br/>You have an Azure Active Directory (Azure AD) tenant.<br/>You need to create a conditional access policy that requires all users to use multi-factor authentication when they access the Azure portal.<br/>Which three settings should you configure? To answer, select the appropriate settings in the answer area.<br/>NOTE: Each correct selection is worth one point.<br/>Hot Area:<br/><img class=\"in-exam-image\" src=\"./AZ-104_Exam_ ExamTopics_files/0007300001.png\"/><br/>\n",
       "</p>\n",
       "<!-- exam-view49 -->\n",
       "<!-- exam-view410 -->\n",
       "<a class=\"btn btn-primary reveal-solution d-print-none\" href=\"https://www.examtopics.com/exams/microsoft/az-104/view/#\">Reveal Solution</a>\n",
       "<a class=\"btn btn-primary hide-solution d-none d-print-none\" href=\"https://www.examtopics.com/exams/microsoft/az-104/view/#\">Hide Solution</a>\n",
       "<a class=\"btn btn-secondary question-discussion-button d-print-none\" href=\"https://www.examtopics.com/exams/microsoft/az-104/view/#\">\n",
       "<i class=\"fa fa-comment\"></i>\n",
       "                                              Discussion  \n",
       "                                            \n",
       "                                                <span class=\"badge badge-pill badge-light\">42</span>\n",
       "</a>\n",
       "<!-- exam-view411 -->\n",
       "\n",
       "<!-- exam-view412 -->\n",
       "</div>\n",
       "</div></body></html>"
      ],
      "text/plain": [
       "<IPython.core.display.HTML object>"
      ]
     },
     "execution_count": 33,
     "metadata": {},
     "output_type": "execute_result"
    }
   ],
   "source": [
    "\n",
    "HTML('<body><html>'+str(questions[htmlQRef[13]])+'</body></html>')"
   ]
  },
  {
   "cell_type": "markdown",
   "metadata": {},
   "source": [
    "Question 15"
   ]
  },
  {
   "cell_type": "code",
   "execution_count": 34,
   "metadata": {},
   "outputs": [
    {
     "data": {
      "text/html": [
       "<body><html><div class=\"card exam-question-card\">\n",
       "<div class=\"card-header text-white bg-primary\">\n",
       "                                    Question #64\n",
       "                                    <span class=\"question-title-topic pull-right\">\n",
       "                                        Topic 2\n",
       "                                    </span>\n",
       "</div>\n",
       "<div class=\"card-body question-body\" data-id=\"860432\">\n",
       "<p class=\"card-text\">\n",
       "                                        \n",
       "                                        \n",
       "                                            You have an Azure App Services web app named App1.<br/><br/>You plan to deploy App1 by using Web Deploy.<br/><br/>You need to ensure that the developers of App1 can use their Azure AD credentials to deploy content to App1. The solution must use the principle of least privilege.<br/><br/>What should you do?\n",
       "                                        \n",
       "                                    </p>\n",
       "<!-- exam-view49 -->\n",
       "<div class=\"question-choices-container\">\n",
       "<div class=\"voted-answers-tally d-none\">\n",
       "<script id=\"860432\" type=\"application/json\">[{\"voted_answers\": \"C\", \"vote_count\": 76, \"is_most_voted\": true}, {\"voted_answers\": \"A\", \"vote_count\": 2, \"is_most_voted\": false}]</script>\n",
       "</div>\n",
       "<ul>\n",
       "<li class=\"multi-choice-item\">\n",
       "<span class=\"multi-choice-letter\" data-choice-letter=\"A\">\n",
       "                                                                A.\n",
       "                                                            </span>\n",
       "                                                        \n",
       "                                                        Assign the Owner role to the developers\n",
       "                                                    </li>\n",
       "<li class=\"multi-choice-item correct-hidden\">\n",
       "<span class=\"multi-choice-letter\" data-choice-letter=\"B\">\n",
       "                                                                B.\n",
       "                                                            </span>\n",
       "                                                        \n",
       "                                                        Configure app-level credentials for FTPS\n",
       "                                                    </li>\n",
       "<li class=\"multi-choice-item\">\n",
       "<span class=\"multi-choice-letter\" data-choice-letter=\"C\">\n",
       "                                                                C.\n",
       "                                                            </span>\n",
       "                                                        \n",
       "                                                        Assign the Website Contributor role to the developers\n",
       "                                                    <span class=\"badge badge-success most-voted-answer-badge\" data-original-title=\"This answer is currently the most voted for in the discussion\" style=\"display: none;\" title=\"\">\n",
       "                Most Voted\n",
       "            </span></li>\n",
       "<li class=\"multi-choice-item\">\n",
       "<span class=\"multi-choice-letter\" data-choice-letter=\"D\">\n",
       "                                                                D.\n",
       "                                                            </span>\n",
       "                                                        \n",
       "                                                        Configure user-level credentials for FTPS\n",
       "                                                    </li>\n",
       "</ul>\n",
       "</div>\n",
       "<!-- exam-view410 -->\n",
       "<a class=\"btn btn-primary reveal-solution d-print-none\" href=\"https://www.examtopics.com/exams/microsoft/az-104/view/#\">Reveal Solution</a>\n",
       "<a class=\"btn btn-primary hide-solution d-none d-print-none\" href=\"https://www.examtopics.com/exams/microsoft/az-104/view/#\">Hide Solution</a>\n",
       "<a class=\"btn btn-secondary question-discussion-button d-print-none\" href=\"https://www.examtopics.com/exams/microsoft/az-104/view/#\">\n",
       "<i class=\"fa fa-comment\"></i>\n",
       "                                              Discussion  \n",
       "                                            \n",
       "                                                <span class=\"badge badge-pill badge-light\">33</span>\n",
       "</a>\n",
       "<!-- exam-view411 -->\n",
       "\n",
       "<!-- exam-view412 -->\n",
       "</div>\n",
       "</div></body></html>"
      ],
      "text/plain": [
       "<IPython.core.display.HTML object>"
      ]
     },
     "execution_count": 34,
     "metadata": {},
     "output_type": "execute_result"
    }
   ],
   "source": [
    "\n",
    "HTML('<body><html>'+str(questions[htmlQRef[14]])+'</body></html>')"
   ]
  },
  {
   "cell_type": "markdown",
   "metadata": {},
   "source": [
    "Question 16"
   ]
  },
  {
   "cell_type": "code",
   "execution_count": 35,
   "metadata": {},
   "outputs": [
    {
     "data": {
      "text/html": [
       "<body><html><div class=\"card exam-question-card\">\n",
       "<div class=\"card-header text-white bg-primary\">\n",
       "                                    Question #91\n",
       "                                    <span class=\"question-title-topic pull-right\">\n",
       "                                        Topic 5\n",
       "                                    </span>\n",
       "</div>\n",
       "<div class=\"card-body question-body\" data-id=\"804574\">\n",
       "<p class=\"card-text\">\n",
       "                                        \n",
       "                                        \n",
       "                                            You have an Azure subscription that contains two virtual machines named VM1 and VM2.<br/>You create an Azure load balancer.<br/>You plan to create a load balancing rule that will load balance HTTPS traffic between VM1 and VM2.<br/>Which two additional load balancer resources should you create before you can create the load balancing rule? Each correct answer presents part of the solution.<br/>NOTE: Each correct selection is worth one point.<br/>\n",
       "</p>\n",
       "<!-- exam-view49 -->\n",
       "<div class=\"question-choices-container\">\n",
       "<div class=\"voted-answers-tally d-none\">\n",
       "<script id=\"804574\" type=\"application/json\">[{\"voted_answers\": \"DE\", \"vote_count\": 55, \"is_most_voted\": true}, {\"voted_answers\": \"AD\", \"vote_count\": 7, \"is_most_voted\": false}, {\"voted_answers\": \"AB\", \"vote_count\": 1, \"is_most_voted\": false}]</script>\n",
       "</div>\n",
       "<ul>\n",
       "<li class=\"multi-choice-item\">\n",
       "<span class=\"multi-choice-letter\" data-choice-letter=\"A\">\n",
       "                                                                A.\n",
       "                                                            </span>\n",
       "                                                        \n",
       "                                                        a frontend IP address\n",
       "                                                    </li>\n",
       "<li class=\"multi-choice-item\">\n",
       "<span class=\"multi-choice-letter\" data-choice-letter=\"B\">\n",
       "                                                                B.\n",
       "                                                            </span>\n",
       "                                                        \n",
       "                                                        an inbound NAT rule\n",
       "                                                    </li>\n",
       "<li class=\"multi-choice-item\">\n",
       "<span class=\"multi-choice-letter\" data-choice-letter=\"C\">\n",
       "                                                                C.\n",
       "                                                            </span>\n",
       "                                                        \n",
       "                                                        a virtual network\n",
       "                                                    </li>\n",
       "<li class=\"multi-choice-item correct-hidden\">\n",
       "<span class=\"multi-choice-letter\" data-choice-letter=\"D\">\n",
       "                                                                D.\n",
       "                                                            </span>\n",
       "                                                        \n",
       "                                                        a backend pool\n",
       "                                                    <span class=\"badge badge-success most-voted-answer-badge\" data-original-title=\"This answer is currently the most voted for in the discussion\" style=\"display: none;\" title=\"\">\n",
       "                Most Voted\n",
       "            </span></li>\n",
       "<li class=\"multi-choice-item correct-hidden\">\n",
       "<span class=\"multi-choice-letter\" data-choice-letter=\"E\">\n",
       "                                                                E.\n",
       "                                                            </span>\n",
       "                                                        \n",
       "                                                        a health probe\n",
       "                                                    <span class=\"badge badge-success most-voted-answer-badge\" data-original-title=\"This answer is currently the most voted for in the discussion\" style=\"display: none;\" title=\"\">\n",
       "                Most Voted\n",
       "            </span></li>\n",
       "</ul>\n",
       "</div>\n",
       "<!-- exam-view410 -->\n",
       "<a class=\"btn btn-primary reveal-solution d-print-none\" href=\"https://www.examtopics.com/exams/microsoft/az-104/view/#\">Reveal Solution</a>\n",
       "<a class=\"btn btn-primary hide-solution d-none d-print-none\" href=\"https://www.examtopics.com/exams/microsoft/az-104/view/#\">Hide Solution</a>\n",
       "<a class=\"btn btn-secondary question-discussion-button d-print-none\" href=\"https://www.examtopics.com/exams/microsoft/az-104/view/#\">\n",
       "<i class=\"fa fa-comment\"></i>\n",
       "                                              Discussion  \n",
       "                                            \n",
       "                                                <span class=\"badge badge-pill badge-light\">17</span>\n",
       "</a>\n",
       "<!-- exam-view411 -->\n",
       "\n",
       "<!-- exam-view412 -->\n",
       "</div>\n",
       "</div></body></html>"
      ],
      "text/plain": [
       "<IPython.core.display.HTML object>"
      ]
     },
     "execution_count": 35,
     "metadata": {},
     "output_type": "execute_result"
    }
   ],
   "source": [
    "\n",
    "HTML('<body><html>'+str(questions[htmlQRef[15]])+'</body></html>')"
   ]
  },
  {
   "cell_type": "markdown",
   "metadata": {},
   "source": [
    "Question 17"
   ]
  },
  {
   "cell_type": "code",
   "execution_count": 36,
   "metadata": {},
   "outputs": [
    {
     "data": {
      "text/html": [
       "<body><html><div class=\"card exam-question-card\">\n",
       "<div class=\"card-header text-white bg-primary\">\n",
       "                                    Question #33\n",
       "                                    <span class=\"question-title-topic pull-right\">\n",
       "                                        Topic 6\n",
       "                                    </span>\n",
       "</div>\n",
       "<div class=\"card-body question-body\" data-id=\"804617\">\n",
       "<p class=\"card-text\">\n",
       "                                        \n",
       "                                        \n",
       "                                            You have an Azure subscription named Subscription1 that contains an Azure Log Analytics workspace named Workspace1.<br/>You need to view the error events from a table named Event.<br/>Which query should you run in Workspace1?<br/>\n",
       "</p>\n",
       "<!-- exam-view49 -->\n",
       "<div class=\"question-choices-container\">\n",
       "<div class=\"voted-answers-tally d-none\">\n",
       "<script id=\"804617\" type=\"application/json\">[{\"voted_answers\": \"A\", \"vote_count\": 20, \"is_most_voted\": true}, {\"voted_answers\": \"B\", \"vote_count\": 3, \"is_most_voted\": false}]</script>\n",
       "</div>\n",
       "<ul>\n",
       "<li class=\"multi-choice-item correct-hidden\">\n",
       "<span class=\"multi-choice-letter\" data-choice-letter=\"A\">\n",
       "                                                                A.\n",
       "                                                            </span>\n",
       "                                                        \n",
       "                                                        search in (Event) \"error\"\n",
       "                                                    <span class=\"badge badge-success most-voted-answer-badge\" data-original-title=\"This answer is currently the most voted for in the discussion\" style=\"display: none;\" title=\"\">\n",
       "                Most Voted\n",
       "            </span></li>\n",
       "<li class=\"multi-choice-item\">\n",
       "<span class=\"multi-choice-letter\" data-choice-letter=\"B\">\n",
       "                                                                B.\n",
       "                                                            </span>\n",
       "                                                        \n",
       "                                                        Event | where EventType is \"error\"\n",
       "                                                    </li>\n",
       "<li class=\"multi-choice-item\">\n",
       "<span class=\"multi-choice-letter\" data-choice-letter=\"C\">\n",
       "                                                                C.\n",
       "                                                            </span>\n",
       "                                                        \n",
       "                                                        select * from Event where EventType == \"error\"\n",
       "                                                    </li>\n",
       "<li class=\"multi-choice-item\">\n",
       "<span class=\"multi-choice-letter\" data-choice-letter=\"D\">\n",
       "                                                                D.\n",
       "                                                            </span>\n",
       "                                                        \n",
       "                                                        Get-Event Event | where {$_.EventType == \"error\"}\n",
       "                                                    </li>\n",
       "</ul>\n",
       "</div>\n",
       "<!-- exam-view410 -->\n",
       "<a class=\"btn btn-primary reveal-solution d-print-none\" href=\"https://www.examtopics.com/exams/microsoft/az-104/view/#\">Reveal Solution</a>\n",
       "<a class=\"btn btn-primary hide-solution d-none d-print-none\" href=\"https://www.examtopics.com/exams/microsoft/az-104/view/#\">Hide Solution</a>\n",
       "<a class=\"btn btn-secondary question-discussion-button d-print-none\" href=\"https://www.examtopics.com/exams/microsoft/az-104/view/#\">\n",
       "<i class=\"fa fa-comment\"></i>\n",
       "                                              Discussion  \n",
       "                                            \n",
       "                                                <span class=\"badge badge-pill badge-light\">11</span>\n",
       "</a>\n",
       "<!-- exam-view411 -->\n",
       "\n",
       "<!-- exam-view412 -->\n",
       "</div>\n",
       "</div></body></html>"
      ],
      "text/plain": [
       "<IPython.core.display.HTML object>"
      ]
     },
     "execution_count": 36,
     "metadata": {},
     "output_type": "execute_result"
    }
   ],
   "source": [
    "\n",
    "HTML('<body><html>'+str(questions[htmlQRef[16]])+'</body></html>')"
   ]
  },
  {
   "cell_type": "markdown",
   "metadata": {},
   "source": [
    "Question 18"
   ]
  },
  {
   "cell_type": "code",
   "execution_count": 37,
   "metadata": {},
   "outputs": [
    {
     "data": {
      "text/html": [
       "<body><html><div class=\"card exam-question-card\">\n",
       "<div class=\"card-header text-white bg-primary\">\n",
       "                                    Question #22\n",
       "                                    <span class=\"question-title-topic pull-right\">\n",
       "                                        Topic 1\n",
       "                                    </span>\n",
       "</div>\n",
       "<div class=\"card-body question-body\" data-id=\"804274\">\n",
       "<p class=\"card-text\">\n",
       "                                        \n",
       "                                        \n",
       "                                            Your company has an Azure Active Directory (Azure AD) tenant that is configured for hybrid coexistence with the on-premises Active Directory domain.<br/>You plan to deploy several new virtual machines (VMs) in Azure. The VMs will have the same operating system and custom software requirements.<br/>You configure a reference VM in the on-premise virtual environment. You then generalize the VM to create an image.<br/>You need to upload the image to Azure to ensure that it is available for selection when you create the new Azure VMs.<br/>Which PowerShell cmdlets should you use?<br/>\n",
       "</p>\n",
       "<!-- exam-view49 -->\n",
       "<div class=\"question-choices-container\">\n",
       "<div class=\"voted-answers-tally d-none\">\n",
       "<script id=\"804274\" type=\"application/json\">[{\"voted_answers\": \"B\", \"vote_count\": 73, \"is_most_voted\": true}, {\"voted_answers\": \"C\", \"vote_count\": 7, \"is_most_voted\": false}]</script>\n",
       "</div>\n",
       "<ul>\n",
       "<li class=\"multi-choice-item\">\n",
       "<span class=\"multi-choice-letter\" data-choice-letter=\"A\">\n",
       "                                                                A.\n",
       "                                                            </span>\n",
       "                                                        \n",
       "                                                        Add-AzVM\n",
       "                                                    </li>\n",
       "<li class=\"multi-choice-item correct-hidden\">\n",
       "<span class=\"multi-choice-letter\" data-choice-letter=\"B\">\n",
       "                                                                B.\n",
       "                                                            </span>\n",
       "                                                        \n",
       "                                                        Add-AzVhd\n",
       "                                                    <span class=\"badge badge-success most-voted-answer-badge\" data-original-title=\"This answer is currently the most voted for in the discussion\" style=\"display: none;\" title=\"\">\n",
       "                Most Voted\n",
       "            </span></li>\n",
       "<li class=\"multi-choice-item\">\n",
       "<span class=\"multi-choice-letter\" data-choice-letter=\"C\">\n",
       "                                                                C.\n",
       "                                                            </span>\n",
       "                                                        \n",
       "                                                        Add-AzImage\n",
       "                                                    </li>\n",
       "<li class=\"multi-choice-item\">\n",
       "<span class=\"multi-choice-letter\" data-choice-letter=\"D\">\n",
       "                                                                D.\n",
       "                                                            </span>\n",
       "                                                        \n",
       "                                                        Add-AzImageDataDisk\n",
       "                                                    </li>\n",
       "</ul>\n",
       "</div>\n",
       "<!-- exam-view410 -->\n",
       "<a class=\"btn btn-primary reveal-solution d-print-none\" href=\"https://www.examtopics.com/exams/microsoft/az-104/view/#\">Reveal Solution</a>\n",
       "<a class=\"btn btn-primary hide-solution d-none d-print-none\" href=\"https://www.examtopics.com/exams/microsoft/az-104/view/#\">Hide Solution</a>\n",
       "<a class=\"btn btn-secondary question-discussion-button d-print-none\" href=\"https://www.examtopics.com/exams/microsoft/az-104/view/#\">\n",
       "<i class=\"fa fa-comment\"></i>\n",
       "                                              Discussion  \n",
       "                                            \n",
       "                                                <span class=\"badge badge-pill badge-light\">49</span>\n",
       "</a>\n",
       "<!-- exam-view411 -->\n",
       "\n",
       "<!-- exam-view412 -->\n",
       "</div>\n",
       "</div></body></html>"
      ],
      "text/plain": [
       "<IPython.core.display.HTML object>"
      ]
     },
     "execution_count": 37,
     "metadata": {},
     "output_type": "execute_result"
    }
   ],
   "source": [
    "\n",
    "HTML('<body><html>'+str(questions[htmlQRef[17]])+'</body></html>')"
   ]
  },
  {
   "cell_type": "markdown",
   "metadata": {},
   "source": [
    "Question 19"
   ]
  },
  {
   "cell_type": "code",
   "execution_count": 38,
   "metadata": {},
   "outputs": [
    {
     "data": {
      "text/html": [
       "<body><html><div class=\"card exam-question-card\">\n",
       "<div class=\"card-header text-white bg-primary\">\n",
       "                                    Question #59\n",
       "                                    <span class=\"question-title-topic pull-right\">\n",
       "                                        Topic 2\n",
       "                                    </span>\n",
       "</div>\n",
       "<div class=\"card-body question-body\" data-id=\"804351\">\n",
       "<p class=\"card-text\">\n",
       "                                        \n",
       "                                        \n",
       "                                            Note: This question is part of a series of questions that present the same scenario. Each question in the series contains a unique solution that might meet the stated goals. Some question sets might have more than one correct solution, while others might not have a correct solution.<br/>After you answer a question in this section, you will NOT be able to return to it. As a result, these questions will not appear in the review screen.<br/>You have an Azure subscription that contains the following users in an Azure Active Directory tenant named contoso.onmicrosoft.com:<br/><img class=\"in-exam-image\" src=\"./AZ-104_Exam_ ExamTopics_files/0012200001.png\"/><br/>User1 creates a new Azure Active Directory tenant named external.contoso.onmicrosoft.com.<br/>You need to create new user accounts in external.contoso.onmicrosoft.com.<br/>Solution: You instruct User4 to create the user accounts.<br/>Does that meet the goal?<br/>\n",
       "</p>\n",
       "<!-- exam-view49 -->\n",
       "<div class=\"question-choices-container\">\n",
       "<div class=\"voted-answers-tally d-none\">\n",
       "<script id=\"804351\" type=\"application/json\">[{\"voted_answers\": \"B\", \"vote_count\": 50, \"is_most_voted\": true}, {\"voted_answers\": \"A\", \"vote_count\": 3, \"is_most_voted\": false}]</script>\n",
       "</div>\n",
       "<ul>\n",
       "<li class=\"multi-choice-item\">\n",
       "<span class=\"multi-choice-letter\" data-choice-letter=\"A\">\n",
       "                                                                A.\n",
       "                                                            </span>\n",
       "                                                        \n",
       "                                                        Yes\n",
       "                                                    </li>\n",
       "<li class=\"multi-choice-item correct-hidden\">\n",
       "<span class=\"multi-choice-letter\" data-choice-letter=\"B\">\n",
       "                                                                B.\n",
       "                                                            </span>\n",
       "                                                        \n",
       "                                                        No\n",
       "                                                    <span class=\"badge badge-success most-voted-answer-badge\" data-original-title=\"This answer is currently the most voted for in the discussion\" style=\"display: none;\" title=\"\">\n",
       "                Most Voted\n",
       "            </span></li>\n",
       "</ul>\n",
       "</div>\n",
       "<!-- exam-view410 -->\n",
       "<a class=\"btn btn-primary reveal-solution d-print-none\" href=\"https://www.examtopics.com/exams/microsoft/az-104/view/#\">Reveal Solution</a>\n",
       "<a class=\"btn btn-primary hide-solution d-none d-print-none\" href=\"https://www.examtopics.com/exams/microsoft/az-104/view/#\">Hide Solution</a>\n",
       "<a class=\"btn btn-secondary question-discussion-button d-print-none\" href=\"https://www.examtopics.com/exams/microsoft/az-104/view/#\">\n",
       "<i class=\"fa fa-comment\"></i>\n",
       "                                              Discussion  \n",
       "                                            \n",
       "                                                <span class=\"badge badge-pill badge-light\">34</span>\n",
       "</a>\n",
       "<!-- exam-view411 -->\n",
       "\n",
       "<!-- exam-view412 -->\n",
       "</div>\n",
       "</div></body></html>"
      ],
      "text/plain": [
       "<IPython.core.display.HTML object>"
      ]
     },
     "execution_count": 38,
     "metadata": {},
     "output_type": "execute_result"
    }
   ],
   "source": [
    "\n",
    "HTML('<body><html>'+str(questions[htmlQRef[18]])+'</body></html>')"
   ]
  },
  {
   "cell_type": "markdown",
   "metadata": {},
   "source": [
    "Question 20"
   ]
  },
  {
   "cell_type": "code",
   "execution_count": 39,
   "metadata": {},
   "outputs": [
    {
     "data": {
      "text/html": [
       "<body><html><div class=\"card exam-question-card\">\n",
       "<div class=\"card-header text-white bg-primary\">\n",
       "                                    Question #16\n",
       "                                    <span class=\"question-title-topic pull-right\">\n",
       "                                        Topic 2\n",
       "                                    </span>\n",
       "</div>\n",
       "<div class=\"card-body question-body\" data-id=\"804308\">\n",
       "<p class=\"card-text\">\n",
       "                                        \n",
       "                                        \n",
       "                                            You have an Azure subscription named Subscription1 that contains a virtual network named VNet1. VNet1 is in a resource group named RG1.<br/>Subscription1 has a user named User1. User1 has the following roles:<br/>✑ Reader<br/>✑ Security Admin<br/>✑ Security Reader<br/>You need to ensure that User1 can assign the Reader role for VNet1 to other users.<br/>What should you do?<br/>\n",
       "</p>\n",
       "<!-- exam-view49 -->\n",
       "<div class=\"question-choices-container\">\n",
       "<div class=\"voted-answers-tally d-none\">\n",
       "<script id=\"804308\" type=\"application/json\">[{\"voted_answers\": \"B\", \"vote_count\": 22, \"is_most_voted\": true}, {\"voted_answers\": \"C\", \"vote_count\": 4, \"is_most_voted\": false}]</script>\n",
       "</div>\n",
       "<ul>\n",
       "<li class=\"multi-choice-item\">\n",
       "<span class=\"multi-choice-letter\" data-choice-letter=\"A\">\n",
       "                                                                A.\n",
       "                                                            </span>\n",
       "                                                        \n",
       "                                                        Remove User1 from the Security Reader and Reader roles for Subscription1.\n",
       "                                                    </li>\n",
       "<li class=\"multi-choice-item correct-hidden\">\n",
       "<span class=\"multi-choice-letter\" data-choice-letter=\"B\">\n",
       "                                                                B.\n",
       "                                                            </span>\n",
       "                                                        \n",
       "                                                        Assign User1 the User Access Administrator role for VNet1.\n",
       "                                                    <span class=\"badge badge-success most-voted-answer-badge\" data-original-title=\"This answer is currently the most voted for in the discussion\" style=\"display: none;\" title=\"\">\n",
       "                Most Voted\n",
       "            </span></li>\n",
       "<li class=\"multi-choice-item\">\n",
       "<span class=\"multi-choice-letter\" data-choice-letter=\"C\">\n",
       "                                                                C.\n",
       "                                                            </span>\n",
       "                                                        \n",
       "                                                        Assign User1 the Network Contributor role for VNet1.\n",
       "                                                    </li>\n",
       "<li class=\"multi-choice-item\">\n",
       "<span class=\"multi-choice-letter\" data-choice-letter=\"D\">\n",
       "                                                                D.\n",
       "                                                            </span>\n",
       "                                                        \n",
       "                                                        Assign User1 the Network Contributor role for RG1.\n",
       "                                                    </li>\n",
       "</ul>\n",
       "</div>\n",
       "<!-- exam-view410 -->\n",
       "<a class=\"btn btn-primary reveal-solution d-print-none\" href=\"https://www.examtopics.com/exams/microsoft/az-104/view/#\">Reveal Solution</a>\n",
       "<a class=\"btn btn-primary hide-solution d-none d-print-none\" href=\"https://www.examtopics.com/exams/microsoft/az-104/view/#\">Hide Solution</a>\n",
       "<a class=\"btn btn-secondary question-discussion-button d-print-none\" href=\"https://www.examtopics.com/exams/microsoft/az-104/view/#\">\n",
       "<i class=\"fa fa-comment\"></i>\n",
       "                                              Discussion  \n",
       "                                            \n",
       "                                                <span class=\"badge badge-pill badge-light\">51</span>\n",
       "</a>\n",
       "<!-- exam-view411 -->\n",
       "\n",
       "<!-- exam-view412 -->\n",
       "</div>\n",
       "</div></body></html>"
      ],
      "text/plain": [
       "<IPython.core.display.HTML object>"
      ]
     },
     "execution_count": 39,
     "metadata": {},
     "output_type": "execute_result"
    }
   ],
   "source": [
    "\n",
    "HTML('<body><html>'+str(questions[htmlQRef[19]])+'</body></html>')"
   ]
  },
  {
   "cell_type": "markdown",
   "metadata": {},
   "source": [
    "Question 21"
   ]
  },
  {
   "cell_type": "code",
   "execution_count": 40,
   "metadata": {},
   "outputs": [
    {
     "data": {
      "text/html": [
       "<body><html><div class=\"card exam-question-card\">\n",
       "<div class=\"card-header text-white bg-primary\">\n",
       "                                    Question #41\n",
       "                                    <span class=\"question-title-topic pull-right\">\n",
       "                                        Topic 5\n",
       "                                    </span>\n",
       "</div>\n",
       "<div class=\"card-body question-body\" data-id=\"804524\">\n",
       "<p class=\"card-text\">\n",
       "                                        \n",
       "                                        \n",
       "                                            You have an Azure subscription named Subscription1 that contains an Azure virtual network named VNet1. VNet1 connects to your on-premises network by using<br/>Azure ExpressRoute.<br/>You plan to prepare the environment for automatic failover in case of ExpressRoute failure.<br/>You need to connect VNet1 to the on-premises network by using a site-to-site VPN. The solution must minimize cost.<br/>Which three actions should you perform? Each correct answer presents part of the solution.<br/>NOTE: Each correct selection is worth one point.<br/>\n",
       "</p>\n",
       "<!-- exam-view49 -->\n",
       "<div class=\"question-choices-container\">\n",
       "<div class=\"voted-answers-tally d-none\">\n",
       "<script id=\"804524\" type=\"application/json\">[{\"voted_answers\": \"ABC\", \"vote_count\": 26, \"is_most_voted\": true}, {\"voted_answers\": \"ADE\", \"vote_count\": 4, \"is_most_voted\": false}, {\"voted_answers\": \"BDE\", \"vote_count\": 1, \"is_most_voted\": false}]</script>\n",
       "</div>\n",
       "<ul>\n",
       "<li class=\"multi-choice-item correct-hidden\">\n",
       "<span class=\"multi-choice-letter\" data-choice-letter=\"A\">\n",
       "                                                                A.\n",
       "                                                            </span>\n",
       "                                                        \n",
       "                                                        Create a connection\n",
       "                                                    <span class=\"badge badge-success most-voted-answer-badge\" data-original-title=\"This answer is currently the most voted for in the discussion\" style=\"display: none;\" title=\"\">\n",
       "                Most Voted\n",
       "            </span></li>\n",
       "<li class=\"multi-choice-item\">\n",
       "<span class=\"multi-choice-letter\" data-choice-letter=\"B\">\n",
       "                                                                B.\n",
       "                                                            </span>\n",
       "                                                        \n",
       "                                                        Create a local site VPN gateway\n",
       "                                                    <span class=\"badge badge-success most-voted-answer-badge\" data-original-title=\"This answer is currently the most voted for in the discussion\" style=\"display: none;\" title=\"\">\n",
       "                Most Voted\n",
       "            </span></li>\n",
       "<li class=\"multi-choice-item\">\n",
       "<span class=\"multi-choice-letter\" data-choice-letter=\"C\">\n",
       "                                                                C.\n",
       "                                                            </span>\n",
       "                                                        \n",
       "                                                        Create a VPN gateway that uses the VpnGw1 SKU\n",
       "                                                    <span class=\"badge badge-success most-voted-answer-badge\" data-original-title=\"This answer is currently the most voted for in the discussion\" style=\"display: none;\" title=\"\">\n",
       "                Most Voted\n",
       "            </span></li>\n",
       "<li class=\"multi-choice-item correct-hidden\">\n",
       "<span class=\"multi-choice-letter\" data-choice-letter=\"D\">\n",
       "                                                                D.\n",
       "                                                            </span>\n",
       "                                                        \n",
       "                                                        Create a gateway subnet\n",
       "                                                    </li>\n",
       "<li class=\"multi-choice-item correct-hidden\">\n",
       "<span class=\"multi-choice-letter\" data-choice-letter=\"E\">\n",
       "                                                                E.\n",
       "                                                            </span>\n",
       "                                                        \n",
       "                                                        Create a VPN gateway that uses the Basic SKU\n",
       "                                                    </li>\n",
       "</ul>\n",
       "</div>\n",
       "<!-- exam-view410 -->\n",
       "<a class=\"btn btn-primary reveal-solution d-print-none\" href=\"https://www.examtopics.com/exams/microsoft/az-104/view/#\">Reveal Solution</a>\n",
       "<a class=\"btn btn-primary hide-solution d-none d-print-none\" href=\"https://www.examtopics.com/exams/microsoft/az-104/view/#\">Hide Solution</a>\n",
       "<a class=\"btn btn-secondary question-discussion-button d-print-none\" href=\"https://www.examtopics.com/exams/microsoft/az-104/view/#\">\n",
       "<i class=\"fa fa-comment\"></i>\n",
       "                                              Discussion  \n",
       "                                            \n",
       "                                                <span class=\"badge badge-pill badge-light\">90</span>\n",
       "</a>\n",
       "<!-- exam-view411 -->\n",
       "\n",
       "<!-- exam-view412 -->\n",
       "</div>\n",
       "</div></body></html>"
      ],
      "text/plain": [
       "<IPython.core.display.HTML object>"
      ]
     },
     "execution_count": 40,
     "metadata": {},
     "output_type": "execute_result"
    }
   ],
   "source": [
    "\n",
    "HTML('<body><html>'+str(questions[htmlQRef[20]])+'</body></html>')"
   ]
  },
  {
   "cell_type": "markdown",
   "metadata": {},
   "source": [
    "Question 22"
   ]
  },
  {
   "cell_type": "code",
   "execution_count": 41,
   "metadata": {},
   "outputs": [
    {
     "data": {
      "text/html": [
       "<body><html><div class=\"card exam-question-card\">\n",
       "<div class=\"card-header text-white bg-primary\">\n",
       "                                    Question #2\n",
       "                                    <span class=\"question-title-topic pull-right\">\n",
       "                                        Topic 13\n",
       "                                    </span>\n",
       "</div>\n",
       "<div class=\"card-body question-body\" data-id=\"804633\">\n",
       "<p class=\"card-text\">\n",
       "<span class=\"inquestion-subtitle mb-0 mt-0\">Introductory Info</span>\n",
       "                                            Case study -<br/>This is a case study. Case studies are not timed separately. You can use as much exam time as you would like to complete each case. However, there may be additional case studies and sections on this exam. You must manage your time to ensure that you are able to complete all questions included on this exam in the time provided.<br/>To answer the questions included in a case study, you will need to reference information that is provided in the case study. Case studies might contain exhibits and other resources that provide more information about the scenario that is described in the case study. Each question is independent of the other questions in this case study.<br/>At the end of this case study, a review screen will appear. This screen allows you to review your answers and to make changes before you move to the next section of the exam. After you begin a new section, you cannot return to this section.<br/><br/>To start the case study -<br/>To display the first question in this case study, click the Next button. Use the buttons in the left pane to explore the content of the case study before you answer the questions. Clicking these buttons displays information such as business requirements, existing environment, and problem statements. If the case study has an All Information tab, note that the information displayed is identical to the information displayed on the subsequent tabs. When you are ready to answer a question, click the Question button to return to the question.<br/><br/>Overview -<br/>Litware, Inc. is a consulting company that has a main office in Montreal and two branch offices in Seattle and New York.<br/>The Montreal office has 2,000 employees. The Seattle office has 1,000 employees. The New York office has 200 employees.<br/>All the resources used by Litware are hosted on-premises.<br/>Litware creates a new Azure subscription. The Azure Active Directory (Azure AD) tenant uses a domain named litware.onmicrosoft.com. The tenant uses the<br/>Premium P1 pricing tier.<br/><br/>Existing Environment -<br/>The network contains an Active Directory forest named litware.com. All domain controllers are configured as DNS servers and host the litware.com DNS zone.<br/>Litware has finance, human resources, sales, research, and information technology departments. Each department has an organizational unit (OU) that contains all the accounts of that respective department. All the user accounts have the department attribute set to their respective department. New users are added frequently.<br/>Litware.com contains a user named User1.<br/>All the offices connect by using private connections.<br/>Litware has data centers in the Montreal and Seattle offices. Each office has a firewall that can be configured as a VPN device.<br/>All infrastructure servers are virtualized. The virtualization environment contains the servers in the following table.<br/><img class=\"in-exam-image\" src=\"./AZ-104_Exam_ ExamTopics_files/0050800001.png\"/><br/>Litware uses two web applications named App1 and App2. Each instance on each web application requires 1 GB of memory.<br/>The Azure subscription contains the resources in the following table.<br/><img class=\"in-exam-image\" src=\"./AZ-104_Exam_ ExamTopics_files/0050800002.png\"/><br/>The network security team implements several network security groups (NSGs)<br/><br/>Requirements -<br/><br/>Planned Changes -<br/>Litware plans to implement the following changes:<br/> Deploy Azure ExpressRoute to the Montreal office.<br/> Migrate the virtual machines hosted on Server1 and Server2 to Azure.<br/> Synchronize on-premises Active Directory to Azure Active Directory (Azure AD).<br/> Migrate App1 and App2 to two Azure web apps named WebApp1 and WebApp2.<br/><br/>Technical Requirements -<br/>Litware must meet the following technical requirements:<br/>Ensure that WebApp1 can adjust the number of instances automatically based on the load and can scale up to five instances.<br/><img class=\"in-exam-image\" src=\"./AZ-104_Exam_ ExamTopics_files/0050800007.png\"/><br/> Ensure that VM3 can establish outbound connections over TCP port 8080 to the applications servers in the Montreal office.<br/> Ensure that routing information is exchanged automatically between Azure and the routers in the Montreal office.<br/> Enable Azure Multi-Factor Authentication (MFA) for the users in the finance department only.<br/> Ensure that webapp2.azurewebsites.net can be accessed by using the name app2.litware.com.<br/> Connect the New York office to VNet1 over the Internet by using an encrypted connection.<br/> Create a workflow to send an email message when the settings of VM4 are modified.<br/> Create a custom Azure role named Role1 that is based on the Reader role.<br/> Minimize costs whenever possible.\n",
       "                                            <span class=\"inquestion-subtitle mb-0 mt-3\">Question</span>\n",
       "                                        \n",
       "                                        \n",
       "                                            HOTSPOT -<br/>You need to meet the connection requirements for the New York office.<br/>What should you do? To answer, select the appropriate options in the answer area.<br/>NOTE: Each correct selection is worth one point.<br/>Hot Area:<br/><img class=\"in-exam-image\" src=\"./AZ-104_Exam_ ExamTopics_files/0051000001.png\"/><br/>\n",
       "</p>\n",
       "<!-- exam-view49 -->\n",
       "<!-- exam-view410 -->\n",
       "<a class=\"btn btn-primary reveal-solution d-print-none\" href=\"https://www.examtopics.com/exams/microsoft/az-104/view/#\">Reveal Solution</a>\n",
       "<a class=\"btn btn-primary hide-solution d-none d-print-none\" href=\"https://www.examtopics.com/exams/microsoft/az-104/view/#\">Hide Solution</a>\n",
       "<a class=\"btn btn-secondary question-discussion-button d-print-none\" href=\"https://www.examtopics.com/exams/microsoft/az-104/view/#\">\n",
       "<i class=\"fa fa-comment\"></i>\n",
       "                                              Discussion  \n",
       "                                            \n",
       "                                                <span class=\"badge badge-pill badge-light\">25</span>\n",
       "</a>\n",
       "<!-- exam-view411 -->\n",
       "\n",
       "<!-- exam-view412 -->\n",
       "</div>\n",
       "</div></body></html>"
      ],
      "text/plain": [
       "<IPython.core.display.HTML object>"
      ]
     },
     "execution_count": 41,
     "metadata": {},
     "output_type": "execute_result"
    }
   ],
   "source": [
    "\n",
    "HTML('<body><html>'+str(questions[htmlQRef[21]])+'</body></html>')"
   ]
  },
  {
   "cell_type": "markdown",
   "metadata": {},
   "source": [
    "Question 23"
   ]
  },
  {
   "cell_type": "code",
   "execution_count": 42,
   "metadata": {},
   "outputs": [
    {
     "data": {
      "text/html": [
       "<body><html><div class=\"card exam-question-card\">\n",
       "<div class=\"card-header text-white bg-primary\">\n",
       "                                    Question #25\n",
       "                                    <span class=\"question-title-topic pull-right\">\n",
       "                                        Topic 2\n",
       "                                    </span>\n",
       "</div>\n",
       "<div class=\"card-body question-body\" data-id=\"804317\">\n",
       "<p class=\"card-text\">\n",
       "                                        \n",
       "                                        \n",
       "                                            HOTSPOT -<br/>You have an Azure subscription named Subscription1 that has a subscription ID of c276fc76-9cd4-44c9-99a7-4fd71546436e.<br/>You need to create a custom RBAC role named CR1 that meets the following requirements:<br/>✑ Can be assigned only to the resource groups in Subscription1<br/>✑ Prevents the management of the access permissions for the resource groups<br/>✑ Allows the viewing, creating, modifying, and deleting of resources within the resource groups<br/>What should you specify in the assignable scopes and the permission elements of the definition of CR1? To answer, select the appropriate options in the answer area.<br/>NOTE: Each correct selection is worth one point.<br/>Hot Area:<br/><img class=\"in-exam-image\" src=\"./AZ-104_Exam_ ExamTopics_files/0006900001.jpg\"/><br/>\n",
       "</p>\n",
       "<!-- exam-view49 -->\n",
       "<!-- exam-view410 -->\n",
       "<a class=\"btn btn-primary reveal-solution d-print-none\" href=\"https://www.examtopics.com/exams/microsoft/az-104/view/#\">Reveal Solution</a>\n",
       "<a class=\"btn btn-primary hide-solution d-none d-print-none\" href=\"https://www.examtopics.com/exams/microsoft/az-104/view/#\">Hide Solution</a>\n",
       "<a class=\"btn btn-secondary question-discussion-button d-print-none\" href=\"https://www.examtopics.com/exams/microsoft/az-104/view/#\">\n",
       "<i class=\"fa fa-comment\"></i>\n",
       "                                              Discussion  \n",
       "                                            \n",
       "                                                <span class=\"badge badge-pill badge-light\">114</span>\n",
       "</a>\n",
       "<!-- exam-view411 -->\n",
       "\n",
       "<!-- exam-view412 -->\n",
       "</div>\n",
       "</div></body></html>"
      ],
      "text/plain": [
       "<IPython.core.display.HTML object>"
      ]
     },
     "execution_count": 42,
     "metadata": {},
     "output_type": "execute_result"
    }
   ],
   "source": [
    "\n",
    "HTML('<body><html>'+str(questions[htmlQRef[22]])+'</body></html>')"
   ]
  },
  {
   "cell_type": "markdown",
   "metadata": {},
   "source": [
    "Question 24"
   ]
  },
  {
   "cell_type": "code",
   "execution_count": 43,
   "metadata": {},
   "outputs": [
    {
     "data": {
      "text/html": [
       "<body><html><div class=\"card exam-question-card\">\n",
       "<div class=\"card-header text-white bg-primary\">\n",
       "                                    Question #31\n",
       "                                    <span class=\"question-title-topic pull-right\">\n",
       "                                        Topic 5\n",
       "                                    </span>\n",
       "</div>\n",
       "<div class=\"card-body question-body\" data-id=\"804514\">\n",
       "<p class=\"card-text\">\n",
       "                                        \n",
       "                                        \n",
       "                                            HOTSPOT -<br/>You have an Azure subscription that contains the resources shown in the following table.<br/><img class=\"in-exam-image\" src=\"./AZ-104_Exam_ ExamTopics_files/0039500001.png\"/><br/>VMSS1 is set to VM (virtual machines) orchestration mode.<br/>You need to deploy a new Azure virtual machine named VM1, and then add VM1 to VMSS1.<br/>Which resource group and location should you use to deploy VM1? To answer, select the appropriate options in the answer area.<br/>NOTE: Each correct selection is worth one point.<br/>Hot Area:<br/><img class=\"in-exam-image\" src=\"./AZ-104_Exam_ ExamTopics_files/0039500002.png\"/><br/>\n",
       "</p>\n",
       "<!-- exam-view49 -->\n",
       "<!-- exam-view410 -->\n",
       "<a class=\"btn btn-primary reveal-solution d-print-none\" href=\"https://www.examtopics.com/exams/microsoft/az-104/view/#\">Reveal Solution</a>\n",
       "<a class=\"btn btn-primary hide-solution d-none d-print-none\" href=\"https://www.examtopics.com/exams/microsoft/az-104/view/#\">Hide Solution</a>\n",
       "<a class=\"btn btn-secondary question-discussion-button d-print-none\" href=\"https://www.examtopics.com/exams/microsoft/az-104/view/#\">\n",
       "<i class=\"fa fa-comment\"></i>\n",
       "                                              Discussion  \n",
       "                                            \n",
       "                                                <span class=\"badge badge-pill badge-light\">49</span>\n",
       "</a>\n",
       "<!-- exam-view411 -->\n",
       "\n",
       "<!-- exam-view412 -->\n",
       "</div>\n",
       "</div></body></html>"
      ],
      "text/plain": [
       "<IPython.core.display.HTML object>"
      ]
     },
     "execution_count": 43,
     "metadata": {},
     "output_type": "execute_result"
    }
   ],
   "source": [
    "\n",
    "HTML('<body><html>'+str(questions[htmlQRef[23]])+'</body></html>')"
   ]
  },
  {
   "cell_type": "markdown",
   "metadata": {},
   "source": [
    "Question 25"
   ]
  },
  {
   "cell_type": "code",
   "execution_count": 44,
   "metadata": {},
   "outputs": [
    {
     "data": {
      "text/html": [
       "<body><html><div class=\"card exam-question-card\">\n",
       "<div class=\"card-header text-white bg-primary\">\n",
       "                                    Question #28\n",
       "                                    <span class=\"question-title-topic pull-right\">\n",
       "                                        Topic 1\n",
       "                                    </span>\n",
       "</div>\n",
       "<div class=\"card-body question-body\" data-id=\"804280\">\n",
       "<p class=\"card-text\">\n",
       "                                        \n",
       "                                        \n",
       "                                            Note: The question is included in a number of questions that depicts the identical set-up. However, every question has a distinctive result. Establish if the solution satisfies the requirements.<br/>Your company has a Microsoft SQL Server Always On availability group configured on their Azure virtual machines (VMs).<br/>You need to configure an Azure internal load balancer as a listener for the availability group.<br/>Solution: You create an HTTP health probe on port 1433.<br/>Does the solution meet the goal?<br/>\n",
       "</p>\n",
       "<!-- exam-view49 -->\n",
       "<div class=\"question-choices-container\">\n",
       "<div class=\"voted-answers-tally d-none\">\n",
       "<script id=\"804280\" type=\"application/json\">[{\"voted_answers\": \"B\", \"vote_count\": 31, \"is_most_voted\": true}]</script>\n",
       "</div>\n",
       "<ul>\n",
       "<li class=\"multi-choice-item\">\n",
       "<span class=\"multi-choice-letter\" data-choice-letter=\"A\">\n",
       "                                                                A.\n",
       "                                                            </span>\n",
       "                                                        \n",
       "                                                        Yes\n",
       "                                                    </li>\n",
       "<li class=\"multi-choice-item correct-hidden\">\n",
       "<span class=\"multi-choice-letter\" data-choice-letter=\"B\">\n",
       "                                                                B.\n",
       "                                                            </span>\n",
       "                                                        \n",
       "                                                        No\n",
       "                                                    <span class=\"badge badge-success most-voted-answer-badge\" data-original-title=\"This answer is currently the most voted for in the discussion\" style=\"display: none;\" title=\"\">\n",
       "                Most Voted\n",
       "            </span></li>\n",
       "</ul>\n",
       "</div>\n",
       "<!-- exam-view410 -->\n",
       "<a class=\"btn btn-primary reveal-solution d-print-none\" href=\"https://www.examtopics.com/exams/microsoft/az-104/view/#\">Reveal Solution</a>\n",
       "<a class=\"btn btn-primary hide-solution d-none d-print-none\" href=\"https://www.examtopics.com/exams/microsoft/az-104/view/#\">Hide Solution</a>\n",
       "<a class=\"btn btn-secondary question-discussion-button d-print-none\" href=\"https://www.examtopics.com/exams/microsoft/az-104/view/#\">\n",
       "<i class=\"fa fa-comment\"></i>\n",
       "                                              Discussion  \n",
       "                                            \n",
       "                                                <span class=\"badge badge-pill badge-light\">58</span>\n",
       "</a>\n",
       "<!-- exam-view411 -->\n",
       "\n",
       "<!-- exam-view412 -->\n",
       "</div>\n",
       "</div></body></html>"
      ],
      "text/plain": [
       "<IPython.core.display.HTML object>"
      ]
     },
     "execution_count": 44,
     "metadata": {},
     "output_type": "execute_result"
    }
   ],
   "source": [
    "\n",
    "HTML('<body><html>'+str(questions[htmlQRef[24]])+'</body></html>')"
   ]
  },
  {
   "cell_type": "markdown",
   "metadata": {},
   "source": [
    "Question 26"
   ]
  },
  {
   "cell_type": "code",
   "execution_count": 45,
   "metadata": {},
   "outputs": [
    {
     "data": {
      "text/html": [
       "<body><html><div class=\"card exam-question-card\">\n",
       "<div class=\"card-header text-white bg-primary\">\n",
       "                                    Question #40\n",
       "                                    <span class=\"question-title-topic pull-right\">\n",
       "                                        Topic 3\n",
       "                                    </span>\n",
       "</div>\n",
       "<div class=\"card-body question-body\" data-id=\"804394\">\n",
       "<p class=\"card-text\">\n",
       "                                        \n",
       "                                        \n",
       "                                            You have an Azure subscription that contains a storage account named storage1.<br/>You have the devices shown in the following table.<br/><img class=\"in-exam-image\" src=\"./AZ-104_Exam_ ExamTopics_files/0020700001.png\"/><br/>From which devices can you use AzCopy to copy data to storage1?<br/>\n",
       "</p>\n",
       "<!-- exam-view49 -->\n",
       "<div class=\"question-choices-container\">\n",
       "<div class=\"voted-answers-tally d-none\">\n",
       "<script id=\"804394\" type=\"application/json\">[{\"voted_answers\": \"B\", \"vote_count\": 40, \"is_most_voted\": true}]</script>\n",
       "</div>\n",
       "<ul>\n",
       "<li class=\"multi-choice-item\">\n",
       "<span class=\"multi-choice-letter\" data-choice-letter=\"A\">\n",
       "                                                                A.\n",
       "                                                            </span>\n",
       "                                                        \n",
       "                                                        Device 1 only\n",
       "                                                    </li>\n",
       "<li class=\"multi-choice-item correct-hidden\">\n",
       "<span class=\"multi-choice-letter\" data-choice-letter=\"B\">\n",
       "                                                                B.\n",
       "                                                            </span>\n",
       "                                                        \n",
       "                                                        Device1, Device2 and Device3\n",
       "                                                    <span class=\"badge badge-success most-voted-answer-badge\" data-original-title=\"This answer is currently the most voted for in the discussion\" style=\"display: none;\" title=\"\">\n",
       "                Most Voted\n",
       "            </span></li>\n",
       "<li class=\"multi-choice-item\">\n",
       "<span class=\"multi-choice-letter\" data-choice-letter=\"C\">\n",
       "                                                                C.\n",
       "                                                            </span>\n",
       "                                                        \n",
       "                                                        Device1 and Device2 only\n",
       "                                                    </li>\n",
       "<li class=\"multi-choice-item\">\n",
       "<span class=\"multi-choice-letter\" data-choice-letter=\"D\">\n",
       "                                                                D.\n",
       "                                                            </span>\n",
       "                                                        \n",
       "                                                        Device1 and Device3 only\n",
       "                                                    </li>\n",
       "</ul>\n",
       "</div>\n",
       "<!-- exam-view410 -->\n",
       "<a class=\"btn btn-primary reveal-solution d-print-none\" href=\"https://www.examtopics.com/exams/microsoft/az-104/view/#\">Reveal Solution</a>\n",
       "<a class=\"btn btn-primary hide-solution d-none d-print-none\" href=\"https://www.examtopics.com/exams/microsoft/az-104/view/#\">Hide Solution</a>\n",
       "<a class=\"btn btn-secondary question-discussion-button d-print-none\" href=\"https://www.examtopics.com/exams/microsoft/az-104/view/#\">\n",
       "<i class=\"fa fa-comment\"></i>\n",
       "                                              Discussion  \n",
       "                                            \n",
       "                                                <span class=\"badge badge-pill badge-light\">12</span>\n",
       "</a>\n",
       "<!-- exam-view411 -->\n",
       "\n",
       "<!-- exam-view412 -->\n",
       "</div>\n",
       "</div></body></html>"
      ],
      "text/plain": [
       "<IPython.core.display.HTML object>"
      ]
     },
     "execution_count": 45,
     "metadata": {},
     "output_type": "execute_result"
    }
   ],
   "source": [
    "\n",
    "HTML('<body><html>'+str(questions[htmlQRef[25]])+'</body></html>')"
   ]
  },
  {
   "cell_type": "markdown",
   "metadata": {},
   "source": [
    "Question 27"
   ]
  },
  {
   "cell_type": "code",
   "execution_count": 46,
   "metadata": {},
   "outputs": [
    {
     "data": {
      "text/html": [
       "<body><html><div class=\"card exam-question-card\">\n",
       "<div class=\"card-header text-white bg-primary\">\n",
       "                                    Question #45\n",
       "                                    <span class=\"question-title-topic pull-right\">\n",
       "                                        Topic 3\n",
       "                                    </span>\n",
       "</div>\n",
       "<div class=\"card-body question-body\" data-id=\"804399\">\n",
       "<p class=\"card-text\">\n",
       "                                        \n",
       "                                        \n",
       "                                            You have an on-premises server that contains a folder named D:\\Folder1.<br/>You need to copy the contents of D:\\Folder1 to the public container in an Azure Storage account named contosodata.<br/>Which command should you run?<br/>\n",
       "</p>\n",
       "<!-- exam-view49 -->\n",
       "<div class=\"question-choices-container\">\n",
       "<div class=\"voted-answers-tally d-none\">\n",
       "<script id=\"804399\" type=\"application/json\">[{\"voted_answers\": \"C\", \"vote_count\": 17, \"is_most_voted\": true}]</script>\n",
       "</div>\n",
       "<ul>\n",
       "<li class=\"multi-choice-item\">\n",
       "<span class=\"multi-choice-letter\" data-choice-letter=\"A\">\n",
       "                                                                A.\n",
       "                                                            </span>\n",
       "                                                        \n",
       "                                                        https://contosodata.blob.core.windows.net/public\n",
       "                                                    </li>\n",
       "<li class=\"multi-choice-item\">\n",
       "<span class=\"multi-choice-letter\" data-choice-letter=\"B\">\n",
       "                                                                B.\n",
       "                                                            </span>\n",
       "                                                        \n",
       "                                                        azcopy sync D:\\folder1 https://contosodata.blob.core.windows.net/public --snapshot\n",
       "                                                    </li>\n",
       "<li class=\"multi-choice-item correct-hidden\">\n",
       "<span class=\"multi-choice-letter\" data-choice-letter=\"C\">\n",
       "                                                                C.\n",
       "                                                            </span>\n",
       "                                                        \n",
       "                                                        azcopy copy D:\\folder1 https://contosodata.blob.core.windows.net/public --recursive\n",
       "                                                    <span class=\"badge badge-success most-voted-answer-badge\" data-original-title=\"This answer is currently the most voted for in the discussion\" style=\"display: none;\" title=\"\">\n",
       "                Most Voted\n",
       "            </span></li>\n",
       "<li class=\"multi-choice-item\">\n",
       "<span class=\"multi-choice-letter\" data-choice-letter=\"D\">\n",
       "                                                                D.\n",
       "                                                            </span>\n",
       "                                                        \n",
       "                                                        az storage blob copy start-batch D:\\Folder1 https://contosodata.blob.core.windows.net/public\n",
       "                                                    </li>\n",
       "</ul>\n",
       "</div>\n",
       "<!-- exam-view410 -->\n",
       "<a class=\"btn btn-primary reveal-solution d-print-none\" href=\"https://www.examtopics.com/exams/microsoft/az-104/view/#\">Reveal Solution</a>\n",
       "<a class=\"btn btn-primary hide-solution d-none d-print-none\" href=\"https://www.examtopics.com/exams/microsoft/az-104/view/#\">Hide Solution</a>\n",
       "<a class=\"btn btn-secondary question-discussion-button d-print-none\" href=\"https://www.examtopics.com/exams/microsoft/az-104/view/#\">\n",
       "<i class=\"fa fa-comment\"></i>\n",
       "                                              Discussion  \n",
       "                                            \n",
       "                                                <span class=\"badge badge-pill badge-light\">34</span>\n",
       "</a>\n",
       "<!-- exam-view411 -->\n",
       "\n",
       "<!-- exam-view412 -->\n",
       "</div>\n",
       "</div></body></html>"
      ],
      "text/plain": [
       "<IPython.core.display.HTML object>"
      ]
     },
     "execution_count": 46,
     "metadata": {},
     "output_type": "execute_result"
    }
   ],
   "source": [
    "\n",
    "HTML('<body><html>'+str(questions[htmlQRef[26]])+'</body></html>')"
   ]
  },
  {
   "cell_type": "markdown",
   "metadata": {},
   "source": [
    "Question 28"
   ]
  },
  {
   "cell_type": "code",
   "execution_count": 47,
   "metadata": {},
   "outputs": [
    {
     "data": {
      "text/html": [
       "<body><html><div class=\"card exam-question-card\">\n",
       "<div class=\"card-header text-white bg-primary\">\n",
       "                                    Question #9\n",
       "                                    <span class=\"question-title-topic pull-right\">\n",
       "                                        Topic 3\n",
       "                                    </span>\n",
       "</div>\n",
       "<div class=\"card-body question-body\" data-id=\"804363\">\n",
       "<p class=\"card-text\">\n",
       "                                        \n",
       "                                        \n",
       "                                            HOTSPOT -<br/>You have Azure subscription that includes following Azure file shares:<br/><img class=\"in-exam-image\" src=\"./AZ-104_Exam_ ExamTopics_files/0015500001.png\"/><br/>You have the following on-premises servers:<br/><img class=\"in-exam-image\" src=\"./AZ-104_Exam_ ExamTopics_files/0015500002.png\"/><br/>You create a Storage Sync Service named Sync1 and an Azure File Sync group named Group1. Group1 uses share1 as a cloud endpoint.<br/>You register Server1 and Server2 in Sync1. You add D:\\Folder1 on Server1 as a server endpoint of Group1.<br/>For each of the following statements, select Yes if the statement is true. Otherwise, select No.<br/>NOTE: Each correct selection is worth one point.<br/>Hot Area:<br/><img class=\"in-exam-image\" src=\"./AZ-104_Exam_ ExamTopics_files/0015600001.jpg\"/><br/>\n",
       "</p>\n",
       "<!-- exam-view49 -->\n",
       "<!-- exam-view410 -->\n",
       "<a class=\"btn btn-primary reveal-solution d-print-none\" href=\"https://www.examtopics.com/exams/microsoft/az-104/view/#\">Reveal Solution</a>\n",
       "<a class=\"btn btn-primary hide-solution d-none d-print-none\" href=\"https://www.examtopics.com/exams/microsoft/az-104/view/#\">Hide Solution</a>\n",
       "<a class=\"btn btn-secondary question-discussion-button d-print-none\" href=\"https://www.examtopics.com/exams/microsoft/az-104/view/#\">\n",
       "<i class=\"fa fa-comment\"></i>\n",
       "                                              Discussion  \n",
       "                                            \n",
       "                                                <span class=\"badge badge-pill badge-light\">121</span>\n",
       "</a>\n",
       "<!-- exam-view411 -->\n",
       "\n",
       "<!-- exam-view412 -->\n",
       "</div>\n",
       "</div></body></html>"
      ],
      "text/plain": [
       "<IPython.core.display.HTML object>"
      ]
     },
     "execution_count": 47,
     "metadata": {},
     "output_type": "execute_result"
    }
   ],
   "source": [
    "\n",
    "HTML('<body><html>'+str(questions[htmlQRef[27]])+'</body></html>')"
   ]
  },
  {
   "cell_type": "markdown",
   "metadata": {},
   "source": [
    "Question 29"
   ]
  },
  {
   "cell_type": "code",
   "execution_count": 48,
   "metadata": {},
   "outputs": [
    {
     "data": {
      "text/html": [
       "<body><html><div class=\"card exam-question-card\">\n",
       "<div class=\"card-header text-white bg-primary\">\n",
       "                                    Question #82\n",
       "                                    <span class=\"question-title-topic pull-right\">\n",
       "                                        Topic 2\n",
       "                                    </span>\n",
       "</div>\n",
       "<div class=\"card-body question-body\" data-id=\"889318\">\n",
       "<p class=\"card-text\">\n",
       "                                        \n",
       "                                        \n",
       "                                            Note: This question is part of a series of questions that present the same scenario. Each question in the series contains a unique solution that might meet the stated goals. Some question sets might have more than one correct solution, while others might not have a correct solution.<br/><br/>After you answer a question in this section, you will NOT be able to return to it. As a result, these questions will not appear in the review screen.<br/><br/>You have an Azure Active Directory (Azure AD) tenant named contoso.com.<br/><br/>You have a CSV file that contains the names and email addresses of 500 external users.<br/><br/>You need to create a guest user account in contoso.com for each of the 500 external users.<br/><br/>Solution: You create a PowerShell script that runs the New-MgUser cmdlet for each external user.<br/><br/>Does this meet the goal?\n",
       "                                        \n",
       "                                    </p>\n",
       "<!-- exam-view49 -->\n",
       "<div class=\"question-choices-container\">\n",
       "<div class=\"voted-answers-tally d-none\">\n",
       "<script id=\"889318\" type=\"application/json\">[{\"voted_answers\": \"B\", \"vote_count\": 4, \"is_most_voted\": false}]</script>\n",
       "</div>\n",
       "<ul>\n",
       "<li class=\"multi-choice-item\">\n",
       "<span class=\"multi-choice-letter\" data-choice-letter=\"A\">\n",
       "                                                                A.\n",
       "                                                            </span>\n",
       "                                                        \n",
       "                                                        Yes\n",
       "                                                    </li>\n",
       "<li class=\"multi-choice-item correct-hidden\">\n",
       "<span class=\"multi-choice-letter\" data-choice-letter=\"B\">\n",
       "                                                                B.\n",
       "                                                            </span>\n",
       "                                                        \n",
       "                                                        No\n",
       "                                                    </li>\n",
       "</ul>\n",
       "</div>\n",
       "<!-- exam-view410 -->\n",
       "<a class=\"btn btn-primary reveal-solution d-print-none\" href=\"https://www.examtopics.com/exams/microsoft/az-104/view/#\">Reveal Solution</a>\n",
       "<a class=\"btn btn-primary hide-solution d-none d-print-none\" href=\"https://www.examtopics.com/exams/microsoft/az-104/view/#\">Hide Solution</a>\n",
       "<a class=\"btn btn-secondary question-discussion-button d-print-none\" href=\"https://www.examtopics.com/exams/microsoft/az-104/view/#\">\n",
       "<i class=\"fa fa-comment\"></i>\n",
       "                                              Discussion  \n",
       "                                            \n",
       "                                                <span class=\"badge badge-pill badge-light\">11</span>\n",
       "</a>\n",
       "<!-- exam-view411 -->\n",
       "\n",
       "<!-- exam-view412 -->\n",
       "</div>\n",
       "</div></body></html>"
      ],
      "text/plain": [
       "<IPython.core.display.HTML object>"
      ]
     },
     "execution_count": 48,
     "metadata": {},
     "output_type": "execute_result"
    }
   ],
   "source": [
    "\n",
    "HTML('<body><html>'+str(questions[htmlQRef[28]])+'</body></html>')"
   ]
  },
  {
   "cell_type": "markdown",
   "metadata": {},
   "source": [
    "Question 30"
   ]
  },
  {
   "cell_type": "code",
   "execution_count": 49,
   "metadata": {},
   "outputs": [
    {
     "data": {
      "text/html": [
       "<body><html><div class=\"card exam-question-card\">\n",
       "<div class=\"card-header text-white bg-primary\">\n",
       "                                    Question #3\n",
       "                                    <span class=\"question-title-topic pull-right\">\n",
       "                                        Topic 4\n",
       "                                    </span>\n",
       "</div>\n",
       "<div class=\"card-body question-body\" data-id=\"804405\">\n",
       "<p class=\"card-text\">\n",
       "                                        \n",
       "                                        \n",
       "                                            Note: This question is part of a series of questions that present the same scenario. Each question in the series contains a unique solution that might meet the stated goals. Some question sets might have more than one correct solution, while others might not have a correct solution.<br/>After you answer a question in this section, you will NOT be able to return to it. As a result, these questions will not appear in the review screen.<br/>You deploy an Azure Kubernetes Service (AKS) cluster named AKS1.<br/>You need to deploy a YAML file to AKS1.<br/>Solution: From Azure CLI, you run azcopy.<br/>Does this meet the goal?<br/>\n",
       "</p>\n",
       "<!-- exam-view49 -->\n",
       "<div class=\"question-choices-container\">\n",
       "<div class=\"voted-answers-tally d-none\">\n",
       "<script id=\"804405\" type=\"application/json\">[{\"voted_answers\": \"B\", \"vote_count\": 6, \"is_most_voted\": true}]</script>\n",
       "</div>\n",
       "<ul>\n",
       "<li class=\"multi-choice-item\">\n",
       "<span class=\"multi-choice-letter\" data-choice-letter=\"A\">\n",
       "                                                                A.\n",
       "                                                            </span>\n",
       "                                                        \n",
       "                                                        Yes\n",
       "                                                    </li>\n",
       "<li class=\"multi-choice-item correct-hidden\">\n",
       "<span class=\"multi-choice-letter\" data-choice-letter=\"B\">\n",
       "                                                                B.\n",
       "                                                            </span>\n",
       "                                                        \n",
       "                                                        No\n",
       "                                                    <span class=\"badge badge-success most-voted-answer-badge\" data-original-title=\"This answer is currently the most voted for in the discussion\" style=\"display: none;\" title=\"\">\n",
       "                Most Voted\n",
       "            </span></li>\n",
       "</ul>\n",
       "</div>\n",
       "<!-- exam-view410 -->\n",
       "<a class=\"btn btn-primary reveal-solution d-print-none\" href=\"https://www.examtopics.com/exams/microsoft/az-104/view/#\">Reveal Solution</a>\n",
       "<a class=\"btn btn-primary hide-solution d-none d-print-none\" href=\"https://www.examtopics.com/exams/microsoft/az-104/view/#\">Hide Solution</a>\n",
       "<a class=\"btn btn-secondary question-discussion-button d-print-none\" href=\"https://www.examtopics.com/exams/microsoft/az-104/view/#\">\n",
       "<i class=\"fa fa-comment\"></i>\n",
       "                                              Discussion  \n",
       "                                            \n",
       "                                                <span class=\"badge badge-pill badge-light\">20</span>\n",
       "</a>\n",
       "<!-- exam-view411 -->\n",
       "\n",
       "<!-- exam-view412 -->\n",
       "</div>\n",
       "</div></body></html>"
      ],
      "text/plain": [
       "<IPython.core.display.HTML object>"
      ]
     },
     "execution_count": 49,
     "metadata": {},
     "output_type": "execute_result"
    }
   ],
   "source": [
    "\n",
    "HTML('<body><html>'+str(questions[htmlQRef[29]])+'</body></html>')"
   ]
  },
  {
   "cell_type": "markdown",
   "metadata": {},
   "source": [
    "Question 31"
   ]
  },
  {
   "cell_type": "code",
   "execution_count": 50,
   "metadata": {},
   "outputs": [
    {
     "data": {
      "text/html": [
       "<body><html><div class=\"card exam-question-card\">\n",
       "<div class=\"card-header text-white bg-primary\">\n",
       "                                    Question #85\n",
       "                                    <span class=\"question-title-topic pull-right\">\n",
       "                                        Topic 5\n",
       "                                    </span>\n",
       "</div>\n",
       "<div class=\"card-body question-body\" data-id=\"804568\">\n",
       "<p class=\"card-text\">\n",
       "                                        \n",
       "                                        \n",
       "                                            You have five Azure virtual machines that run Windows Server 2016. The virtual machines are configured as web servers.<br/>You have an Azure load balancer named LB1 that provides load balancing services for the virtual machines.<br/>You need to ensure that visitors are serviced by the same web server for each request.<br/>What should you configure?<br/>\n",
       "</p>\n",
       "<!-- exam-view49 -->\n",
       "<div class=\"question-choices-container\">\n",
       "<div class=\"voted-answers-tally d-none\">\n",
       "<script id=\"804568\" type=\"application/json\">[{\"voted_answers\": \"A\", \"vote_count\": 9, \"is_most_voted\": true}]</script>\n",
       "</div>\n",
       "<ul>\n",
       "<li class=\"multi-choice-item correct-hidden\">\n",
       "<span class=\"multi-choice-letter\" data-choice-letter=\"A\">\n",
       "                                                                A.\n",
       "                                                            </span>\n",
       "                                                        \n",
       "                                                        Session persistence to Client IP and protocol\n",
       "                                                    <span class=\"badge badge-success most-voted-answer-badge\" data-original-title=\"This answer is currently the most voted for in the discussion\" style=\"display: none;\" title=\"\">\n",
       "                Most Voted\n",
       "            </span></li>\n",
       "<li class=\"multi-choice-item\">\n",
       "<span class=\"multi-choice-letter\" data-choice-letter=\"B\">\n",
       "                                                                B.\n",
       "                                                            </span>\n",
       "                                                        \n",
       "                                                        Protocol to UDP\n",
       "                                                    </li>\n",
       "<li class=\"multi-choice-item\">\n",
       "<span class=\"multi-choice-letter\" data-choice-letter=\"C\">\n",
       "                                                                C.\n",
       "                                                            </span>\n",
       "                                                        \n",
       "                                                        Session persistence to None\n",
       "                                                    </li>\n",
       "<li class=\"multi-choice-item\">\n",
       "<span class=\"multi-choice-letter\" data-choice-letter=\"D\">\n",
       "                                                                D.\n",
       "                                                            </span>\n",
       "                                                        \n",
       "                                                        Floating IP (direct server return) to Enabled\n",
       "                                                    </li>\n",
       "</ul>\n",
       "</div>\n",
       "<!-- exam-view410 -->\n",
       "<a class=\"btn btn-primary reveal-solution d-print-none\" href=\"https://www.examtopics.com/exams/microsoft/az-104/view/#\">Reveal Solution</a>\n",
       "<a class=\"btn btn-primary hide-solution d-none d-print-none\" href=\"https://www.examtopics.com/exams/microsoft/az-104/view/#\">Hide Solution</a>\n",
       "<a class=\"btn btn-secondary question-discussion-button d-print-none\" href=\"https://www.examtopics.com/exams/microsoft/az-104/view/#\">\n",
       "<i class=\"fa fa-comment\"></i>\n",
       "                                              Discussion  \n",
       "                                            \n",
       "                                                <span class=\"badge badge-pill badge-light\">12</span>\n",
       "</a>\n",
       "<!-- exam-view411 -->\n",
       "\n",
       "<!-- exam-view412 -->\n",
       "</div>\n",
       "</div></body></html>"
      ],
      "text/plain": [
       "<IPython.core.display.HTML object>"
      ]
     },
     "execution_count": 50,
     "metadata": {},
     "output_type": "execute_result"
    }
   ],
   "source": [
    "\n",
    "HTML('<body><html>'+str(questions[htmlQRef[30]])+'</body></html>')"
   ]
  },
  {
   "cell_type": "markdown",
   "metadata": {},
   "source": [
    "Question 32"
   ]
  },
  {
   "cell_type": "code",
   "execution_count": 51,
   "metadata": {},
   "outputs": [
    {
     "data": {
      "text/html": [
       "<body><html><div class=\"card exam-question-card\">\n",
       "<div class=\"card-header text-white bg-primary\">\n",
       "                                    Question #75\n",
       "                                    <span class=\"question-title-topic pull-right\">\n",
       "                                        Topic 3\n",
       "                                    </span>\n",
       "</div>\n",
       "<div class=\"card-body question-body\" data-id=\"894977\">\n",
       "<p class=\"card-text\">\n",
       "                                        \n",
       "                                        \n",
       "                                            HOTSPOT<br/> -<br/><br/>You have an Azure subscription.<br/><br/>You plan to create a role definition to meet the following requirements:<br/><br/>•\tUsers must be able to view the configuration data of a storage account.<br/>•\tUsers must be able to perform all actions on a virtual network.<br/>•\tThe solution must use the principle of least privilege.<br/><br/>What should you include in the role definition for each requirement? To answer, select the appropriate options in the answer area.<br/><br/>NOTE: Each correct selection is worth one point.<br/><br/><img src=\"./AZ-104_Exam_ ExamTopics_files/image707.png\"/>\n",
       "</p>\n",
       "<!-- exam-view49 -->\n",
       "<!-- exam-view410 -->\n",
       "<a class=\"btn btn-primary reveal-solution d-print-none\" href=\"https://www.examtopics.com/exams/microsoft/az-104/view/#\">Reveal Solution</a>\n",
       "<a class=\"btn btn-primary hide-solution d-none d-print-none\" href=\"https://www.examtopics.com/exams/microsoft/az-104/view/#\">Hide Solution</a>\n",
       "<a class=\"btn btn-secondary question-discussion-button d-print-none\" href=\"https://www.examtopics.com/exams/microsoft/az-104/view/#\">\n",
       "<i class=\"fa fa-comment\"></i>\n",
       "                                              Discussion  \n",
       "                                            \n",
       "                                                <span class=\"badge badge-pill badge-light\">2</span>\n",
       "</a>\n",
       "<!-- exam-view411 -->\n",
       "\n",
       "<!-- exam-view412 -->\n",
       "</div>\n",
       "</div></body></html>"
      ],
      "text/plain": [
       "<IPython.core.display.HTML object>"
      ]
     },
     "execution_count": 51,
     "metadata": {},
     "output_type": "execute_result"
    }
   ],
   "source": [
    "\n",
    "HTML('<body><html>'+str(questions[htmlQRef[31]])+'</body></html>')"
   ]
  },
  {
   "cell_type": "markdown",
   "metadata": {},
   "source": [
    "Question 33"
   ]
  },
  {
   "cell_type": "code",
   "execution_count": 52,
   "metadata": {},
   "outputs": [
    {
     "data": {
      "text/html": [
       "<body><html><div class=\"card exam-question-card\">\n",
       "<div class=\"card-header text-white bg-primary\">\n",
       "                                    Question #78\n",
       "                                    <span class=\"question-title-topic pull-right\">\n",
       "                                        Topic 5\n",
       "                                    </span>\n",
       "</div>\n",
       "<div class=\"card-body question-body\" data-id=\"804561\">\n",
       "<p class=\"card-text\">\n",
       "                                        \n",
       "                                        \n",
       "                                            Note: This question is part of a series of questions that present the same scenario. Each question in the series contains a unique solution that might meet the stated goals. Some question sets might have more than one correct solution, while others might not have a correct solution.<br/>After you answer a question in this section, you will NOT be able to return to it. As a result, these questions will not appear in the review screen.<br/>You have an app named App1 that is installed on two Azure virtual machines named VM1 and VM2. Connections to App1 are managed by using an Azure Load<br/>Balancer.<br/>The effective network security configurations for VM2 are shown in the following exhibit.<br/><img class=\"in-exam-image\" src=\"./AZ-104_Exam_ ExamTopics_files/0047200001.jpg\"/><br/>You discover that connections to App1 from 131.107.100.50 over TCP port 443 fail.<br/>You verify that the Load Balancer rules are configured correctly.<br/>You need to ensure that connections to App1 can be established successfully from 131.107.100.50 over TCP port 443.<br/>Solution: You create an inbound security rule that denies all traffic from the 131.107.100.50 source and has a priority of 64999.<br/>Does this meet the goal?<br/>\n",
       "</p>\n",
       "<!-- exam-view49 -->\n",
       "<div class=\"question-choices-container\">\n",
       "<div class=\"voted-answers-tally d-none\">\n",
       "<script id=\"804561\" type=\"application/json\">[{\"voted_answers\": \"B\", \"vote_count\": 16, \"is_most_voted\": true}]</script>\n",
       "</div>\n",
       "<ul>\n",
       "<li class=\"multi-choice-item\">\n",
       "<span class=\"multi-choice-letter\" data-choice-letter=\"A\">\n",
       "                                                                A.\n",
       "                                                            </span>\n",
       "                                                        \n",
       "                                                        Yes\n",
       "                                                    </li>\n",
       "<li class=\"multi-choice-item correct-hidden\">\n",
       "<span class=\"multi-choice-letter\" data-choice-letter=\"B\">\n",
       "                                                                B.\n",
       "                                                            </span>\n",
       "                                                        \n",
       "                                                        No\n",
       "                                                    <span class=\"badge badge-success most-voted-answer-badge\" data-original-title=\"This answer is currently the most voted for in the discussion\" style=\"display: none;\" title=\"\">\n",
       "                Most Voted\n",
       "            </span></li>\n",
       "</ul>\n",
       "</div>\n",
       "<!-- exam-view410 -->\n",
       "<a class=\"btn btn-primary reveal-solution d-print-none\" href=\"https://www.examtopics.com/exams/microsoft/az-104/view/#\">Reveal Solution</a>\n",
       "<a class=\"btn btn-primary hide-solution d-none d-print-none\" href=\"https://www.examtopics.com/exams/microsoft/az-104/view/#\">Hide Solution</a>\n",
       "<a class=\"btn btn-secondary question-discussion-button d-print-none\" href=\"https://www.examtopics.com/exams/microsoft/az-104/view/#\">\n",
       "<i class=\"fa fa-comment\"></i>\n",
       "                                              Discussion  \n",
       "                                            \n",
       "                                                <span class=\"badge badge-pill badge-light\">19</span>\n",
       "</a>\n",
       "<!-- exam-view411 -->\n",
       "\n",
       "<!-- exam-view412 -->\n",
       "</div>\n",
       "</div></body></html>"
      ],
      "text/plain": [
       "<IPython.core.display.HTML object>"
      ]
     },
     "execution_count": 52,
     "metadata": {},
     "output_type": "execute_result"
    }
   ],
   "source": [
    "\n",
    "HTML('<body><html>'+str(questions[htmlQRef[32]])+'</body></html>')"
   ]
  },
  {
   "cell_type": "markdown",
   "metadata": {},
   "source": [
    "Question 34"
   ]
  },
  {
   "cell_type": "code",
   "execution_count": 53,
   "metadata": {},
   "outputs": [
    {
     "data": {
      "text/html": [
       "<body><html><div class=\"card exam-question-card\">\n",
       "<div class=\"card-header text-white bg-primary\">\n",
       "                                    Question #4\n",
       "                                    <span class=\"question-title-topic pull-right\">\n",
       "                                        Topic 6\n",
       "                                    </span>\n",
       "</div>\n",
       "<div class=\"card-body question-body\" data-id=\"804588\">\n",
       "<p class=\"card-text\">\n",
       "                                        \n",
       "                                        \n",
       "                                            HOTSPOT -<br/>You have an Azure subscription that contains an Azure Storage account named storage1 and the users shown in the following table.<br/><img class=\"in-exam-image\" src=\"./AZ-104_Exam_ ExamTopics_files/0053200001.png\"/><br/>You plan to monitor storage1 and to configure email notifications for the signals shown in the following table.<br/><img class=\"in-exam-image\" src=\"./AZ-104_Exam_ ExamTopics_files/0053200002.png\"/><br/>You need to identify the minimum number of alert rules and action groups required for the planned monitoring.<br/>How many alert rules and action groups should you identify? To answer, select the appropriate options in the answer area.<br/>NOTE: Each correct selection is worth one point.<br/>Hot Area:<br/><img class=\"in-exam-image\" src=\"./AZ-104_Exam_ ExamTopics_files/0053300001.jpg\"/><br/>\n",
       "</p>\n",
       "<!-- exam-view49 -->\n",
       "<!-- exam-view410 -->\n",
       "<a class=\"btn btn-primary reveal-solution d-print-none\" href=\"https://www.examtopics.com/exams/microsoft/az-104/view/#\">Reveal Solution</a>\n",
       "<a class=\"btn btn-primary hide-solution d-none d-print-none\" href=\"https://www.examtopics.com/exams/microsoft/az-104/view/#\">Hide Solution</a>\n",
       "<a class=\"btn btn-secondary question-discussion-button d-print-none\" href=\"https://www.examtopics.com/exams/microsoft/az-104/view/#\">\n",
       "<i class=\"fa fa-comment\"></i>\n",
       "                                              Discussion  \n",
       "                                            \n",
       "                                                <span class=\"badge badge-pill badge-light\">42</span>\n",
       "</a>\n",
       "<!-- exam-view411 -->\n",
       "\n",
       "<!-- exam-view412 -->\n",
       "</div>\n",
       "</div></body></html>"
      ],
      "text/plain": [
       "<IPython.core.display.HTML object>"
      ]
     },
     "execution_count": 53,
     "metadata": {},
     "output_type": "execute_result"
    }
   ],
   "source": [
    "\n",
    "HTML('<body><html>'+str(questions[htmlQRef[33]])+'</body></html>')"
   ]
  },
  {
   "cell_type": "markdown",
   "metadata": {},
   "source": [
    "Question 35"
   ]
  },
  {
   "cell_type": "code",
   "execution_count": 54,
   "metadata": {},
   "outputs": [
    {
     "data": {
      "text/html": [
       "<body><html><div class=\"card exam-question-card\">\n",
       "<div class=\"card-header text-white bg-primary\">\n",
       "                                    Question #79\n",
       "                                    <span class=\"question-title-topic pull-right\">\n",
       "                                        Topic 5\n",
       "                                    </span>\n",
       "</div>\n",
       "<div class=\"card-body question-body\" data-id=\"804562\">\n",
       "<p class=\"card-text\">\n",
       "                                        \n",
       "                                        \n",
       "                                            DRAG DROP -<br/>You have an Azure subscription that contains two on-premises locations named site1 and site2.<br/>You need to connect site1 and site2 by using an Azure Virtual WAN.<br/>Which four actions should you perform in sequence? To answer, move the appropriate actions from the list of actions to the answer area and arrange them in the correct order.<br/>Select and Place:<br/><img class=\"in-exam-image\" src=\"./AZ-104_Exam_ ExamTopics_files/0047300001.jpg\"/><br/>\n",
       "</p>\n",
       "<!-- exam-view49 -->\n",
       "<!-- exam-view410 -->\n",
       "<a class=\"btn btn-primary reveal-solution d-print-none\" href=\"https://www.examtopics.com/exams/microsoft/az-104/view/#\">Reveal Solution</a>\n",
       "<a class=\"btn btn-primary hide-solution d-none d-print-none\" href=\"https://www.examtopics.com/exams/microsoft/az-104/view/#\">Hide Solution</a>\n",
       "<a class=\"btn btn-secondary question-discussion-button d-print-none\" href=\"https://www.examtopics.com/exams/microsoft/az-104/view/#\">\n",
       "<i class=\"fa fa-comment\"></i>\n",
       "                                              Discussion  \n",
       "                                            \n",
       "                                                <span class=\"badge badge-pill badge-light\">35</span>\n",
       "</a>\n",
       "<!-- exam-view411 -->\n",
       "\n",
       "<!-- exam-view412 -->\n",
       "</div>\n",
       "</div></body></html>"
      ],
      "text/plain": [
       "<IPython.core.display.HTML object>"
      ]
     },
     "execution_count": 54,
     "metadata": {},
     "output_type": "execute_result"
    }
   ],
   "source": [
    "\n",
    "HTML('<body><html>'+str(questions[htmlQRef[34]])+'</body></html>')"
   ]
  },
  {
   "cell_type": "markdown",
   "metadata": {},
   "source": [
    "Question 36"
   ]
  },
  {
   "cell_type": "code",
   "execution_count": 55,
   "metadata": {},
   "outputs": [
    {
     "data": {
      "text/html": [
       "<body><html><div class=\"card exam-question-card\">\n",
       "<div class=\"card-header text-white bg-primary\">\n",
       "                                    Question #3\n",
       "                                    <span class=\"question-title-topic pull-right\">\n",
       "                                        Topic 1\n",
       "                                    </span>\n",
       "</div>\n",
       "<div class=\"card-body question-body\" data-id=\"804255\">\n",
       "<p class=\"card-text\">\n",
       "                                        \n",
       "                                        \n",
       "                                            Note: The question is included in a number of questions that depicts the identical set-up. However, every question has a distinctive result. Establish if the solution satisfies the requirements.<br/>Your company has an Azure Active Directory (Azure AD) subscription.<br/>You want to implement an Azure AD conditional access policy.<br/>The policy must be configured to require members of the Global Administrators group to use Multi-Factor Authentication and an Azure AD-joined device when they connect to Azure AD from untrusted locations.<br/>Solution: You access the Azure portal to alter the session control of the Azure AD conditional access policy.<br/>Does the solution meet the goal?<br/>\n",
       "</p>\n",
       "<!-- exam-view49 -->\n",
       "<div class=\"question-choices-container\">\n",
       "<div class=\"voted-answers-tally d-none\">\n",
       "<script id=\"804255\" type=\"application/json\">[{\"voted_answers\": \"B\", \"vote_count\": 17, \"is_most_voted\": true}, {\"voted_answers\": \"A\", \"vote_count\": 3, \"is_most_voted\": false}]</script>\n",
       "</div>\n",
       "<ul>\n",
       "<li class=\"multi-choice-item\">\n",
       "<span class=\"multi-choice-letter\" data-choice-letter=\"A\">\n",
       "                                                                A.\n",
       "                                                            </span>\n",
       "                                                        \n",
       "                                                        Yes\n",
       "                                                    </li>\n",
       "<li class=\"multi-choice-item correct-hidden\">\n",
       "<span class=\"multi-choice-letter\" data-choice-letter=\"B\">\n",
       "                                                                B.\n",
       "                                                            </span>\n",
       "                                                        \n",
       "                                                        No\n",
       "                                                    <span class=\"badge badge-success most-voted-answer-badge\" data-original-title=\"This answer is currently the most voted for in the discussion\" style=\"display: none;\" title=\"\">\n",
       "                Most Voted\n",
       "            </span></li>\n",
       "</ul>\n",
       "</div>\n",
       "<!-- exam-view410 -->\n",
       "<a class=\"btn btn-primary reveal-solution d-print-none\" href=\"https://www.examtopics.com/exams/microsoft/az-104/view/#\">Reveal Solution</a>\n",
       "<a class=\"btn btn-primary hide-solution d-none d-print-none\" href=\"https://www.examtopics.com/exams/microsoft/az-104/view/#\">Hide Solution</a>\n",
       "<a class=\"btn btn-secondary question-discussion-button d-print-none\" href=\"https://www.examtopics.com/exams/microsoft/az-104/view/#\">\n",
       "<i class=\"fa fa-comment\"></i>\n",
       "                                              Discussion  \n",
       "                                            \n",
       "                                                <span class=\"badge badge-pill badge-light\">42</span>\n",
       "</a>\n",
       "<!-- exam-view411 -->\n",
       "\n",
       "<!-- exam-view412 -->\n",
       "</div>\n",
       "</div></body></html>"
      ],
      "text/plain": [
       "<IPython.core.display.HTML object>"
      ]
     },
     "execution_count": 55,
     "metadata": {},
     "output_type": "execute_result"
    }
   ],
   "source": [
    "\n",
    "HTML('<body><html>'+str(questions[htmlQRef[35]])+'</body></html>')"
   ]
  },
  {
   "cell_type": "markdown",
   "metadata": {},
   "source": [
    "Question 37"
   ]
  },
  {
   "cell_type": "code",
   "execution_count": 56,
   "metadata": {},
   "outputs": [
    {
     "data": {
      "text/html": [
       "<body><html><div class=\"card exam-question-card\">\n",
       "<div class=\"card-header text-white bg-primary\">\n",
       "                                    Question #49\n",
       "                                    <span class=\"question-title-topic pull-right\">\n",
       "                                        Topic 4\n",
       "                                    </span>\n",
       "</div>\n",
       "<div class=\"card-body question-body\" data-id=\"804451\">\n",
       "<p class=\"card-text\">\n",
       "                                        \n",
       "                                        \n",
       "                                            You plan to deploy three Azure virtual machines named VM1, VM2, and VM3. The virtual machines will host a web app named App1.<br/>You need to ensure that at least two virtual machines are available if a single Azure datacenter becomes unavailable.<br/>What should you deploy?<br/>\n",
       "</p>\n",
       "<!-- exam-view49 -->\n",
       "<div class=\"question-choices-container\">\n",
       "<div class=\"voted-answers-tally d-none\">\n",
       "<script id=\"804451\" type=\"application/json\">[{\"voted_answers\": \"C\", \"vote_count\": 18, \"is_most_voted\": true}, {\"voted_answers\": \"A\", \"vote_count\": 4, \"is_most_voted\": false}]</script>\n",
       "</div>\n",
       "<ul>\n",
       "<li class=\"multi-choice-item\">\n",
       "<span class=\"multi-choice-letter\" data-choice-letter=\"A\">\n",
       "                                                                A.\n",
       "                                                            </span>\n",
       "                                                        \n",
       "                                                        all three virtual machines in a single Availability Zone\n",
       "                                                    </li>\n",
       "<li class=\"multi-choice-item\">\n",
       "<span class=\"multi-choice-letter\" data-choice-letter=\"B\">\n",
       "                                                                B.\n",
       "                                                            </span>\n",
       "                                                        \n",
       "                                                        all virtual machines in a single Availability Set\n",
       "                                                    </li>\n",
       "<li class=\"multi-choice-item correct-hidden\">\n",
       "<span class=\"multi-choice-letter\" data-choice-letter=\"C\">\n",
       "                                                                C.\n",
       "                                                            </span>\n",
       "                                                        \n",
       "                                                        each virtual machine in a separate Availability Zone\n",
       "                                                    <span class=\"badge badge-success most-voted-answer-badge\" data-original-title=\"This answer is currently the most voted for in the discussion\" style=\"display: none;\" title=\"\">\n",
       "                Most Voted\n",
       "            </span></li>\n",
       "<li class=\"multi-choice-item\">\n",
       "<span class=\"multi-choice-letter\" data-choice-letter=\"D\">\n",
       "                                                                D.\n",
       "                                                            </span>\n",
       "                                                        \n",
       "                                                        each virtual machine in a separate Availability Set\n",
       "                                                    </li>\n",
       "</ul>\n",
       "</div>\n",
       "<!-- exam-view410 -->\n",
       "<a class=\"btn btn-primary reveal-solution d-print-none\" href=\"https://www.examtopics.com/exams/microsoft/az-104/view/#\">Reveal Solution</a>\n",
       "<a class=\"btn btn-primary hide-solution d-none d-print-none\" href=\"https://www.examtopics.com/exams/microsoft/az-104/view/#\">Hide Solution</a>\n",
       "<a class=\"btn btn-secondary question-discussion-button d-print-none\" href=\"https://www.examtopics.com/exams/microsoft/az-104/view/#\">\n",
       "<i class=\"fa fa-comment\"></i>\n",
       "                                              Discussion  \n",
       "                                            \n",
       "                                                <span class=\"badge badge-pill badge-light\">114</span>\n",
       "</a>\n",
       "<!-- exam-view411 -->\n",
       "\n",
       "<!-- exam-view412 -->\n",
       "</div>\n",
       "</div></body></html>"
      ],
      "text/plain": [
       "<IPython.core.display.HTML object>"
      ]
     },
     "execution_count": 56,
     "metadata": {},
     "output_type": "execute_result"
    }
   ],
   "source": [
    "\n",
    "HTML('<body><html>'+str(questions[htmlQRef[36]])+'</body></html>')"
   ]
  },
  {
   "cell_type": "markdown",
   "metadata": {},
   "source": [
    "Question 38"
   ]
  },
  {
   "cell_type": "code",
   "execution_count": 57,
   "metadata": {},
   "outputs": [
    {
     "data": {
      "text/html": [
       "<body><html><div class=\"card exam-question-card\">\n",
       "<div class=\"card-header text-white bg-primary\">\n",
       "                                    Question #72\n",
       "                                    <span class=\"question-title-topic pull-right\">\n",
       "                                        Topic 2\n",
       "                                    </span>\n",
       "</div>\n",
       "<div class=\"card-body question-body\" data-id=\"865611\">\n",
       "<p class=\"card-text\">\n",
       "                                        \n",
       "                                        \n",
       "                                            HOTSPOT<br/> -<br/><br/>You have an Azure subscription that contains the users shown in the following table.<br/><br/><img src=\"./AZ-104_Exam_ ExamTopics_files/image627.png\"/><br/><br/>The groups are configured as shown in the following table.<br/><br/><img src=\"./AZ-104_Exam_ ExamTopics_files/image628.png\"/><br/><br/>You have a resource group named RG1 as shown in the following exhibit.<br/><br/><img src=\"./AZ-104_Exam_ ExamTopics_files/image629.png\"/><br/><br/>For each of the following statements, select Yes if the statement is true. Otherwise, select No.<br/><br/>NOTE: Each correct selection is worth one point.<br/><br/><img src=\"./AZ-104_Exam_ ExamTopics_files/image630.png\"/>\n",
       "</p>\n",
       "<!-- exam-view49 -->\n",
       "<!-- exam-view410 -->\n",
       "<a class=\"btn btn-primary reveal-solution d-print-none\" href=\"https://www.examtopics.com/exams/microsoft/az-104/view/#\">Reveal Solution</a>\n",
       "<a class=\"btn btn-primary hide-solution d-none d-print-none\" href=\"https://www.examtopics.com/exams/microsoft/az-104/view/#\">Hide Solution</a>\n",
       "<a class=\"btn btn-secondary question-discussion-button d-print-none\" href=\"https://www.examtopics.com/exams/microsoft/az-104/view/#\">\n",
       "<i class=\"fa fa-comment\"></i>\n",
       "                                              Discussion  \n",
       "                                            \n",
       "                                                <span class=\"badge badge-pill badge-light\">64</span>\n",
       "</a>\n",
       "<!-- exam-view411 -->\n",
       "\n",
       "<!-- exam-view412 -->\n",
       "</div>\n",
       "</div></body></html>"
      ],
      "text/plain": [
       "<IPython.core.display.HTML object>"
      ]
     },
     "execution_count": 57,
     "metadata": {},
     "output_type": "execute_result"
    }
   ],
   "source": [
    "\n",
    "HTML('<body><html>'+str(questions[htmlQRef[37]])+'</body></html>')"
   ]
  },
  {
   "cell_type": "markdown",
   "metadata": {},
   "source": [
    "Question 39"
   ]
  },
  {
   "cell_type": "code",
   "execution_count": 58,
   "metadata": {},
   "outputs": [
    {
     "data": {
      "text/html": [
       "<body><html><div class=\"card exam-question-card\">\n",
       "<div class=\"card-header text-white bg-primary\">\n",
       "                                    Question #66\n",
       "                                    <span class=\"question-title-topic pull-right\">\n",
       "                                        Topic 3\n",
       "                                    </span>\n",
       "</div>\n",
       "<div class=\"card-body question-body\" data-id=\"873914\">\n",
       "<p class=\"card-text\">\n",
       "                                        \n",
       "                                        \n",
       "                                            You plan to create an Azure Storage account named storage1 that will contain a file share named share1.<br/><br/>You need to ensure that share1 can support SMB Multichannel. The solution must minimize costs.<br/><br/>How should you configure storage?\n",
       "                                        \n",
       "                                    </p>\n",
       "<!-- exam-view49 -->\n",
       "<div class=\"question-choices-container\">\n",
       "<div class=\"voted-answers-tally d-none\">\n",
       "<script id=\"873914\" type=\"application/json\">[{\"voted_answers\": \"A\", \"vote_count\": 25, \"is_most_voted\": true}]</script>\n",
       "</div>\n",
       "<ul>\n",
       "<li class=\"multi-choice-item correct-hidden\">\n",
       "<span class=\"multi-choice-letter\" data-choice-letter=\"A\">\n",
       "                                                                A.\n",
       "                                                            </span>\n",
       "                                                        \n",
       "                                                        Premium performance with locally-redundant storage (LRS)\n",
       "                                                    <span class=\"badge badge-success most-voted-answer-badge\" data-original-title=\"This answer is currently the most voted for in the discussion\" style=\"display: none;\" title=\"\">\n",
       "                Most Voted\n",
       "            </span></li>\n",
       "<li class=\"multi-choice-item\">\n",
       "<span class=\"multi-choice-letter\" data-choice-letter=\"B\">\n",
       "                                                                B.\n",
       "                                                            </span>\n",
       "                                                        \n",
       "                                                        Standard performance with zone-redundant storage (ZRS)\n",
       "                                                    </li>\n",
       "<li class=\"multi-choice-item\">\n",
       "<span class=\"multi-choice-letter\" data-choice-letter=\"C\">\n",
       "                                                                C.\n",
       "                                                            </span>\n",
       "                                                        \n",
       "                                                        Premium performance with geo-redundant storage (GRS)\n",
       "                                                    </li>\n",
       "<li class=\"multi-choice-item\">\n",
       "<span class=\"multi-choice-letter\" data-choice-letter=\"D\">\n",
       "                                                                D.\n",
       "                                                            </span>\n",
       "                                                        \n",
       "                                                        Standard performance with locally-redundant storage (LRS)\n",
       "                                                    </li>\n",
       "</ul>\n",
       "</div>\n",
       "<!-- exam-view410 -->\n",
       "<a class=\"btn btn-primary reveal-solution d-print-none\" href=\"https://www.examtopics.com/exams/microsoft/az-104/view/#\">Reveal Solution</a>\n",
       "<a class=\"btn btn-primary hide-solution d-none d-print-none\" href=\"https://www.examtopics.com/exams/microsoft/az-104/view/#\">Hide Solution</a>\n",
       "<a class=\"btn btn-secondary question-discussion-button d-print-none\" href=\"https://www.examtopics.com/exams/microsoft/az-104/view/#\">\n",
       "<i class=\"fa fa-comment\"></i>\n",
       "                                              Discussion  \n",
       "                                            \n",
       "                                                <span class=\"badge badge-pill badge-light\">8</span>\n",
       "</a>\n",
       "<!-- exam-view411 -->\n",
       "\n",
       "<!-- exam-view412 -->\n",
       "</div>\n",
       "</div></body></html>"
      ],
      "text/plain": [
       "<IPython.core.display.HTML object>"
      ]
     },
     "execution_count": 58,
     "metadata": {},
     "output_type": "execute_result"
    }
   ],
   "source": [
    "\n",
    "HTML('<body><html>'+str(questions[htmlQRef[38]])+'</body></html>')"
   ]
  },
  {
   "cell_type": "markdown",
   "metadata": {},
   "source": [
    "Question 40"
   ]
  },
  {
   "cell_type": "code",
   "execution_count": 59,
   "metadata": {},
   "outputs": [
    {
     "data": {
      "text/html": [
       "<body><html><div class=\"card exam-question-card\">\n",
       "<div class=\"card-header text-white bg-primary\">\n",
       "                                    Question #12\n",
       "                                    <span class=\"question-title-topic pull-right\">\n",
       "                                        Topic 3\n",
       "                                    </span>\n",
       "</div>\n",
       "<div class=\"card-body question-body\" data-id=\"804366\">\n",
       "<p class=\"card-text\">\n",
       "                                        \n",
       "                                        \n",
       "                                            HOTSPOT -<br/>You have an Azure File sync group that has the endpoints shown in the following table.<br/><img class=\"in-exam-image\" src=\"./AZ-104_Exam_ ExamTopics_files/0016100002.png\"/><br/>Cloud tiering is enabled for Endpoint3.<br/>You add a file named File1 to Endpoint1 and a file named File2 to Endpoint2.<br/>On which endpoints will File1 and File2 be available within 24 hours of adding the files? To answer, select the appropriate options in the answer area.<br/>NOTE: Each correct selection is worth one point.<br/>Hot Area:<br/><img class=\"in-exam-image\" src=\"./AZ-104_Exam_ ExamTopics_files/0016200001.jpg\"/><br/>\n",
       "</p>\n",
       "<!-- exam-view49 -->\n",
       "<!-- exam-view410 -->\n",
       "<a class=\"btn btn-primary reveal-solution d-print-none\" href=\"https://www.examtopics.com/exams/microsoft/az-104/view/#\">Reveal Solution</a>\n",
       "<a class=\"btn btn-primary hide-solution d-none d-print-none\" href=\"https://www.examtopics.com/exams/microsoft/az-104/view/#\">Hide Solution</a>\n",
       "<a class=\"btn btn-secondary question-discussion-button d-print-none\" href=\"https://www.examtopics.com/exams/microsoft/az-104/view/#\">\n",
       "<i class=\"fa fa-comment\"></i>\n",
       "                                              Discussion  \n",
       "                                            \n",
       "                                                <span class=\"badge badge-pill badge-light\">107</span>\n",
       "</a>\n",
       "<!-- exam-view411 -->\n",
       "\n",
       "<!-- exam-view412 -->\n",
       "</div>\n",
       "</div></body></html>"
      ],
      "text/plain": [
       "<IPython.core.display.HTML object>"
      ]
     },
     "execution_count": 59,
     "metadata": {},
     "output_type": "execute_result"
    }
   ],
   "source": [
    "\n",
    "HTML('<body><html>'+str(questions[htmlQRef[39]])+'</body></html>')"
   ]
  },
  {
   "cell_type": "markdown",
   "metadata": {},
   "source": [
    "Question 41"
   ]
  },
  {
   "cell_type": "code",
   "execution_count": 60,
   "metadata": {},
   "outputs": [
    {
     "data": {
      "text/html": [
       "<body><html><div class=\"card exam-question-card\">\n",
       "<div class=\"card-header text-white bg-primary\">\n",
       "                                    Question #145\n",
       "                                    <span class=\"question-title-topic pull-right\">\n",
       "                                        Topic 5\n",
       "                                    </span>\n",
       "</div>\n",
       "<div class=\"card-body question-body\" data-id=\"894999\">\n",
       "<p class=\"card-text\">\n",
       "                                        \n",
       "                                        \n",
       "                                            You plan to deploy several Azure virtual machines that will run Windows Server 2019 in a virtual machine scale set by using an Azure Resource Manager template.<br/><br/>You need to ensure that NGINX is available on all the virtual machines after they are deployed.<br/><br/>What should you use?\n",
       "                                        \n",
       "                                    </p>\n",
       "<!-- exam-view49 -->\n",
       "<div class=\"question-choices-container\">\n",
       "<div class=\"voted-answers-tally d-none\">\n",
       "<script id=\"894999\" type=\"application/json\">[{\"voted_answers\": \"B\", \"vote_count\": 13, \"is_most_voted\": true}]</script>\n",
       "</div>\n",
       "<ul>\n",
       "<li class=\"multi-choice-item\">\n",
       "<span class=\"multi-choice-letter\" data-choice-letter=\"A\">\n",
       "                                                                A.\n",
       "                                                            </span>\n",
       "                                                        \n",
       "                                                        a Microsoft Intune device configuration profile\n",
       "                                                    </li>\n",
       "<li class=\"multi-choice-item\">\n",
       "<span class=\"multi-choice-letter\" data-choice-letter=\"B\">\n",
       "                                                                B.\n",
       "                                                            </span>\n",
       "                                                        \n",
       "                                                        a Desired State Configuration (DSC) extension\n",
       "                                                    <span class=\"badge badge-success most-voted-answer-badge\" data-original-title=\"This answer is currently the most voted for in the discussion\" style=\"display: none;\" title=\"\">\n",
       "                Most Voted\n",
       "            </span></li>\n",
       "<li class=\"multi-choice-item\">\n",
       "<span class=\"multi-choice-letter\" data-choice-letter=\"C\">\n",
       "                                                                C.\n",
       "                                                            </span>\n",
       "                                                        \n",
       "                                                        Azure Application Insights\n",
       "                                                    </li>\n",
       "<li class=\"multi-choice-item correct-hidden\">\n",
       "<span class=\"multi-choice-letter\" data-choice-letter=\"D\">\n",
       "                                                                D.\n",
       "                                                            </span>\n",
       "                                                        \n",
       "                                                        Deployment Center in Azure App Service\n",
       "                                                    </li>\n",
       "</ul>\n",
       "</div>\n",
       "<!-- exam-view410 -->\n",
       "<a class=\"btn btn-primary reveal-solution d-print-none\" href=\"https://www.examtopics.com/exams/microsoft/az-104/view/#\">Reveal Solution</a>\n",
       "<a class=\"btn btn-primary hide-solution d-none d-print-none\" href=\"https://www.examtopics.com/exams/microsoft/az-104/view/#\">Hide Solution</a>\n",
       "<a class=\"btn btn-secondary question-discussion-button d-print-none\" href=\"https://www.examtopics.com/exams/microsoft/az-104/view/#\">\n",
       "<i class=\"fa fa-comment\"></i>\n",
       "                                              Discussion  \n",
       "                                            \n",
       "                                                <span class=\"badge badge-pill badge-light\">11</span>\n",
       "</a>\n",
       "<!-- exam-view411 -->\n",
       "\n",
       "<!-- exam-view412 -->\n",
       "</div>\n",
       "</div></body></html>"
      ],
      "text/plain": [
       "<IPython.core.display.HTML object>"
      ]
     },
     "execution_count": 60,
     "metadata": {},
     "output_type": "execute_result"
    }
   ],
   "source": [
    "\n",
    "HTML('<body><html>'+str(questions[htmlQRef[40]])+'</body></html>')"
   ]
  },
  {
   "cell_type": "markdown",
   "metadata": {},
   "source": [
    "Question 42"
   ]
  },
  {
   "cell_type": "code",
   "execution_count": 61,
   "metadata": {},
   "outputs": [
    {
     "data": {
      "text/html": [
       "<body><html><div class=\"card exam-question-card\">\n",
       "<div class=\"card-header text-white bg-primary\">\n",
       "                                    Question #62\n",
       "                                    <span class=\"question-title-topic pull-right\">\n",
       "                                        Topic 5\n",
       "                                    </span>\n",
       "</div>\n",
       "<div class=\"card-body question-body\" data-id=\"804545\">\n",
       "<p class=\"card-text\">\n",
       "                                        \n",
       "                                        \n",
       "                                            Note: This question is part of a series of questions that present the same scenario. Each question in the series contains a unique solution that might meet the stated goals. Some question sets might have more than one correct solution, while others might not have a correct solution.<br/>After you answer a question in this section, you will NOT be able to return to it. As a result, these questions will not appear in the review screen.<br/>You have an Azure subscription that contains the virtual machines shown in the following table.<br/><img class=\"in-exam-image\" src=\"./AZ-104_Exam_ ExamTopics_files/0044800001.png\"/><br/>You deploy a load balancer that has the following configurations:<br/>✑ Name: LB1<br/>✑ Type: Internal<br/>✑ SKU: Standard<br/>✑ Virtual network: VNET1<br/>You need to ensure that you can add VM1 and VM2 to the backend pool of LB1.<br/>Solution: You disassociate the public IP address from the network interface of VM2.<br/>Does this meet the goal?<br/>\n",
       "</p>\n",
       "<!-- exam-view49 -->\n",
       "<div class=\"question-choices-container\">\n",
       "<div class=\"voted-answers-tally d-none\">\n",
       "<script id=\"804545\" type=\"application/json\">[{\"voted_answers\": \"A\", \"vote_count\": 21, \"is_most_voted\": true}]</script>\n",
       "</div>\n",
       "<ul>\n",
       "<li class=\"multi-choice-item\">\n",
       "<span class=\"multi-choice-letter\" data-choice-letter=\"A\">\n",
       "                                                                A.\n",
       "                                                            </span>\n",
       "                                                        \n",
       "                                                        Yes\n",
       "                                                    <span class=\"badge badge-success most-voted-answer-badge\" data-original-title=\"This answer is currently the most voted for in the discussion\" style=\"display: none;\" title=\"\">\n",
       "                Most Voted\n",
       "            </span></li>\n",
       "<li class=\"multi-choice-item correct-hidden\">\n",
       "<span class=\"multi-choice-letter\" data-choice-letter=\"B\">\n",
       "                                                                B.\n",
       "                                                            </span>\n",
       "                                                        \n",
       "                                                        No\n",
       "                                                    </li>\n",
       "</ul>\n",
       "</div>\n",
       "<!-- exam-view410 -->\n",
       "<a class=\"btn btn-primary reveal-solution d-print-none\" href=\"https://www.examtopics.com/exams/microsoft/az-104/view/#\">Reveal Solution</a>\n",
       "<a class=\"btn btn-primary hide-solution d-none d-print-none\" href=\"https://www.examtopics.com/exams/microsoft/az-104/view/#\">Hide Solution</a>\n",
       "<a class=\"btn btn-secondary question-discussion-button d-print-none\" href=\"https://www.examtopics.com/exams/microsoft/az-104/view/#\">\n",
       "<i class=\"fa fa-comment\"></i>\n",
       "                                              Discussion  \n",
       "                                            \n",
       "                                                <span class=\"badge badge-pill badge-light\">46</span>\n",
       "</a>\n",
       "<!-- exam-view411 -->\n",
       "\n",
       "<!-- exam-view412 -->\n",
       "</div>\n",
       "</div></body></html>"
      ],
      "text/plain": [
       "<IPython.core.display.HTML object>"
      ]
     },
     "execution_count": 61,
     "metadata": {},
     "output_type": "execute_result"
    }
   ],
   "source": [
    "\n",
    "HTML('<body><html>'+str(questions[htmlQRef[41]])+'</body></html>')"
   ]
  },
  {
   "cell_type": "markdown",
   "metadata": {},
   "source": [
    "Question 43"
   ]
  },
  {
   "cell_type": "code",
   "execution_count": 62,
   "metadata": {},
   "outputs": [
    {
     "data": {
      "text/html": [
       "<body><html><div class=\"card exam-question-card\">\n",
       "<div class=\"card-header text-white bg-primary\">\n",
       "                                    Question #65\n",
       "                                    <span class=\"question-title-topic pull-right\">\n",
       "                                        Topic 3\n",
       "                                    </span>\n",
       "</div>\n",
       "<div class=\"card-body question-body\" data-id=\"873913\">\n",
       "<p class=\"card-text\">\n",
       "                                        \n",
       "                                        \n",
       "                                            You have an Azure subscription named Subscription1.<br/><br/>You have 5 TB of data that you need to transfer to Subscription1.<br/><br/>You plan to use an Azure Import/Export job.<br/><br/>What can you use as the destination of the imported data?\n",
       "                                        \n",
       "                                    </p>\n",
       "<!-- exam-view49 -->\n",
       "<div class=\"question-choices-container\">\n",
       "<div class=\"voted-answers-tally d-none\">\n",
       "<script id=\"873913\" type=\"application/json\">[{\"voted_answers\": \"B\", \"vote_count\": 8, \"is_most_voted\": true}]</script>\n",
       "</div>\n",
       "<ul>\n",
       "<li class=\"multi-choice-item\">\n",
       "<span class=\"multi-choice-letter\" data-choice-letter=\"A\">\n",
       "                                                                A.\n",
       "                                                            </span>\n",
       "                                                        \n",
       "                                                        an Azure Cosmos DB database\n",
       "                                                    </li>\n",
       "<li class=\"multi-choice-item correct-hidden\">\n",
       "<span class=\"multi-choice-letter\" data-choice-letter=\"B\">\n",
       "                                                                B.\n",
       "                                                            </span>\n",
       "                                                        \n",
       "                                                        Azure Blob Storage\n",
       "                                                    <span class=\"badge badge-success most-voted-answer-badge\" data-original-title=\"This answer is currently the most voted for in the discussion\" style=\"display: none;\" title=\"\">\n",
       "                Most Voted\n",
       "            </span></li>\n",
       "<li class=\"multi-choice-item\">\n",
       "<span class=\"multi-choice-letter\" data-choice-letter=\"C\">\n",
       "                                                                C.\n",
       "                                                            </span>\n",
       "                                                        \n",
       "                                                        Azure SQL Database\n",
       "                                                    </li>\n",
       "<li class=\"multi-choice-item\">\n",
       "<span class=\"multi-choice-letter\" data-choice-letter=\"D\">\n",
       "                                                                D.\n",
       "                                                            </span>\n",
       "                                                        \n",
       "                                                        the Azure File Sync Storage Sync Service\n",
       "                                                    </li>\n",
       "</ul>\n",
       "</div>\n",
       "<!-- exam-view410 -->\n",
       "<a class=\"btn btn-primary reveal-solution d-print-none\" href=\"https://www.examtopics.com/exams/microsoft/az-104/view/#\">Reveal Solution</a>\n",
       "<a class=\"btn btn-primary hide-solution d-none d-print-none\" href=\"https://www.examtopics.com/exams/microsoft/az-104/view/#\">Hide Solution</a>\n",
       "<a class=\"btn btn-secondary question-discussion-button d-print-none\" href=\"https://www.examtopics.com/exams/microsoft/az-104/view/#\">\n",
       "<i class=\"fa fa-comment\"></i>\n",
       "                                              Discussion  \n",
       "                                            \n",
       "                                                <span class=\"badge badge-pill badge-light\">9</span>\n",
       "</a>\n",
       "<!-- exam-view411 -->\n",
       "\n",
       "<!-- exam-view412 -->\n",
       "</div>\n",
       "</div></body></html>"
      ],
      "text/plain": [
       "<IPython.core.display.HTML object>"
      ]
     },
     "execution_count": 62,
     "metadata": {},
     "output_type": "execute_result"
    }
   ],
   "source": [
    "\n",
    "HTML('<body><html>'+str(questions[htmlQRef[42]])+'</body></html>')"
   ]
  },
  {
   "cell_type": "markdown",
   "metadata": {},
   "source": [
    "Question 44"
   ]
  },
  {
   "cell_type": "code",
   "execution_count": 63,
   "metadata": {},
   "outputs": [
    {
     "data": {
      "text/html": [
       "<body><html><div class=\"card exam-question-card\">\n",
       "<div class=\"card-header text-white bg-primary\">\n",
       "                                    Question #26\n",
       "                                    <span class=\"question-title-topic pull-right\">\n",
       "                                        Topic 5\n",
       "                                    </span>\n",
       "</div>\n",
       "<div class=\"card-body question-body\" data-id=\"804509\">\n",
       "<p class=\"card-text\">\n",
       "                                        \n",
       "                                        \n",
       "                                            HOTSPOT -<br/>You have an Azure virtual machine that runs Windows Server 2019 and has the following configurations:<br/>✑ Name: VM1<br/>✑ Location: West US<br/>✑ Connected to: VNET1<br/>✑ Private IP address: 10.1.0.4<br/>✑ Public IP addresses: 52.186.85.63<br/>✑ DNS suffix in Windows Server: Adatum.com<br/>You create the Azure DNS zones shown in the following table.<br/><img class=\"in-exam-image\" src=\"./AZ-104_Exam_ ExamTopics_files/0038400001.png\"/><br/>You need to identify which DNS zones you can link to VNET1 and the DNS zones to which VM1 can automatically register.<br/>Which zones should you identify? To answer, select the appropriate options in the answer area.<br/>NOTE: Each correct selection is worth one point.<br/>Hot Area:<br/><img class=\"in-exam-image\" src=\"./AZ-104_Exam_ ExamTopics_files/0038400002.png\"/><br/>\n",
       "</p>\n",
       "<!-- exam-view49 -->\n",
       "<!-- exam-view410 -->\n",
       "<a class=\"btn btn-primary reveal-solution d-print-none\" href=\"https://www.examtopics.com/exams/microsoft/az-104/view/#\">Reveal Solution</a>\n",
       "<a class=\"btn btn-primary hide-solution d-none d-print-none\" href=\"https://www.examtopics.com/exams/microsoft/az-104/view/#\">Hide Solution</a>\n",
       "<a class=\"btn btn-secondary question-discussion-button d-print-none\" href=\"https://www.examtopics.com/exams/microsoft/az-104/view/#\">\n",
       "<i class=\"fa fa-comment\"></i>\n",
       "                                              Discussion  \n",
       "                                            \n",
       "                                                <span class=\"badge badge-pill badge-light\">19</span>\n",
       "</a>\n",
       "<!-- exam-view411 -->\n",
       "\n",
       "<!-- exam-view412 -->\n",
       "</div>\n",
       "</div></body></html>"
      ],
      "text/plain": [
       "<IPython.core.display.HTML object>"
      ]
     },
     "execution_count": 63,
     "metadata": {},
     "output_type": "execute_result"
    }
   ],
   "source": [
    "\n",
    "HTML('<body><html>'+str(questions[htmlQRef[43]])+'</body></html>')"
   ]
  },
  {
   "cell_type": "markdown",
   "metadata": {},
   "source": [
    "Question 45"
   ]
  },
  {
   "cell_type": "code",
   "execution_count": 64,
   "metadata": {},
   "outputs": [
    {
     "data": {
      "text/html": [
       "<body><html><div class=\"card exam-question-card\">\n",
       "<div class=\"card-header text-white bg-primary\">\n",
       "                                    Question #55\n",
       "                                    <span class=\"question-title-topic pull-right\">\n",
       "                                        Topic 5\n",
       "                                    </span>\n",
       "</div>\n",
       "<div class=\"card-body question-body\" data-id=\"804538\">\n",
       "<p class=\"card-text\">\n",
       "                                        \n",
       "                                        \n",
       "                                            Note: This question is part of a series of questions that present the same scenario. Each question in the series contains a unique solution that might meet the stated goals. Some question sets might have more than one correct solution, while others might not have a correct solution.<br/>After you answer a question in this section, you will NOT be able to return to it. As a result, these questions will not appear in the review screen.<br/>You have an Azure subscription that contains 10 virtual networks. The virtual networks are hosted in separate resource groups.<br/>Another administrator plans to create several network security groups (NSGs) in the subscription.<br/>You need to ensure that when an NSG is created, it automatically blocks TCP port 8080 between the virtual networks.<br/>Solution: From the Resource providers blade, you unregister the Microsoft.ClassicNetwork provider.<br/>Does this meet the goal?<br/>\n",
       "</p>\n",
       "<!-- exam-view49 -->\n",
       "<div class=\"question-choices-container\">\n",
       "<div class=\"voted-answers-tally d-none\">\n",
       "<script id=\"804538\" type=\"application/json\">[{\"voted_answers\": \"B\", \"vote_count\": 3, \"is_most_voted\": false}]</script>\n",
       "</div>\n",
       "<ul>\n",
       "<li class=\"multi-choice-item\">\n",
       "<span class=\"multi-choice-letter\" data-choice-letter=\"A\">\n",
       "                                                                A.\n",
       "                                                            </span>\n",
       "                                                        \n",
       "                                                        Yes\n",
       "                                                    </li>\n",
       "<li class=\"multi-choice-item correct-hidden\">\n",
       "<span class=\"multi-choice-letter\" data-choice-letter=\"B\">\n",
       "                                                                B.\n",
       "                                                            </span>\n",
       "                                                        \n",
       "                                                        No\n",
       "                                                    </li>\n",
       "</ul>\n",
       "</div>\n",
       "<!-- exam-view410 -->\n",
       "<a class=\"btn btn-primary reveal-solution d-print-none\" href=\"https://www.examtopics.com/exams/microsoft/az-104/view/#\">Reveal Solution</a>\n",
       "<a class=\"btn btn-primary hide-solution d-none d-print-none\" href=\"https://www.examtopics.com/exams/microsoft/az-104/view/#\">Hide Solution</a>\n",
       "<a class=\"btn btn-secondary question-discussion-button d-print-none\" href=\"https://www.examtopics.com/exams/microsoft/az-104/view/#\">\n",
       "<i class=\"fa fa-comment\"></i>\n",
       "                                              Discussion  \n",
       "                                            \n",
       "                                                <span class=\"badge badge-pill badge-light\">15</span>\n",
       "</a>\n",
       "<!-- exam-view411 -->\n",
       "\n",
       "<!-- exam-view412 -->\n",
       "</div>\n",
       "</div></body></html>"
      ],
      "text/plain": [
       "<IPython.core.display.HTML object>"
      ]
     },
     "execution_count": 64,
     "metadata": {},
     "output_type": "execute_result"
    }
   ],
   "source": [
    "\n",
    "HTML('<body><html>'+str(questions[htmlQRef[44]])+'</body></html>')"
   ]
  },
  {
   "cell_type": "markdown",
   "metadata": {},
   "source": [
    "Question 46"
   ]
  },
  {
   "cell_type": "code",
   "execution_count": 65,
   "metadata": {},
   "outputs": [
    {
     "data": {
      "text/html": [
       "<body><html><div class=\"card exam-question-card\">\n",
       "<div class=\"card-header text-white bg-primary\">\n",
       "                                    Question #32\n",
       "                                    <span class=\"question-title-topic pull-right\">\n",
       "                                        Topic 5\n",
       "                                    </span>\n",
       "</div>\n",
       "<div class=\"card-body question-body\" data-id=\"804515\">\n",
       "<p class=\"card-text\">\n",
       "                                        \n",
       "                                        \n",
       "                                            HOTSPOT -<br/>You have an Azure subscription that contains three virtual networks named VNET1, VNET2, and VNET3.<br/>Peering for VNET1 is configured as shown in the following exhibit.<br/><img class=\"in-exam-image\" src=\"./AZ-104_Exam_ ExamTopics_files/0039700001.png\"/><br/>Peering for VNET2 is configured as shown in the following exhibit.<br/><img class=\"in-exam-image\" src=\"./AZ-104_Exam_ ExamTopics_files/0039700002.png\"/><br/>Peering for VNET3 is configured as shown in the following exhibit.<br/><img class=\"in-exam-image\" src=\"./AZ-104_Exam_ ExamTopics_files/0039800001.png\"/><br/>How can packets be routed between the virtual networks? To answer, select the appropriate options in the answer area.<br/>NOTE: Each correct selection is worth one point.<br/>Hot Area:<br/><img class=\"in-exam-image\" src=\"./AZ-104_Exam_ ExamTopics_files/0039800002.png\"/><br/>\n",
       "</p>\n",
       "<!-- exam-view49 -->\n",
       "<!-- exam-view410 -->\n",
       "<a class=\"btn btn-primary reveal-solution d-print-none\" href=\"https://www.examtopics.com/exams/microsoft/az-104/view/#\">Reveal Solution</a>\n",
       "<a class=\"btn btn-primary hide-solution d-none d-print-none\" href=\"https://www.examtopics.com/exams/microsoft/az-104/view/#\">Hide Solution</a>\n",
       "<a class=\"btn btn-secondary question-discussion-button d-print-none\" href=\"https://www.examtopics.com/exams/microsoft/az-104/view/#\">\n",
       "<i class=\"fa fa-comment\"></i>\n",
       "                                              Discussion  \n",
       "                                            \n",
       "                                                <span class=\"badge badge-pill badge-light\">25</span>\n",
       "</a>\n",
       "<!-- exam-view411 -->\n",
       "\n",
       "<!-- exam-view412 -->\n",
       "</div>\n",
       "</div></body></html>"
      ],
      "text/plain": [
       "<IPython.core.display.HTML object>"
      ]
     },
     "execution_count": 65,
     "metadata": {},
     "output_type": "execute_result"
    }
   ],
   "source": [
    "\n",
    "HTML('<body><html>'+str(questions[htmlQRef[45]])+'</body></html>')"
   ]
  },
  {
   "cell_type": "markdown",
   "metadata": {},
   "source": [
    "Question 47"
   ]
  },
  {
   "cell_type": "code",
   "execution_count": 66,
   "metadata": {},
   "outputs": [
    {
     "data": {
      "text/html": [
       "<body><html><div class=\"card exam-question-card\">\n",
       "<div class=\"card-header text-white bg-primary\">\n",
       "                                    Question #71\n",
       "                                    <span class=\"question-title-topic pull-right\">\n",
       "                                        Topic 2\n",
       "                                    </span>\n",
       "</div>\n",
       "<div class=\"card-body question-body\" data-id=\"865610\">\n",
       "<p class=\"card-text\">\n",
       "                                        \n",
       "                                        \n",
       "                                            You have an Azure subscription named Subscription1 that contains a virtual network named VNet1. VNet1 is in a resource group named RG1.<br/><br/>Subscription1 has a user named User1. User1 has the following roles:<br/><br/>•\tReader<br/>•\tSecurity Admin<br/>•\tSecurity Reader<br/><br/>You need to ensure that User1 can assign the Reader role for VNet1 to other users.<br/><br/>What should you do?\n",
       "                                        \n",
       "                                    </p>\n",
       "<!-- exam-view49 -->\n",
       "<div class=\"question-choices-container\">\n",
       "<div class=\"voted-answers-tally d-none\">\n",
       "<script id=\"865610\" type=\"application/json\">[{\"voted_answers\": \"C\", \"vote_count\": 15, \"is_most_voted\": true}]</script>\n",
       "</div>\n",
       "<ul>\n",
       "<li class=\"multi-choice-item\">\n",
       "<span class=\"multi-choice-letter\" data-choice-letter=\"A\">\n",
       "                                                                A.\n",
       "                                                            </span>\n",
       "                                                        \n",
       "                                                        Assign User1 the Network Contributor role for VNet1.\n",
       "                                                    </li>\n",
       "<li class=\"multi-choice-item\">\n",
       "<span class=\"multi-choice-letter\" data-choice-letter=\"B\">\n",
       "                                                                B.\n",
       "                                                            </span>\n",
       "                                                        \n",
       "                                                        Remove User1 from the Security Reader role for Subscription1. Assign User1 the Contributor role for RG1.\n",
       "                                                    </li>\n",
       "<li class=\"multi-choice-item correct-hidden\">\n",
       "<span class=\"multi-choice-letter\" data-choice-letter=\"C\">\n",
       "                                                                C.\n",
       "                                                            </span>\n",
       "                                                        \n",
       "                                                        Assign User1 the Owner role for VNet1.\n",
       "                                                    <span class=\"badge badge-success most-voted-answer-badge\" data-original-title=\"This answer is currently the most voted for in the discussion\" style=\"display: none;\" title=\"\">\n",
       "                Most Voted\n",
       "            </span></li>\n",
       "<li class=\"multi-choice-item\">\n",
       "<span class=\"multi-choice-letter\" data-choice-letter=\"D\">\n",
       "                                                                D.\n",
       "                                                            </span>\n",
       "                                                        \n",
       "                                                        Assign User1 the Network Contributor role for RG1.\n",
       "                                                    </li>\n",
       "</ul>\n",
       "</div>\n",
       "<!-- exam-view410 -->\n",
       "<a class=\"btn btn-primary reveal-solution d-print-none\" href=\"https://www.examtopics.com/exams/microsoft/az-104/view/#\">Reveal Solution</a>\n",
       "<a class=\"btn btn-primary hide-solution d-none d-print-none\" href=\"https://www.examtopics.com/exams/microsoft/az-104/view/#\">Hide Solution</a>\n",
       "<a class=\"btn btn-secondary question-discussion-button d-print-none\" href=\"https://www.examtopics.com/exams/microsoft/az-104/view/#\">\n",
       "<i class=\"fa fa-comment\"></i>\n",
       "                                              Discussion  \n",
       "                                            \n",
       "                                                <span class=\"badge badge-pill badge-light\">9</span>\n",
       "</a>\n",
       "<!-- exam-view411 -->\n",
       "\n",
       "<!-- exam-view412 -->\n",
       "</div>\n",
       "</div></body></html>"
      ],
      "text/plain": [
       "<IPython.core.display.HTML object>"
      ]
     },
     "execution_count": 66,
     "metadata": {},
     "output_type": "execute_result"
    }
   ],
   "source": [
    "\n",
    "HTML('<body><html>'+str(questions[htmlQRef[46]])+'</body></html>')"
   ]
  },
  {
   "cell_type": "markdown",
   "metadata": {},
   "source": [
    "Question 48"
   ]
  },
  {
   "cell_type": "code",
   "execution_count": 67,
   "metadata": {},
   "outputs": [
    {
     "data": {
      "text/html": [
       "<body><html><div class=\"card exam-question-card\">\n",
       "<div class=\"card-header text-white bg-primary\">\n",
       "                                    Question #79\n",
       "                                    <span class=\"question-title-topic pull-right\">\n",
       "                                        Topic 4\n",
       "                                    </span>\n",
       "</div>\n",
       "<div class=\"card-body question-body\" data-id=\"804481\">\n",
       "<p class=\"card-text\">\n",
       "                                        \n",
       "                                        \n",
       "                                            You plan to deploy several Azure virtual machines that will run Windows Server 2019 in a virtual machine scale set by using an Azure Resource Manager template.<br/>You need to ensure that NGINX is available on all the virtual machines after they are deployed.<br/>What should you use?<br/>\n",
       "</p>\n",
       "<!-- exam-view49 -->\n",
       "<div class=\"question-choices-container\">\n",
       "<div class=\"voted-answers-tally d-none\">\n",
       "<script id=\"804481\" type=\"application/json\">[{\"voted_answers\": \"C\", \"vote_count\": 17, \"is_most_voted\": true}, {\"voted_answers\": \"B\", \"vote_count\": 1, \"is_most_voted\": false}]</script>\n",
       "</div>\n",
       "<ul>\n",
       "<li class=\"multi-choice-item\">\n",
       "<span class=\"multi-choice-letter\" data-choice-letter=\"A\">\n",
       "                                                                A.\n",
       "                                                            </span>\n",
       "                                                        \n",
       "                                                        the Publish-AzVMDscConfiguration cmdlet\n",
       "                                                    </li>\n",
       "<li class=\"multi-choice-item\">\n",
       "<span class=\"multi-choice-letter\" data-choice-letter=\"B\">\n",
       "                                                                B.\n",
       "                                                            </span>\n",
       "                                                        \n",
       "                                                        Azure Application Insights\n",
       "                                                    </li>\n",
       "<li class=\"multi-choice-item correct-hidden\">\n",
       "<span class=\"multi-choice-letter\" data-choice-letter=\"C\">\n",
       "                                                                C.\n",
       "                                                            </span>\n",
       "                                                        \n",
       "                                                        Azure Custom Script Extension\n",
       "                                                    <span class=\"badge badge-success most-voted-answer-badge\" data-original-title=\"This answer is currently the most voted for in the discussion\" style=\"display: none;\" title=\"\">\n",
       "                Most Voted\n",
       "            </span></li>\n",
       "<li class=\"multi-choice-item\">\n",
       "<span class=\"multi-choice-letter\" data-choice-letter=\"D\">\n",
       "                                                                D.\n",
       "                                                            </span>\n",
       "                                                        \n",
       "                                                        a Microsoft Endpoint Manager device configuration profile\n",
       "                                                    </li>\n",
       "</ul>\n",
       "</div>\n",
       "<!-- exam-view410 -->\n",
       "<a class=\"btn btn-primary reveal-solution d-print-none\" href=\"https://www.examtopics.com/exams/microsoft/az-104/view/#\">Reveal Solution</a>\n",
       "<a class=\"btn btn-primary hide-solution d-none d-print-none\" href=\"https://www.examtopics.com/exams/microsoft/az-104/view/#\">Hide Solution</a>\n",
       "<a class=\"btn btn-secondary question-discussion-button d-print-none\" href=\"https://www.examtopics.com/exams/microsoft/az-104/view/#\">\n",
       "<i class=\"fa fa-comment\"></i>\n",
       "                                              Discussion  \n",
       "                                            \n",
       "                                                <span class=\"badge badge-pill badge-light\">13</span>\n",
       "</a>\n",
       "<!-- exam-view411 -->\n",
       "\n",
       "<!-- exam-view412 -->\n",
       "</div>\n",
       "</div></body></html>"
      ],
      "text/plain": [
       "<IPython.core.display.HTML object>"
      ]
     },
     "execution_count": 67,
     "metadata": {},
     "output_type": "execute_result"
    }
   ],
   "source": [
    "\n",
    "HTML('<body><html>'+str(questions[htmlQRef[47]])+'</body></html>')"
   ]
  },
  {
   "cell_type": "markdown",
   "metadata": {},
   "source": [
    "Question 49"
   ]
  },
  {
   "cell_type": "code",
   "execution_count": 68,
   "metadata": {},
   "outputs": [
    {
     "data": {
      "text/html": [
       "<body><html><div class=\"card exam-question-card\">\n",
       "<div class=\"card-header text-white bg-primary\">\n",
       "                                    Question #37\n",
       "                                    <span class=\"question-title-topic pull-right\">\n",
       "                                        Topic 2\n",
       "                                    </span>\n",
       "</div>\n",
       "<div class=\"card-body question-body\" data-id=\"804329\">\n",
       "<p class=\"card-text\">\n",
       "                                        \n",
       "                                        \n",
       "                                            HOTSPOT -<br/>You have an Azure Active Directory (Azure AD) tenant that contains three global administrators named Admin1, Admin2, and Admin3.<br/>The tenant is associated to an Azure subscription. Access control for the subscription is configured as shown in the Access control exhibit. (Click the Access<br/>Control tab.)<br/><img class=\"in-exam-image\" src=\"./AZ-104_Exam_ ExamTopics_files/0008700001.jpg\"/><br/>You sign in to the Azure portal as Admin1 and configure the tenant as shown in the Tenant exhibit. (Click the Tenant tab.)<br/><img class=\"in-exam-image\" src=\"./AZ-104_Exam_ ExamTopics_files/0008800001.jpg\"/><br/>For each of the following statements, select Yes if the statement is true. Otherwise, select No.<br/>NOTE: Each correct selection is worth one point.<br/>Hot Area:<br/><img class=\"in-exam-image\" src=\"./AZ-104_Exam_ ExamTopics_files/0008900001.jpg\"/><br/>\n",
       "</p>\n",
       "<!-- exam-view49 -->\n",
       "<!-- exam-view410 -->\n",
       "<a class=\"btn btn-primary reveal-solution d-print-none\" href=\"https://www.examtopics.com/exams/microsoft/az-104/view/#\">Reveal Solution</a>\n",
       "<a class=\"btn btn-primary hide-solution d-none d-print-none\" href=\"https://www.examtopics.com/exams/microsoft/az-104/view/#\">Hide Solution</a>\n",
       "<a class=\"btn btn-secondary question-discussion-button d-print-none\" href=\"https://www.examtopics.com/exams/microsoft/az-104/view/#\">\n",
       "<i class=\"fa fa-comment\"></i>\n",
       "                                              Discussion  \n",
       "                                            \n",
       "                                                <span class=\"badge badge-pill badge-light\">101</span>\n",
       "</a>\n",
       "<!-- exam-view411 -->\n",
       "\n",
       "<!-- exam-view412 -->\n",
       "</div>\n",
       "</div></body></html>"
      ],
      "text/plain": [
       "<IPython.core.display.HTML object>"
      ]
     },
     "execution_count": 68,
     "metadata": {},
     "output_type": "execute_result"
    }
   ],
   "source": [
    "\n",
    "HTML('<body><html>'+str(questions[htmlQRef[48]])+'</body></html>')"
   ]
  },
  {
   "cell_type": "markdown",
   "metadata": {},
   "source": [
    "Question 50"
   ]
  },
  {
   "cell_type": "code",
   "execution_count": 69,
   "metadata": {},
   "outputs": [
    {
     "data": {
      "text/html": [
       "<body><html><div class=\"card exam-question-card\">\n",
       "<div class=\"card-header text-white bg-primary\">\n",
       "                                    Question #24\n",
       "                                    <span class=\"question-title-topic pull-right\">\n",
       "                                        Topic 2\n",
       "                                    </span>\n",
       "</div>\n",
       "<div class=\"card-body question-body\" data-id=\"804316\">\n",
       "<p class=\"card-text\">\n",
       "                                        \n",
       "                                        \n",
       "                                            You have an Azure subscription named Subscription1. Subscription1 contains the resource groups in the following table.<br/><img class=\"in-exam-image\" src=\"./AZ-104_Exam_ ExamTopics_files/0006700001.png\"/><br/>RG1 has a web app named WebApp1. WebApp1 is located in West Europe.<br/>You move WebApp1 to RG2.<br/>What is the effect of the move?<br/>\n",
       "</p>\n",
       "<!-- exam-view49 -->\n",
       "<div class=\"question-choices-container\">\n",
       "<div class=\"voted-answers-tally d-none\">\n",
       "<script id=\"804316\" type=\"application/json\">[{\"voted_answers\": \"A\", \"vote_count\": 47, \"is_most_voted\": true}, {\"voted_answers\": \"C\", \"vote_count\": 1, \"is_most_voted\": false}]</script>\n",
       "</div>\n",
       "<ul>\n",
       "<li class=\"multi-choice-item correct-hidden\">\n",
       "<span class=\"multi-choice-letter\" data-choice-letter=\"A\">\n",
       "                                                                A.\n",
       "                                                            </span>\n",
       "                                                        \n",
       "                                                        The App Service plan for WebApp1 remains in West Europe. Policy2 applies to WebApp1.\n",
       "                                                    <span class=\"badge badge-success most-voted-answer-badge\" data-original-title=\"This answer is currently the most voted for in the discussion\" style=\"display: none;\" title=\"\">\n",
       "                Most Voted\n",
       "            </span></li>\n",
       "<li class=\"multi-choice-item\">\n",
       "<span class=\"multi-choice-letter\" data-choice-letter=\"B\">\n",
       "                                                                B.\n",
       "                                                            </span>\n",
       "                                                        \n",
       "                                                        The App Service plan for WebApp1 moves to North Europe. Policy2 applies to WebApp1.\n",
       "                                                    </li>\n",
       "<li class=\"multi-choice-item\">\n",
       "<span class=\"multi-choice-letter\" data-choice-letter=\"C\">\n",
       "                                                                C.\n",
       "                                                            </span>\n",
       "                                                        \n",
       "                                                        The App Service plan for WebApp1 remains in West Europe. Policy1 applies to WebApp1.\n",
       "                                                    </li>\n",
       "<li class=\"multi-choice-item\">\n",
       "<span class=\"multi-choice-letter\" data-choice-letter=\"D\">\n",
       "                                                                D.\n",
       "                                                            </span>\n",
       "                                                        \n",
       "                                                        The App Service plan for WebApp1 moves to North Europe. Policy1 applies to WebApp1.\n",
       "                                                    </li>\n",
       "</ul>\n",
       "</div>\n",
       "<!-- exam-view410 -->\n",
       "<a class=\"btn btn-primary reveal-solution d-print-none\" href=\"https://www.examtopics.com/exams/microsoft/az-104/view/#\">Reveal Solution</a>\n",
       "<a class=\"btn btn-primary hide-solution d-none d-print-none\" href=\"https://www.examtopics.com/exams/microsoft/az-104/view/#\">Hide Solution</a>\n",
       "<a class=\"btn btn-secondary question-discussion-button d-print-none\" href=\"https://www.examtopics.com/exams/microsoft/az-104/view/#\">\n",
       "<i class=\"fa fa-comment\"></i>\n",
       "                                              Discussion  \n",
       "                                            \n",
       "                                                <span class=\"badge badge-pill badge-light\">103</span>\n",
       "</a>\n",
       "<!-- exam-view411 -->\n",
       "\n",
       "<!-- exam-view412 -->\n",
       "</div>\n",
       "</div></body></html>"
      ],
      "text/plain": [
       "<IPython.core.display.HTML object>"
      ]
     },
     "execution_count": 69,
     "metadata": {},
     "output_type": "execute_result"
    }
   ],
   "source": [
    "\n",
    "HTML('<body><html>'+str(questions[htmlQRef[49]])+'</body></html>')"
   ]
  }
 ],
 "metadata": {
  "kernelspec": {
   "display_name": "venv",
   "language": "python",
   "name": "python3"
  },
  "language_info": {
   "codemirror_mode": {
    "name": "ipython",
    "version": 3
   },
   "file_extension": ".py",
   "mimetype": "text/x-python",
   "name": "python",
   "nbconvert_exporter": "python",
   "pygments_lexer": "ipython3",
   "version": "3.11.0"
  },
  "orig_nbformat": 4
 },
 "nbformat": 4,
 "nbformat_minor": 2
}
